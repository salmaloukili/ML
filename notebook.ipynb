{
 "cells": [
  {
   "cell_type": "markdown",
   "metadata": {},
   "source": [
    "# INTRODUCTION"
   ]
  },
  {
   "cell_type": "markdown",
   "metadata": {},
   "source": []
  },
  {
   "cell_type": "markdown",
   "metadata": {},
   "source": [
    "# IMPORT & SETUP"
   ]
  },
  {
   "cell_type": "code",
   "execution_count": 5,
   "metadata": {},
   "outputs": [],
   "source": [
    "import numpy as np\n",
    "import pandas as pd\n",
    "import matplotlib.pyplot as plt\n",
    "from matplotlib.gridspec import GridSpec\n",
    "import tensorflow as tf\n",
    "from tensorflow.keras.models import Sequential\n",
    "from tensorflow.keras.layers import Dense, LeakyReLU\n",
    "from tensorflow.keras.activations import linear, relu, sigmoid\n",
    "import seaborn as sns\n",
    "\n",
    "\n",
    "import sklearn\n",
    "from sklearn import linear_model\n",
    "from sklearn import ensemble\n",
    "from sklearn import metrics\n",
    "from sklearn.model_selection import train_test_split\n",
    "from sklearn.metrics import confusion_matrix, precision_recall_curve, mean_absolute_error, f1_score, accuracy_score\n",
    "from sklearn.pipeline import Pipeline\n",
    "from sklearn.neural_network import MLPClassifier\n"
   ]
  },
  {
   "cell_type": "markdown",
   "metadata": {},
   "source": [
    "# THE DATASET"
   ]
  },
  {
   "cell_type": "markdown",
   "metadata": {},
   "source": [
    "##### Features: \n",
    "###### We see here an example entry from the dataset, we count 45 features, two of which are target features"
   ]
  },
  {
   "cell_type": "code",
   "execution_count": 25,
   "metadata": {},
   "outputs": [
    {
     "name": "stdout",
     "output_type": "stream",
     "text": [
      "0 \t  Patient Id \t \t \t PID0x97c3 \n",
      "\n",
      "1 \t  Patient Age \t \t \t 9.0 \n",
      "\n",
      "2 \t  Genes in mother's side \t \t \t No \n",
      "\n",
      "3 \t  Inherited from father \t \t \t Yes \n",
      "\n",
      "4 \t  Maternal gene \t \t \t No \n",
      "\n",
      "5 \t  Paternal gene \t \t \t Yes \n",
      "\n",
      "6 \t  Blood cell count (mcL) \t \t \t 5.0282352663130565 \n",
      "\n",
      "7 \t  Patient First Name \t \t \t Elton \n",
      "\n",
      "8 \t  Family Name \t \t \t Browning \n",
      "\n",
      "9 \t  Father's name \t \t \t Abdihamid \n",
      "\n",
      "10 \t  Mother's age \t \t \t 30.0 \n",
      "\n",
      "11 \t  Father's age \t \t \t 50.0 \n",
      "\n",
      "12 \t  Institute Name \t \t \t New England Baptist Hospital \n",
      "\n",
      "13 \t  Location of Institute \t \t \t 125 NASHUA ST\n",
      "CENTRAL, MA 02114\n",
      "(42.36764789068138, -71.06564730220646) \n",
      "\n",
      "14 \t  Status \t \t \t Alive \n",
      "\n",
      "15 \t  Respiratory Rate (breaths/min) \t \t \t Normal (30-60) \n",
      "\n",
      "16 \t  Heart Rate (rates/min \t \t \t Normal \n",
      "\n",
      "17 \t  Test 1 \t \t \t 0.0 \n",
      "\n",
      "18 \t  Test 2 \t \t \t 0.0 \n",
      "\n",
      "19 \t  Test 3 \t \t \t 0.0 \n",
      "\n",
      "20 \t  Test 4 \t \t \t 1.0 \n",
      "\n",
      "21 \t  Test 5 \t \t \t 0.0 \n",
      "\n",
      "22 \t  Parental consent \t \t \t Yes \n",
      "\n",
      "23 \t  Follow-up \t \t \t High \n",
      "\n",
      "24 \t  Gender \t \t \t Female \n",
      "\n",
      "25 \t  Birth asphyxia \t \t \t No record \n",
      "\n",
      "26 \t  Autopsy shows birth defect (if applicable) \t \t \t Not applicable \n",
      "\n",
      "27 \t  Place of birth \t \t \t Institute \n",
      "\n",
      "28 \t  Folic acid details (peri-conceptional) \t \t \t No \n",
      "\n",
      "29 \t  H/O serious maternal illness \t \t \t No \n",
      "\n",
      "30 \t  H/O radiation exposure (x-ray) \t \t \t No \n",
      "\n",
      "31 \t  H/O substance abuse \t \t \t - \n",
      "\n",
      "32 \t  Assisted conception IVF/ART \t \t \t No \n",
      "\n",
      "33 \t  History of anomalies in previous pregnancies \t \t \t No \n",
      "\n",
      "34 \t  No. of previous abortion \t \t \t 1.0 \n",
      "\n",
      "35 \t  Birth defects \t \t \t Singular \n",
      "\n",
      "36 \t  White Blood cell count (thousand per microliter) \t \t \t 7.237477762998928 \n",
      "\n",
      "37 \t  Blood test result \t \t \t abnormal \n",
      "\n",
      "38 \t  Symptom 1 \t \t \t 0.0 \n",
      "\n",
      "39 \t  Symptom 2 \t \t \t 0.0 \n",
      "\n",
      "40 \t  Symptom 3 \t \t \t 0.0 \n",
      "\n",
      "41 \t  Symptom 4 \t \t \t 0.0 \n",
      "\n",
      "42 \t  Symptom 5 \t \t \t 1.0 \n",
      "\n",
      "43 \t  Genetic Disorder \t \t \t Single-gene inheritance diseases \n",
      "\n",
      "44 \t  Disorder Subclass \t \t \t Hemochromatosis \n",
      "\n"
     ]
    }
   ],
   "source": [
    "file_path = 'train.csv' \n",
    "data = pd.read_csv(file_path)\n",
    "\n",
    "\n",
    "i = 0\n",
    "for column in data.columns:\n",
    "    print(i, \"\\t \", column, \"\\t \\t \\t\", data[column][50], \"\\n\")\n",
    "    i = i+1\n"
   ]
  },
  {
   "cell_type": "markdown",
   "metadata": {},
   "source": [
    "##### Target features"
   ]
  },
  {
   "cell_type": "code",
   "execution_count": 29,
   "metadata": {},
   "outputs": [
    {
     "name": "stdout",
     "output_type": "stream",
     "text": [
      "Number of unique disease-subclass combinations: 9\n",
      "\n",
      "Unique Combinations of Disease and Subclass:\n"
     ]
    },
    {
     "data": {
      "text/html": [
       "<div>\n",
       "<style scoped>\n",
       "    .dataframe tbody tr th:only-of-type {\n",
       "        vertical-align: middle;\n",
       "    }\n",
       "\n",
       "    .dataframe tbody tr th {\n",
       "        vertical-align: top;\n",
       "    }\n",
       "\n",
       "    .dataframe thead th {\n",
       "        text-align: right;\n",
       "    }\n",
       "</style>\n",
       "<table border=\"1\" class=\"dataframe\">\n",
       "  <thead>\n",
       "    <tr style=\"text-align: right;\">\n",
       "      <th></th>\n",
       "      <th>Genetic Disorder</th>\n",
       "      <th>Disorder Subclass</th>\n",
       "      <th>Count</th>\n",
       "    </tr>\n",
       "  </thead>\n",
       "  <tbody>\n",
       "    <tr>\n",
       "      <th>0</th>\n",
       "      <td>Mitochondrial genetic inheritance disorders</td>\n",
       "      <td>Leber's hereditary optic neuropathy</td>\n",
       "      <td>587</td>\n",
       "    </tr>\n",
       "    <tr>\n",
       "      <th>1</th>\n",
       "      <td>Mitochondrial genetic inheritance disorders</td>\n",
       "      <td>Leigh syndrome</td>\n",
       "      <td>4683</td>\n",
       "    </tr>\n",
       "    <tr>\n",
       "      <th>2</th>\n",
       "      <td>Mitochondrial genetic inheritance disorders</td>\n",
       "      <td>Mitochondrial myopathy</td>\n",
       "      <td>3971</td>\n",
       "    </tr>\n",
       "    <tr>\n",
       "      <th>3</th>\n",
       "      <td>Multifactorial genetic inheritance disorders</td>\n",
       "      <td>Alzheimer's</td>\n",
       "      <td>133</td>\n",
       "    </tr>\n",
       "    <tr>\n",
       "      <th>4</th>\n",
       "      <td>Multifactorial genetic inheritance disorders</td>\n",
       "      <td>Cancer</td>\n",
       "      <td>91</td>\n",
       "    </tr>\n",
       "    <tr>\n",
       "      <th>5</th>\n",
       "      <td>Multifactorial genetic inheritance disorders</td>\n",
       "      <td>Diabetes</td>\n",
       "      <td>1653</td>\n",
       "    </tr>\n",
       "    <tr>\n",
       "      <th>6</th>\n",
       "      <td>Single-gene inheritance diseases</td>\n",
       "      <td>Cystic fibrosis</td>\n",
       "      <td>3145</td>\n",
       "    </tr>\n",
       "    <tr>\n",
       "      <th>7</th>\n",
       "      <td>Single-gene inheritance diseases</td>\n",
       "      <td>Hemochromatosis</td>\n",
       "      <td>1228</td>\n",
       "    </tr>\n",
       "    <tr>\n",
       "      <th>8</th>\n",
       "      <td>Single-gene inheritance diseases</td>\n",
       "      <td>Tay-Sachs</td>\n",
       "      <td>2556</td>\n",
       "    </tr>\n",
       "  </tbody>\n",
       "</table>\n",
       "</div>"
      ],
      "text/plain": [
       "                               Genetic Disorder  \\\n",
       "0   Mitochondrial genetic inheritance disorders   \n",
       "1   Mitochondrial genetic inheritance disorders   \n",
       "2   Mitochondrial genetic inheritance disorders   \n",
       "3  Multifactorial genetic inheritance disorders   \n",
       "4  Multifactorial genetic inheritance disorders   \n",
       "5  Multifactorial genetic inheritance disorders   \n",
       "6              Single-gene inheritance diseases   \n",
       "7              Single-gene inheritance diseases   \n",
       "8              Single-gene inheritance diseases   \n",
       "\n",
       "                     Disorder Subclass  Count  \n",
       "0  Leber's hereditary optic neuropathy    587  \n",
       "1                       Leigh syndrome   4683  \n",
       "2               Mitochondrial myopathy   3971  \n",
       "3                          Alzheimer's    133  \n",
       "4                               Cancer     91  \n",
       "5                             Diabetes   1653  \n",
       "6                      Cystic fibrosis   3145  \n",
       "7                      Hemochromatosis   1228  \n",
       "8                            Tay-Sachs   2556  "
      ]
     },
     "execution_count": 29,
     "metadata": {},
     "output_type": "execute_result"
    }
   ],
   "source": [
    "disease_col = 'Genetic Disorder'  \n",
    "subclass_col = 'Disorder Subclass'  \n",
    "\n",
    "\n",
    "grouped_data = data.groupby([disease_col, subclass_col]).size().reset_index(name='Count')\n",
    "num_combinations = grouped_data.shape[0]\n",
    "print(f\"Number of unique disease-subclass combinations: {num_combinations}\")\n",
    "\n",
    "\n",
    "print(\"\\nUnique Combinations of Disease and Subclass:\")\n",
    "grouped_data.head(10)\n"
   ]
  },
  {
   "cell_type": "markdown",
   "metadata": {},
   "source": [
    "###### There are 3 genetic disorders, each with 3 subclasses. \n",
    "###### We notice that there are null entries in the target features, these will not be able to controbute to the model"
   ]
  },
  {
   "cell_type": "code",
   "execution_count": null,
   "metadata": {},
   "outputs": [],
   "source": []
  }
 ],
 "metadata": {
  "kernelspec": {
   "display_name": "base",
   "language": "python",
   "name": "python3"
  },
  "language_info": {
   "codemirror_mode": {
    "name": "ipython",
    "version": 3
   },
   "file_extension": ".py",
   "mimetype": "text/x-python",
   "name": "python",
   "nbconvert_exporter": "python",
   "pygments_lexer": "ipython3",
   "version": "3.10.13"
  }
 },
 "nbformat": 4,
 "nbformat_minor": 2
}
