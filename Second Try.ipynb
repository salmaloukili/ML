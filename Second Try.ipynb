{
 "cells": [
  {
   "cell_type": "code",
   "execution_count": 46,
   "id": "initial_id",
   "metadata": {
    "collapsed": true,
    "ExecuteTime": {
     "end_time": "2023-12-15T16:49:41.647881644Z",
     "start_time": "2023-12-15T16:49:41.601222817Z"
    }
   },
   "outputs": [],
   "source": [
    "import pandas as pd\n",
    "from matplotlib import pyplot as plt\n",
    "from sklearn.compose import ColumnTransformer\n",
    "from sklearn.ensemble import HistGradientBoostingRegressor, RandomForestClassifier, GradientBoostingClassifier\n",
    "from sklearn.impute import KNNImputer\n",
    "from sklearn.linear_model import LogisticRegression\n",
    "from sklearn.model_selection import cross_validate\n",
    "from sklearn.naive_bayes import GaussianNB\n",
    "from sklearn.neighbors import KNeighborsClassifier\n",
    "from sklearn.pipeline import make_pipeline\n",
    "from sklearn.preprocessing import OrdinalEncoder, OneHotEncoder, TargetEncoder, LabelEncoder, RobustScaler\n",
    "from sklearn.tree import DecisionTreeClassifier"
   ]
  },
  {
   "cell_type": "code",
   "execution_count": 38,
   "outputs": [],
   "source": [
    "file_path = 'dataset/train.csv'\n",
    "\n",
    "data = pd.read_csv(file_path).dropna(subset=[\"Genetic Disorder\", \"Disorder Subclass\"], how='all')\n",
    "\n",
    "columns_to_drop = ['Institute Name', 'Location of Institute', \"Father's name\", \"Parental consent\",\n",
    "                   'Patient First Name', 'Family Name', 'Patient Id']\n",
    "data = data.drop(columns=columns_to_drop)\n",
    "# Fill missing values in 'Genetic Disorder' based on 'Disorder Subclass'\n",
    "subclass_to_disorder = {\n",
    "    'Leber\\'s hereditary optic neuropathy': 'Mitochondrial genetic inheritance disorders',\n",
    "    'Leigh syndrome': 'Mitochondrial genetic inheritance disorders',\n",
    "    'Mitochondrial myopathy': 'Mitochondrial genetic inheritance disorders',\n",
    "    'Alzheimer\\'s': 'Multifactorial genetic inheritance disorders',\n",
    "    'Cancer': 'Multifactorial genetic inheritance disorders',\n",
    "    'Diabetes': 'Multifactorial genetic inheritance disorders',\n",
    "    'Cystic fibrosis': 'Single-gene inheritance diseases',\n",
    "    'Hemochromatosis': 'Single-gene inheritance diseases',\n",
    "    'Tay-Sachs': 'Single-gene inheritance diseases',\n",
    "}\n",
    "\n",
    "data['Genetic Disorder'] = data.apply(\n",
    "    lambda row: subclass_to_disorder[row['Disorder Subclass']]\n",
    "    if pd.isna(row['Genetic Disorder']) else row['Genetic Disorder'],\n",
    "    axis=1\n",
    ")\n",
    "data = data.dropna(subset=['Disorder Subclass'], how='all').drop(columns=['Genetic Disorder'])"
   ],
   "metadata": {
    "collapsed": false,
    "ExecuteTime": {
     "end_time": "2023-12-15T16:43:23.957969455Z",
     "start_time": "2023-12-15T16:43:23.729375316Z"
    }
   },
   "id": "9760bdbb2d9bf00a"
  },
  {
   "cell_type": "code",
   "execution_count": 39,
   "outputs": [],
   "source": [
    "numerical_features = [\n",
    "    'Patient Age',\n",
    "    \"Mother\\'s age\",\n",
    "    \"Father\\'s age\",\n",
    "    'No. of previous abortion',\n",
    "    'White Blood cell count (thousand per microliter)',\n",
    "]\n",
    "\n",
    "categorical_features = [\n",
    "    'History of anomalies in previous pregnancies',\n",
    "    'Autopsy shows birth defect (if applicable)',\n",
    "    'H/O substance abuse',\n",
    "    'Inherited from father',\n",
    "    'Maternal gene',\n",
    "    'H/O serious maternal illness',\n",
    "    'H/O radiation exposure (x-ray)',\n",
    "    'Place of birth',\n",
    "    'Birth asphyxia',\n",
    "    'Respiratory Rate (breaths/min)',\n",
    "    'Heart Rate (rates/min',\n",
    "    'Follow-up',\n",
    "    'Folic acid details (peri-conceptional)',\n",
    "    'Assisted conception IVF/ART',\n",
    "    'Birth defects',\n",
    "    'Gender',\n",
    "    'Blood test result',\n",
    "    \"Genes in mother's side\",\n",
    "    \"Paternal gene\",\n",
    "    \"Status\",\n",
    "    'Symptom 2',\n",
    "    'Symptom 1',\n",
    "    'Symptom 3',\n",
    "    'Symptom 4',\n",
    "    'Symptom 5',\n",
    "    'Test 3',\n",
    "    'Test 2',\n",
    "    'Test 1',\n",
    "    'Test 4',\n",
    "    'Test 5',\n",
    "]\n",
    "\n",
    "target_name = \"Disorder Subclass\"\n",
    "\n",
    "X = data[numerical_features + categorical_features]\n",
    "label_encoder = LabelEncoder()\n",
    "y = label_encoder.fit_transform(data[target_name])"
   ],
   "metadata": {
    "collapsed": false,
    "ExecuteTime": {
     "end_time": "2023-12-15T16:43:25.835989383Z",
     "start_time": "2023-12-15T16:43:25.828897194Z"
    }
   },
   "id": "4e6e6dd4c9bf087d"
  },
  {
   "cell_type": "code",
   "execution_count": 44,
   "outputs": [],
   "source": [
    "categorical_preprocessors = [\n",
    "    (\"drop\", \"drop\"),\n",
    "    (\"ordinal\", OrdinalEncoder(handle_unknown=\"use_encoded_value\", unknown_value=-1)),\n",
    "    (\n",
    "        \"one_hot\",\n",
    "        OneHotEncoder(handle_unknown=\"ignore\", max_categories=20, sparse_output=False),\n",
    "    ),\n",
    "    (\"target\", TargetEncoder()),\n",
    "]"
   ],
   "metadata": {
    "collapsed": false,
    "ExecuteTime": {
     "end_time": "2023-12-15T16:45:35.644548951Z",
     "start_time": "2023-12-15T16:45:35.599965860Z"
    }
   },
   "id": "ad5b231134321acc"
  },
  {
   "cell_type": "code",
   "execution_count": 47,
   "outputs": [
    {
     "ename": "ValueError",
     "evalue": "\nAll the 3 fits failed.\nIt is very likely that your model is misconfigured.\nYou can try to debug the error by setting error_score='raise'.\n\nBelow are more details about the failures:\n--------------------------------------------------------------------------------\n3 fits failed with the following error:\nTraceback (most recent call last):\n  File \"/home/nicogusuarez/Documents/.venvs/ML/lib/python3.10/site-packages/sklearn/model_selection/_validation.py\", line 729, in _fit_and_score\n    estimator.fit(X_train, y_train, **fit_params)\n  File \"/home/nicogusuarez/Documents/.venvs/ML/lib/python3.10/site-packages/sklearn/base.py\", line 1152, in wrapper\n    return fit_method(estimator, *args, **kwargs)\n  File \"/home/nicogusuarez/Documents/.venvs/ML/lib/python3.10/site-packages/sklearn/pipeline.py\", line 423, in fit\n    Xt = self._fit(X, y, **fit_params_steps)\n  File \"/home/nicogusuarez/Documents/.venvs/ML/lib/python3.10/site-packages/sklearn/pipeline.py\", line 377, in _fit\n    X, fitted_transformer = fit_transform_one_cached(\n  File \"/home/nicogusuarez/Documents/.venvs/ML/lib/python3.10/site-packages/joblib/memory.py\", line 353, in __call__\n    return self.func(*args, **kwargs)\n  File \"/home/nicogusuarez/Documents/.venvs/ML/lib/python3.10/site-packages/sklearn/pipeline.py\", line 957, in _fit_transform_one\n    res = transformer.fit_transform(X, y, **fit_params)\n  File \"/home/nicogusuarez/Documents/.venvs/ML/lib/python3.10/site-packages/sklearn/utils/_set_output.py\", line 157, in wrapped\n    data_to_wrap = f(self, X, *args, **kwargs)\n  File \"/home/nicogusuarez/Documents/.venvs/ML/lib/python3.10/site-packages/sklearn/base.py\", line 1152, in wrapper\n    return fit_method(estimator, *args, **kwargs)\n  File \"/home/nicogusuarez/Documents/.venvs/ML/lib/python3.10/site-packages/sklearn/compose/_column_transformer.py\", line 754, in fit_transform\n    result = self._fit_transform(X, y, _fit_transform_one)\n  File \"/home/nicogusuarez/Documents/.venvs/ML/lib/python3.10/site-packages/sklearn/compose/_column_transformer.py\", line 681, in _fit_transform\n    return Parallel(n_jobs=self.n_jobs)(\n  File \"/home/nicogusuarez/Documents/.venvs/ML/lib/python3.10/site-packages/sklearn/utils/parallel.py\", line 65, in __call__\n    return super().__call__(iterable_with_config)\n  File \"/home/nicogusuarez/Documents/.venvs/ML/lib/python3.10/site-packages/joblib/parallel.py\", line 1863, in __call__\n    return output if self.return_generator else list(output)\n  File \"/home/nicogusuarez/Documents/.venvs/ML/lib/python3.10/site-packages/joblib/parallel.py\", line 1792, in _get_sequential_output\n    res = func(*args, **kwargs)\n  File \"/home/nicogusuarez/Documents/.venvs/ML/lib/python3.10/site-packages/sklearn/utils/parallel.py\", line 127, in __call__\n    return self.function(*args, **kwargs)\n  File \"/home/nicogusuarez/Documents/.venvs/ML/lib/python3.10/site-packages/sklearn/pipeline.py\", line 957, in _fit_transform_one\n    res = transformer.fit_transform(X, y, **fit_params)\n  File \"/home/nicogusuarez/Documents/.venvs/ML/lib/python3.10/site-packages/sklearn/utils/_set_output.py\", line 157, in wrapped\n    data_to_wrap = f(self, X, *args, **kwargs)\n  File \"/home/nicogusuarez/Documents/.venvs/ML/lib/python3.10/site-packages/sklearn/base.py\", line 1152, in wrapper\n    return fit_method(estimator, *args, **kwargs)\n  File \"/home/nicogusuarez/Documents/.venvs/ML/lib/python3.10/site-packages/sklearn/preprocessing/_target_encoder.py\", line 230, in fit_transform\n    X_ordinal, X_known_mask, y, n_categories = self._fit_encodings_all(X, y)\n  File \"/home/nicogusuarez/Documents/.venvs/ML/lib/python3.10/site-packages/sklearn/preprocessing/_target_encoder.py\", line 306, in _fit_encodings_all\n    raise ValueError(\nValueError: Unknown label type: Target type was inferred to be 'multiclass'. Only ('binary', 'continuous') are supported.\n",
     "output_type": "error",
     "traceback": [
      "\u001B[0;31m---------------------------------------------------------------------------\u001B[0m",
      "\u001B[0;31mValueError\u001B[0m                                Traceback (most recent call last)",
      "Cell \u001B[0;32mIn[47], line 44\u001B[0m\n\u001B[1;32m     29\u001B[0m preprocessor \u001B[38;5;241m=\u001B[39m ColumnTransformer(\n\u001B[1;32m     30\u001B[0m     [\n\u001B[1;32m     31\u001B[0m         (\u001B[38;5;124m\"\u001B[39m\u001B[38;5;124mnumerical\u001B[39m\u001B[38;5;124m\"\u001B[39m, \u001B[38;5;124m\"\u001B[39m\u001B[38;5;124mpassthrough\u001B[39m\u001B[38;5;124m\"\u001B[39m, numerical_features),\n\u001B[1;32m     32\u001B[0m         (\u001B[38;5;124m\"\u001B[39m\u001B[38;5;124mcategorical\u001B[39m\u001B[38;5;124m\"\u001B[39m, categorical_preprocessor, categorical_features),\n\u001B[1;32m     33\u001B[0m     ]\n\u001B[1;32m     34\u001B[0m )\n\u001B[1;32m     35\u001B[0m pipe \u001B[38;5;241m=\u001B[39m make_pipeline(\n\u001B[1;32m     36\u001B[0m     \u001B[38;5;66;03m# preprocessor, HistGradientBoostingRegressor(random_state=0, max_iter=max_iter),\u001B[39;00m\n\u001B[1;32m     37\u001B[0m     \u001B[38;5;66;03m# preprocessor, LogisticRegression(solver=\"liblinear\"),\u001B[39;00m\n\u001B[0;32m   (...)\u001B[0m\n\u001B[1;32m     42\u001B[0m     preprocessor, KNNImputer(n_neighbors\u001B[38;5;241m=\u001B[39m\u001B[38;5;241m5\u001B[39m), RobustScaler(), GradientBoostingClassifier(verbose\u001B[38;5;241m=\u001B[39m\u001B[38;5;28;01mFalse\u001B[39;00m)\n\u001B[1;32m     43\u001B[0m )\n\u001B[0;32m---> 44\u001B[0m \u001B[43mevaluate_model_and_store\u001B[49m\u001B[43m(\u001B[49m\u001B[43mname\u001B[49m\u001B[43m,\u001B[49m\u001B[43m \u001B[49m\u001B[43mpipe\u001B[49m\u001B[43m)\u001B[49m\n",
      "Cell \u001B[0;32mIn[47], line 7\u001B[0m, in \u001B[0;36mevaluate_model_and_store\u001B[0;34m(name, pipe)\u001B[0m\n\u001B[1;32m      6\u001B[0m \u001B[38;5;28;01mdef\u001B[39;00m \u001B[38;5;21mevaluate_model_and_store\u001B[39m(name, pipe):\n\u001B[0;32m----> 7\u001B[0m     result \u001B[38;5;241m=\u001B[39m \u001B[43mcross_validate\u001B[49m\u001B[43m(\u001B[49m\n\u001B[1;32m      8\u001B[0m \u001B[43m        \u001B[49m\u001B[43mpipe\u001B[49m\u001B[43m,\u001B[49m\n\u001B[1;32m      9\u001B[0m \u001B[43m        \u001B[49m\u001B[43mX\u001B[49m\u001B[43m,\u001B[49m\n\u001B[1;32m     10\u001B[0m \u001B[43m        \u001B[49m\u001B[43my\u001B[49m\u001B[43m,\u001B[49m\n\u001B[1;32m     11\u001B[0m \u001B[43m        \u001B[49m\u001B[43mscoring\u001B[49m\u001B[38;5;241;43m=\u001B[39;49m\u001B[38;5;124;43m\"\u001B[39;49m\u001B[38;5;124;43mneg_root_mean_squared_error\u001B[39;49m\u001B[38;5;124;43m\"\u001B[39;49m\u001B[43m,\u001B[49m\n\u001B[1;32m     12\u001B[0m \u001B[43m        \u001B[49m\u001B[43mcv\u001B[49m\u001B[38;5;241;43m=\u001B[39;49m\u001B[43mn_cv_folds\u001B[49m\u001B[43m,\u001B[49m\n\u001B[1;32m     13\u001B[0m \u001B[43m        \u001B[49m\u001B[43mreturn_train_score\u001B[49m\u001B[38;5;241;43m=\u001B[39;49m\u001B[38;5;28;43;01mTrue\u001B[39;49;00m\u001B[43m,\u001B[49m\n\u001B[1;32m     14\u001B[0m \u001B[43m    \u001B[49m\u001B[43m)\u001B[49m\n\u001B[1;32m     15\u001B[0m     rmse_test_score \u001B[38;5;241m=\u001B[39m \u001B[38;5;241m-\u001B[39mresult[\u001B[38;5;124m\"\u001B[39m\u001B[38;5;124mtest_score\u001B[39m\u001B[38;5;124m\"\u001B[39m]\n\u001B[1;32m     16\u001B[0m     rmse_train_score \u001B[38;5;241m=\u001B[39m \u001B[38;5;241m-\u001B[39mresult[\u001B[38;5;124m\"\u001B[39m\u001B[38;5;124mtrain_score\u001B[39m\u001B[38;5;124m\"\u001B[39m]\n",
      "File \u001B[0;32m~/Documents/.venvs/ML/lib/python3.10/site-packages/sklearn/utils/_param_validation.py:214\u001B[0m, in \u001B[0;36mvalidate_params.<locals>.decorator.<locals>.wrapper\u001B[0;34m(*args, **kwargs)\u001B[0m\n\u001B[1;32m    208\u001B[0m \u001B[38;5;28;01mtry\u001B[39;00m:\n\u001B[1;32m    209\u001B[0m     \u001B[38;5;28;01mwith\u001B[39;00m config_context(\n\u001B[1;32m    210\u001B[0m         skip_parameter_validation\u001B[38;5;241m=\u001B[39m(\n\u001B[1;32m    211\u001B[0m             prefer_skip_nested_validation \u001B[38;5;129;01mor\u001B[39;00m global_skip_validation\n\u001B[1;32m    212\u001B[0m         )\n\u001B[1;32m    213\u001B[0m     ):\n\u001B[0;32m--> 214\u001B[0m         \u001B[38;5;28;01mreturn\u001B[39;00m \u001B[43mfunc\u001B[49m\u001B[43m(\u001B[49m\u001B[38;5;241;43m*\u001B[39;49m\u001B[43margs\u001B[49m\u001B[43m,\u001B[49m\u001B[43m \u001B[49m\u001B[38;5;241;43m*\u001B[39;49m\u001B[38;5;241;43m*\u001B[39;49m\u001B[43mkwargs\u001B[49m\u001B[43m)\u001B[49m\n\u001B[1;32m    215\u001B[0m \u001B[38;5;28;01mexcept\u001B[39;00m InvalidParameterError \u001B[38;5;28;01mas\u001B[39;00m e:\n\u001B[1;32m    216\u001B[0m     \u001B[38;5;66;03m# When the function is just a wrapper around an estimator, we allow\u001B[39;00m\n\u001B[1;32m    217\u001B[0m     \u001B[38;5;66;03m# the function to delegate validation to the estimator, but we replace\u001B[39;00m\n\u001B[1;32m    218\u001B[0m     \u001B[38;5;66;03m# the name of the estimator by the name of the function in the error\u001B[39;00m\n\u001B[1;32m    219\u001B[0m     \u001B[38;5;66;03m# message to avoid confusion.\u001B[39;00m\n\u001B[1;32m    220\u001B[0m     msg \u001B[38;5;241m=\u001B[39m re\u001B[38;5;241m.\u001B[39msub(\n\u001B[1;32m    221\u001B[0m         \u001B[38;5;124mr\u001B[39m\u001B[38;5;124m\"\u001B[39m\u001B[38;5;124mparameter of \u001B[39m\u001B[38;5;124m\\\u001B[39m\u001B[38;5;124mw+ must be\u001B[39m\u001B[38;5;124m\"\u001B[39m,\n\u001B[1;32m    222\u001B[0m         \u001B[38;5;124mf\u001B[39m\u001B[38;5;124m\"\u001B[39m\u001B[38;5;124mparameter of \u001B[39m\u001B[38;5;132;01m{\u001B[39;00mfunc\u001B[38;5;241m.\u001B[39m\u001B[38;5;18m__qualname__\u001B[39m\u001B[38;5;132;01m}\u001B[39;00m\u001B[38;5;124m must be\u001B[39m\u001B[38;5;124m\"\u001B[39m,\n\u001B[1;32m    223\u001B[0m         \u001B[38;5;28mstr\u001B[39m(e),\n\u001B[1;32m    224\u001B[0m     )\n",
      "File \u001B[0;32m~/Documents/.venvs/ML/lib/python3.10/site-packages/sklearn/model_selection/_validation.py:328\u001B[0m, in \u001B[0;36mcross_validate\u001B[0;34m(estimator, X, y, groups, scoring, cv, n_jobs, verbose, fit_params, pre_dispatch, return_train_score, return_estimator, return_indices, error_score)\u001B[0m\n\u001B[1;32m    308\u001B[0m parallel \u001B[38;5;241m=\u001B[39m Parallel(n_jobs\u001B[38;5;241m=\u001B[39mn_jobs, verbose\u001B[38;5;241m=\u001B[39mverbose, pre_dispatch\u001B[38;5;241m=\u001B[39mpre_dispatch)\n\u001B[1;32m    309\u001B[0m results \u001B[38;5;241m=\u001B[39m parallel(\n\u001B[1;32m    310\u001B[0m     delayed(_fit_and_score)(\n\u001B[1;32m    311\u001B[0m         clone(estimator),\n\u001B[0;32m   (...)\u001B[0m\n\u001B[1;32m    325\u001B[0m     \u001B[38;5;28;01mfor\u001B[39;00m train, test \u001B[38;5;129;01min\u001B[39;00m indices\n\u001B[1;32m    326\u001B[0m )\n\u001B[0;32m--> 328\u001B[0m \u001B[43m_warn_or_raise_about_fit_failures\u001B[49m\u001B[43m(\u001B[49m\u001B[43mresults\u001B[49m\u001B[43m,\u001B[49m\u001B[43m \u001B[49m\u001B[43merror_score\u001B[49m\u001B[43m)\u001B[49m\n\u001B[1;32m    330\u001B[0m \u001B[38;5;66;03m# For callable scoring, the return type is only know after calling. If the\u001B[39;00m\n\u001B[1;32m    331\u001B[0m \u001B[38;5;66;03m# return type is a dictionary, the error scores can now be inserted with\u001B[39;00m\n\u001B[1;32m    332\u001B[0m \u001B[38;5;66;03m# the correct key.\u001B[39;00m\n\u001B[1;32m    333\u001B[0m \u001B[38;5;28;01mif\u001B[39;00m \u001B[38;5;28mcallable\u001B[39m(scoring):\n",
      "File \u001B[0;32m~/Documents/.venvs/ML/lib/python3.10/site-packages/sklearn/model_selection/_validation.py:414\u001B[0m, in \u001B[0;36m_warn_or_raise_about_fit_failures\u001B[0;34m(results, error_score)\u001B[0m\n\u001B[1;32m    407\u001B[0m \u001B[38;5;28;01mif\u001B[39;00m num_failed_fits \u001B[38;5;241m==\u001B[39m num_fits:\n\u001B[1;32m    408\u001B[0m     all_fits_failed_message \u001B[38;5;241m=\u001B[39m (\n\u001B[1;32m    409\u001B[0m         \u001B[38;5;124mf\u001B[39m\u001B[38;5;124m\"\u001B[39m\u001B[38;5;130;01m\\n\u001B[39;00m\u001B[38;5;124mAll the \u001B[39m\u001B[38;5;132;01m{\u001B[39;00mnum_fits\u001B[38;5;132;01m}\u001B[39;00m\u001B[38;5;124m fits failed.\u001B[39m\u001B[38;5;130;01m\\n\u001B[39;00m\u001B[38;5;124m\"\u001B[39m\n\u001B[1;32m    410\u001B[0m         \u001B[38;5;124m\"\u001B[39m\u001B[38;5;124mIt is very likely that your model is misconfigured.\u001B[39m\u001B[38;5;130;01m\\n\u001B[39;00m\u001B[38;5;124m\"\u001B[39m\n\u001B[1;32m    411\u001B[0m         \u001B[38;5;124m\"\u001B[39m\u001B[38;5;124mYou can try to debug the error by setting error_score=\u001B[39m\u001B[38;5;124m'\u001B[39m\u001B[38;5;124mraise\u001B[39m\u001B[38;5;124m'\u001B[39m\u001B[38;5;124m.\u001B[39m\u001B[38;5;130;01m\\n\u001B[39;00m\u001B[38;5;130;01m\\n\u001B[39;00m\u001B[38;5;124m\"\u001B[39m\n\u001B[1;32m    412\u001B[0m         \u001B[38;5;124mf\u001B[39m\u001B[38;5;124m\"\u001B[39m\u001B[38;5;124mBelow are more details about the failures:\u001B[39m\u001B[38;5;130;01m\\n\u001B[39;00m\u001B[38;5;132;01m{\u001B[39;00mfit_errors_summary\u001B[38;5;132;01m}\u001B[39;00m\u001B[38;5;124m\"\u001B[39m\n\u001B[1;32m    413\u001B[0m     )\n\u001B[0;32m--> 414\u001B[0m     \u001B[38;5;28;01mraise\u001B[39;00m \u001B[38;5;167;01mValueError\u001B[39;00m(all_fits_failed_message)\n\u001B[1;32m    416\u001B[0m \u001B[38;5;28;01melse\u001B[39;00m:\n\u001B[1;32m    417\u001B[0m     some_fits_failed_message \u001B[38;5;241m=\u001B[39m (\n\u001B[1;32m    418\u001B[0m         \u001B[38;5;124mf\u001B[39m\u001B[38;5;124m\"\u001B[39m\u001B[38;5;130;01m\\n\u001B[39;00m\u001B[38;5;132;01m{\u001B[39;00mnum_failed_fits\u001B[38;5;132;01m}\u001B[39;00m\u001B[38;5;124m fits failed out of a total of \u001B[39m\u001B[38;5;132;01m{\u001B[39;00mnum_fits\u001B[38;5;132;01m}\u001B[39;00m\u001B[38;5;124m.\u001B[39m\u001B[38;5;130;01m\\n\u001B[39;00m\u001B[38;5;124m\"\u001B[39m\n\u001B[1;32m    419\u001B[0m         \u001B[38;5;124m\"\u001B[39m\u001B[38;5;124mThe score on these train-test partitions for these parameters\u001B[39m\u001B[38;5;124m\"\u001B[39m\n\u001B[0;32m   (...)\u001B[0m\n\u001B[1;32m    423\u001B[0m         \u001B[38;5;124mf\u001B[39m\u001B[38;5;124m\"\u001B[39m\u001B[38;5;124mBelow are more details about the failures:\u001B[39m\u001B[38;5;130;01m\\n\u001B[39;00m\u001B[38;5;132;01m{\u001B[39;00mfit_errors_summary\u001B[38;5;132;01m}\u001B[39;00m\u001B[38;5;124m\"\u001B[39m\n\u001B[1;32m    424\u001B[0m     )\n",
      "\u001B[0;31mValueError\u001B[0m: \nAll the 3 fits failed.\nIt is very likely that your model is misconfigured.\nYou can try to debug the error by setting error_score='raise'.\n\nBelow are more details about the failures:\n--------------------------------------------------------------------------------\n3 fits failed with the following error:\nTraceback (most recent call last):\n  File \"/home/nicogusuarez/Documents/.venvs/ML/lib/python3.10/site-packages/sklearn/model_selection/_validation.py\", line 729, in _fit_and_score\n    estimator.fit(X_train, y_train, **fit_params)\n  File \"/home/nicogusuarez/Documents/.venvs/ML/lib/python3.10/site-packages/sklearn/base.py\", line 1152, in wrapper\n    return fit_method(estimator, *args, **kwargs)\n  File \"/home/nicogusuarez/Documents/.venvs/ML/lib/python3.10/site-packages/sklearn/pipeline.py\", line 423, in fit\n    Xt = self._fit(X, y, **fit_params_steps)\n  File \"/home/nicogusuarez/Documents/.venvs/ML/lib/python3.10/site-packages/sklearn/pipeline.py\", line 377, in _fit\n    X, fitted_transformer = fit_transform_one_cached(\n  File \"/home/nicogusuarez/Documents/.venvs/ML/lib/python3.10/site-packages/joblib/memory.py\", line 353, in __call__\n    return self.func(*args, **kwargs)\n  File \"/home/nicogusuarez/Documents/.venvs/ML/lib/python3.10/site-packages/sklearn/pipeline.py\", line 957, in _fit_transform_one\n    res = transformer.fit_transform(X, y, **fit_params)\n  File \"/home/nicogusuarez/Documents/.venvs/ML/lib/python3.10/site-packages/sklearn/utils/_set_output.py\", line 157, in wrapped\n    data_to_wrap = f(self, X, *args, **kwargs)\n  File \"/home/nicogusuarez/Documents/.venvs/ML/lib/python3.10/site-packages/sklearn/base.py\", line 1152, in wrapper\n    return fit_method(estimator, *args, **kwargs)\n  File \"/home/nicogusuarez/Documents/.venvs/ML/lib/python3.10/site-packages/sklearn/compose/_column_transformer.py\", line 754, in fit_transform\n    result = self._fit_transform(X, y, _fit_transform_one)\n  File \"/home/nicogusuarez/Documents/.venvs/ML/lib/python3.10/site-packages/sklearn/compose/_column_transformer.py\", line 681, in _fit_transform\n    return Parallel(n_jobs=self.n_jobs)(\n  File \"/home/nicogusuarez/Documents/.venvs/ML/lib/python3.10/site-packages/sklearn/utils/parallel.py\", line 65, in __call__\n    return super().__call__(iterable_with_config)\n  File \"/home/nicogusuarez/Documents/.venvs/ML/lib/python3.10/site-packages/joblib/parallel.py\", line 1863, in __call__\n    return output if self.return_generator else list(output)\n  File \"/home/nicogusuarez/Documents/.venvs/ML/lib/python3.10/site-packages/joblib/parallel.py\", line 1792, in _get_sequential_output\n    res = func(*args, **kwargs)\n  File \"/home/nicogusuarez/Documents/.venvs/ML/lib/python3.10/site-packages/sklearn/utils/parallel.py\", line 127, in __call__\n    return self.function(*args, **kwargs)\n  File \"/home/nicogusuarez/Documents/.venvs/ML/lib/python3.10/site-packages/sklearn/pipeline.py\", line 957, in _fit_transform_one\n    res = transformer.fit_transform(X, y, **fit_params)\n  File \"/home/nicogusuarez/Documents/.venvs/ML/lib/python3.10/site-packages/sklearn/utils/_set_output.py\", line 157, in wrapped\n    data_to_wrap = f(self, X, *args, **kwargs)\n  File \"/home/nicogusuarez/Documents/.venvs/ML/lib/python3.10/site-packages/sklearn/base.py\", line 1152, in wrapper\n    return fit_method(estimator, *args, **kwargs)\n  File \"/home/nicogusuarez/Documents/.venvs/ML/lib/python3.10/site-packages/sklearn/preprocessing/_target_encoder.py\", line 230, in fit_transform\n    X_ordinal, X_known_mask, y, n_categories = self._fit_encodings_all(X, y)\n  File \"/home/nicogusuarez/Documents/.venvs/ML/lib/python3.10/site-packages/sklearn/preprocessing/_target_encoder.py\", line 306, in _fit_encodings_all\n    raise ValueError(\nValueError: Unknown label type: Target type was inferred to be 'multiclass'. Only ('binary', 'continuous') are supported.\n"
     ]
    }
   ],
   "source": [
    "n_cv_folds = 3\n",
    "max_iter = 20\n",
    "results = []\n",
    "\n",
    "\n",
    "def evaluate_model_and_store(name, pipe):\n",
    "    result = cross_validate(\n",
    "        pipe,\n",
    "        X,\n",
    "        y,\n",
    "        scoring=\"neg_root_mean_squared_error\",\n",
    "        cv=n_cv_folds,\n",
    "        return_train_score=True,\n",
    "    )\n",
    "    rmse_test_score = -result[\"test_score\"]\n",
    "    rmse_train_score = -result[\"train_score\"]\n",
    "    results.append(\n",
    "        {\n",
    "            \"preprocessor\": name,\n",
    "            \"rmse_test_mean\": rmse_test_score.mean(),\n",
    "            \"rmse_test_std\": rmse_train_score.std(),\n",
    "            \"rmse_train_mean\": rmse_train_score.mean(),\n",
    "            \"rmse_train_std\": rmse_train_score.std(),\n",
    "        }\n",
    "    )\n",
    "\n",
    "\n",
    "for name, categorical_preprocessor in categorical_preprocessors:\n",
    "    preprocessor = ColumnTransformer(\n",
    "        [\n",
    "            (\"numerical\", \"passthrough\", numerical_features),\n",
    "            (\"categorical\", categorical_preprocessor, categorical_features),\n",
    "        ]\n",
    "    )\n",
    "    pipe = make_pipeline(\n",
    "        # preprocessor, HistGradientBoostingRegressor(random_state=0, max_iter=max_iter),\n",
    "        # preprocessor, LogisticRegression(solver=\"liblinear\"),\n",
    "        # preprocessor, GaussianNB(),\n",
    "        # preprocessor, KNeighborsClassifier(n_neighbors=13),\n",
    "        # preprocessor, DecisionTreeClassifier(random_state=42),\n",
    "        # preprocessor, RandomForestClassifier(random_state=42, verbose=False),\n",
    "        preprocessor, KNNImputer(n_neighbors=5), RobustScaler(), GradientBoostingClassifier(verbose=False)\n",
    "    )\n",
    "    evaluate_model_and_store(name, pipe)\n"
   ],
   "metadata": {
    "collapsed": false,
    "ExecuteTime": {
     "end_time": "2023-12-15T16:56:05.380192Z",
     "start_time": "2023-12-15T16:49:45.108980254Z"
    }
   },
   "id": "f11d133c313b4f9"
  },
  {
   "cell_type": "code",
   "execution_count": 48,
   "outputs": [
    {
     "data": {
      "text/plain": "<Figure size 1200x800 with 2 Axes>",
      "image/png": "[encoded data removed]"
     },
     "metadata": {},
     "output_type": "display_data"
    }
   ],
   "source": [
    "results_df = (\n",
    "    pd.DataFrame(results).set_index(\"preprocessor\").sort_values(\"rmse_test_mean\")\n",
    ")\n",
    "\n",
    "fig, (ax1, ax2) = plt.subplots(\n",
    "    1, 2, figsize=(12, 8), sharey=True, constrained_layout=True\n",
    ")\n",
    "xticks = range(len(results_df))\n",
    "name_to_color = dict(\n",
    "    zip((r[\"preprocessor\"] for r in results), [\"C0\", \"C1\", \"C2\", \"C3\", \"C4\"])\n",
    ")\n",
    "\n",
    "for subset, ax in zip([\"test\", \"train\"], [ax1, ax2]):\n",
    "    mean, std = f\"rmse_{subset}_mean\", f\"rmse_{subset}_std\"\n",
    "    data = results_df[[mean, std]].sort_values(mean)\n",
    "    ax.bar(\n",
    "        x=xticks,\n",
    "        height=data[mean],\n",
    "        yerr=data[std],\n",
    "        width=0.9,\n",
    "        color=[name_to_color[name] for name in data.index],\n",
    "    )\n",
    "    ax.set(\n",
    "        title=f\"RMSE ({subset.title()})\",\n",
    "        xlabel=\"Encoding Scheme\",\n",
    "        xticks=xticks,\n",
    "        xticklabels=data.index,\n",
    "    )\n"
   ],
   "metadata": {
    "collapsed": false,
    "ExecuteTime": {
     "end_time": "2023-12-15T16:57:48.237552582Z",
     "start_time": "2023-12-15T16:57:47.846196085Z"
    }
   },
   "id": "78368a53217f2b74"
  }
 ],
 "metadata": {
  "kernelspec": {
   "display_name": "Python 3",
   "language": "python",
   "name": "python3"
  },
  "language_info": {
   "codemirror_mode": {
    "name": "ipython",
    "version": 2
   },
   "file_extension": ".py",
   "mimetype": "text/x-python",
   "name": "python",
   "nbconvert_exporter": "python",
   "pygments_lexer": "ipython2",
   "version": "2.7.6"
  }
 },
 "nbformat": 4,
 "nbformat_minor": 5
}
