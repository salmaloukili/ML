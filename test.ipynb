{
 "cells": [
  {
   "cell_type": "code",
   "execution_count": 1,
   "id": "initial_id",
   "metadata": {
    "collapsed": true,
    "ExecuteTime": {
     "end_time": "2023-12-18T20:18:06.077494149Z",
     "start_time": "2023-12-18T20:18:05.946956361Z"
    }
   },
   "outputs": [],
   "source": [
    "# IMPORT & SETUP\n",
    "import matplotlib.pyplot as plt\n",
    "import numpy as np\n",
    "import pandas as pd\n",
    "import seaborn as sns\n",
    "from sklearn.impute import SimpleImputer\n",
    "from sklearn.metrics import accuracy_score, recall_score, precision_score, confusion_matrix, ConfusionMatrixDisplay, \\\n",
    "    f1_score\n",
    "from sklearn.model_selection import train_test_split\n",
    "from sklearn.preprocessing import RobustScaler, LabelEncoder"
   ]
  },
  {
   "cell_type": "code",
   "execution_count": null,
   "outputs": [],
   "source": [],
   "metadata": {
    "collapsed": false
   },
   "id": "cef23a0b42ac2b2c"
  },
  {
   "cell_type": "code",
   "execution_count": 4,
   "outputs": [
    {
     "data": {
      "text/plain": "array([ 2.,  4.,  6., 12., 11., 14.,  3.,  7.,  1.,  0., nan, 10.,  5.,\n       13.,  8.,  9.])"
     },
     "execution_count": 4,
     "metadata": {},
     "output_type": "execute_result"
    }
   ],
   "source": [
    "file_path = 'data/train.csv' \n",
    "dataset = pd.read_csv(file_path)\n",
    "dataset['Patient Age'].unique()"
   ],
   "metadata": {
    "collapsed": false,
    "ExecuteTime": {
     "end_time": "2023-12-18T20:18:42.213628591Z",
     "start_time": "2023-12-18T20:18:42.064945956Z"
    }
   },
   "id": "f5322ddc88104052"
  },
  {
   "cell_type": "code",
   "execution_count": 60,
   "outputs": [],
   "source": [
    "label_encoder = LabelEncoder()\n",
    "\n",
    "file_path = 'data/train.csv' \n",
    "dataset = pd.read_csv(file_path)\n",
    "\n",
    "#----------------------------------PRE PROCESS--------------------------------------#\n",
    "#----------------------------------%%%%%%%%%%%%%--------------------------------------#\n",
    "\n",
    "# remove rows where both targets NaN\n",
    "dataset = dataset.dropna(subset=['Genetic Disorder', 'Disorder Subclass'], how='all')\n",
    "\n",
    "# remove irrelevant features\n",
    "columns_to_drop = ['Institute Name', 'Location of Institute', \"Father's name\", \n",
    "                   'Patient First Name', 'Family Name', 'Patient Id', 'Parental consent', \n",
    "                'Test 1', 'Test 2', 'Test 3', 'Test 4', 'Test 5']\n",
    "dataset = dataset.drop(columns=columns_to_drop)\n",
    "\n",
    "\n",
    "# Fill missing values in 'Genetic Disorder' based on 'Disorder Subclass'\n",
    "subclass_to_disorder = {\n",
    "    'Leber\\'s hereditary optic neuropathy': 'Mitochondrial genetic inheritance disorders',\n",
    "    'Leigh syndrome': 'Mitochondrial genetic inheritance disorders',\n",
    "    'Mitochondrial myopathy': 'Mitochondrial genetic inheritance disorders',\n",
    "    'Alzheimer\\'s': 'Multifactorial genetic inheritance disorders',\n",
    "    'Cancer': 'Multifactorial genetic inheritance disorders',\n",
    "    'Diabetes': 'Multifactorial genetic inheritance disorders',\n",
    "    'Cystic fibrosis': 'Single-gene inheritance diseases',\n",
    "    'Hemochromatosis': 'Single-gene inheritance diseases',\n",
    "    'Tay-Sachs': 'Single-gene inheritance diseases',\n",
    "}\n",
    "\n",
    "\n",
    "dataset['Genetic Disorder'] = dataset.apply(\n",
    "    lambda row: subclass_to_disorder[row['Disorder Subclass']] \n",
    "    if pd.isna(row['Genetic Disorder']) else row['Genetic Disorder'],\n",
    "    axis=1\n",
    ")\n",
    "\n",
    "\n",
    "#----------------------------------PRE PROCESS--------------------------------------#\n",
    "#----------------------------------%%%%%%%%%%%%%--------------------------------------#\n",
    "\n",
    "\n",
    "\n",
    "#  NUMERICAL --> MEDIAN IMPUTER\n",
    "\n",
    "\n",
    "\n",
    "\n",
    "# CATEGORIAL BINARY\n",
    "mode_imputer = SimpleImputer(strategy='most_frequent')\n",
    "dataset['Autopsy shows birth defect (if applicable)'] = dataset['Autopsy shows birth defect (if applicable)'].replace({'Yes': 1.0, 'No': 0.0, 'Not applicable': 0.0, 'None': 0.0})\n",
    "#dataset['Parental consent'] = dataset['Parental consent'].replace('Yes', 1.0)\n",
    "dataset['H/O substance abuse'] = dataset['H/O substance abuse'].replace({'No': 0.0, 'Yes':1.0, 'Not applicable':0.0, '-':0.0})\n",
    "dataset['Inherited from father'] = dataset['Inherited from father'].replace({'No': 0.0, 'Yes':1.0})\n",
    "dataset['Maternal gene'] = dataset['Maternal gene'].replace({'No': 0.0, 'Yes':1.0})\n",
    "dataset['History of anomalies in previous pregnancies'] = dataset['History of anomalies in previous pregnancies'].replace({'Yes': 1.0, 'No': 0.0})\n",
    "dataset['H/O serious maternal illness'] = dataset['H/O serious maternal illness'].replace({'Yes': 1.0, 'No': 0.0})\n",
    "dataset['H/O radiation exposure (x-ray)'] = dataset['H/O radiation exposure (x-ray)'].replace({'No': 0.0, '-': 0.0, 'Not applicable': 0.0, 'Yes':1.0})\n",
    "\n",
    "dataset['Place of birth'] = dataset['Place of birth'].replace({'Institute': 1.0, 'Home': 0.0})\n",
    "dataset['Place of birth'] = mode_imputer.fit_transform(dataset[['Place of birth']])\n",
    "# NaN non imputed --> -1.0\n",
    "dataset['Birth asphyxia'] = dataset['Birth asphyxia'].replace({'No': 0.0, 'No record': 0.0, 'Not available': -1.0, 'Yes':1.0})\n",
    "\n",
    "dataset['Respiratory Rate (breaths/min)'] = dataset['Respiratory Rate (breaths/min)'].replace({'Normal (30-60)': 0.0, 'Tachypnea': 1.0})\n",
    "dataset['Respiratory Rate (breaths/min)'] = mode_imputer.fit_transform(dataset[['Respiratory Rate (breaths/min)']]) \n",
    "\n",
    "dataset['Heart Rate (rates/min'] = dataset['Heart Rate (rates/min'].replace({'Normal': 0.0, 'Tachycardia': 1.0})\n",
    "dataset['Heart Rate (rates/min'] = mode_imputer.fit_transform(dataset[['Heart Rate (rates/min']])\n",
    "dataset['Follow-up'] = dataset['Follow-up'].replace({'High': 1.0, 'Low': 0.0})\n",
    "dataset['Follow-up'] = mode_imputer.fit_transform(dataset[['Follow-up']])\n",
    "\n",
    "dataset['Folic acid details (peri-conceptional)'] = dataset['Folic acid details (peri-conceptional)'].replace({'Yes': 1.0, 'No': 0.0})\n",
    "dataset['Assisted conception IVF/ART'] = dataset['Assisted conception IVF/ART'].replace({'Yes': 1.0, 'No': 0.0})\n",
    "dataset['Birth defects'] = dataset['Birth defects'].replace({'Multiple': 1.0, 'Singular': 0.0})\n",
    "\n",
    "# CATEGORIAL MULTICLASS\n",
    "dataset['Gender'] = dataset['Gender'].replace({'Male': 1.0, 'Female': 0.0, 'Ambiguous': 2.0})\n",
    "dataset['Blood test result'] = dataset['Blood test result'].replace({'normal': 0.0, 'inconclusive': -1.0, 'slightly abnormal': 0.5, 'abnormal': 1.0})\n",
    "\n",
    "# BINARY FEATURES WITH NO NaN\n",
    "dataset[\"Genes in mother's side\"] = dataset[\"Genes in mother's side\"].replace({'Yes': 1.0, 'No': 0.0})\n",
    "dataset[\"Paternal gene\"] = dataset[\"Paternal gene\"].replace({'Yes': 1.0, 'No': 0.0})\n",
    "dataset[\"Status\"] = dataset[\"Status\"].replace({'Alive': 0.0, 'Deceased': 1.0})\n",
    "\n",
    "dataset['Symptom 1'] = dataset['Symptom 1']\n",
    "dataset['Symptom 2'] = dataset['Symptom 2']\n",
    "dataset['Symptom 3'] = dataset['Symptom 3']\n",
    "dataset['Symptom 4'] = dataset['Symptom 4']\n",
    "dataset['Symptom 5'] = dataset['Symptom 5']\n",
    "\n",
    "\n",
    "#-------------------------------------------------------%%%%%%%%%%%%%%%%%%%%%%%%%%%%%%%%%%--------------------------------#\n",
    "\n",
    "\n",
    "\n",
    "\n",
    "heat_data = dataset.copy().dropna()\n",
    "heat_data['Genetic Disorder'] = label_encoder.fit_transform(heat_data['Genetic Disorder'])\n",
    "heat_data['Disorder Subclass'] = label_encoder.fit_transform(heat_data['Disorder Subclass'])\n"
   ],
   "metadata": {
    "collapsed": false,
    "ExecuteTime": {
     "end_time": "2023-12-17T22:39:12.910836847Z",
     "start_time": "2023-12-17T22:39:12.597276750Z"
    }
   },
   "id": "281acf52f146b5f3"
  },
  {
   "cell_type": "code",
   "execution_count": 61,
   "outputs": [
    {
     "data": {
      "text/plain": "       Patient Age  Genes in mother's side  Inherited from father  \\\n8             11.0                     0.0                    0.0   \n9              4.0                     0.0                    1.0   \n12             1.0                     1.0                    1.0   \n14             6.0                     1.0                    0.0   \n18            10.0                     1.0                    1.0   \n...            ...                     ...                    ...   \n22056         12.0                     1.0                    0.0   \n22057          6.0                     0.0                    1.0   \n22066         13.0                     0.0                    1.0   \n22068          4.0                     1.0                    0.0   \n22082         11.0                     1.0                    0.0   \n\n       Maternal gene  Paternal gene  Blood cell count (mcL)  Mother's age  \\\n8                1.0            0.0                5.209058          45.0   \n9                1.0            1.0                4.752272          44.0   \n12               0.0            0.0                4.612265          50.0   \n14               1.0            0.0                4.620420          41.0   \n18               1.0            0.0                4.751452          40.0   \n...              ...            ...                     ...           ...   \n22056            1.0            0.0                4.652915          49.0   \n22057            0.0            1.0                5.117296          48.0   \n22066            0.0            1.0                4.777036          27.0   \n22068            0.0            0.0                5.077554          44.0   \n22082            0.0            0.0                4.738067          32.0   \n\n       Father's age  Status  Respiratory Rate (breaths/min)  ...  \\\n8              44.0     0.0                             1.0  ...   \n9              42.0     0.0                             1.0  ...   \n12             56.0     1.0                             0.0  ...   \n14             20.0     0.0                             1.0  ...   \n18             57.0     1.0                             0.0  ...   \n...             ...     ...                             ...  ...   \n22056          40.0     0.0                             0.0  ...   \n22057          27.0     0.0                             1.0  ...   \n22066          58.0     0.0                             0.0  ...   \n22068          34.0     1.0                             0.0  ...   \n22082          62.0     1.0                             0.0  ...   \n\n       Birth defects  White Blood cell count (thousand per microliter)  \\\n8                1.0                                          6.669552   \n9                1.0                                          6.397702   \n12               0.0                                          7.995115   \n14               1.0                                          3.000000   \n18               0.0                                          9.382407   \n...              ...                                               ...   \n22056            1.0                                          8.035952   \n22057            0.0                                          3.453291   \n22066            0.0                                          3.000736   \n22068            0.0                                          9.566549   \n22082            0.0                                         11.188371   \n\n       Blood test result  Symptom 1  Symptom 2  Symptom 3  Symptom 4  \\\n8                    0.5        1.0        1.0        1.0        0.0   \n9                    1.0        0.0        0.0        1.0        1.0   \n12                   0.5        1.0        1.0        0.0        1.0   \n14                   0.5        1.0        0.0        1.0        0.0   \n18                   1.0        1.0        1.0        0.0        0.0   \n...                  ...        ...        ...        ...        ...   \n22056                0.5        0.0        1.0        1.0        1.0   \n22057                0.5        0.0        0.0        1.0        1.0   \n22066                0.0        0.0        0.0        0.0        0.0   \n22068               -1.0        1.0        1.0        1.0        1.0   \n22082                0.0        1.0        0.0        1.0        1.0   \n\n       Symptom 5  Genetic Disorder  Disorder Subclass  \n8            1.0                 0                  6  \n9            1.0                 1                  3  \n12           0.0                 0                  6  \n14           1.0                 0                  6  \n18           0.0                 0                  7  \n...          ...               ...                ...  \n22056        0.0                 0                  6  \n22057        0.0                 0                  7  \n22066        1.0                 0                  6  \n22068        1.0                 1                  3  \n22082        1.0                 1                  3  \n\n[6959 rows x 33 columns]",
      "text/html": "<div>\n<style scoped>\n    .dataframe tbody tr th:only-of-type {\n        vertical-align: middle;\n    }\n\n    .dataframe tbody tr th {\n        vertical-align: top;\n    }\n\n    .dataframe thead th {\n        text-align: right;\n    }\n</style>\n<table border=\"1\" class=\"dataframe\">\n  <thead>\n    <tr style=\"text-align: right;\">\n      <th></th>\n      <th>Patient Age</th>\n      <th>Genes in mother's side</th>\n      <th>Inherited from father</th>\n      <th>Maternal gene</th>\n      <th>Paternal gene</th>\n      <th>Blood cell count (mcL)</th>\n      <th>Mother's age</th>\n      <th>Father's age</th>\n      <th>Status</th>\n      <th>Respiratory Rate (breaths/min)</th>\n      <th>...</th>\n      <th>Birth defects</th>\n      <th>White Blood cell count (thousand per microliter)</th>\n      <th>Blood test result</th>\n      <th>Symptom 1</th>\n      <th>Symptom 2</th>\n      <th>Symptom 3</th>\n      <th>Symptom 4</th>\n      <th>Symptom 5</th>\n      <th>Genetic Disorder</th>\n      <th>Disorder Subclass</th>\n    </tr>\n  </thead>\n  <tbody>\n    <tr>\n      <th>8</th>\n      <td>11.0</td>\n      <td>0.0</td>\n      <td>0.0</td>\n      <td>1.0</td>\n      <td>0.0</td>\n      <td>5.209058</td>\n      <td>45.0</td>\n      <td>44.0</td>\n      <td>0.0</td>\n      <td>1.0</td>\n      <td>...</td>\n      <td>1.0</td>\n      <td>6.669552</td>\n      <td>0.5</td>\n      <td>1.0</td>\n      <td>1.0</td>\n      <td>1.0</td>\n      <td>0.0</td>\n      <td>1.0</td>\n      <td>0</td>\n      <td>6</td>\n    </tr>\n    <tr>\n      <th>9</th>\n      <td>4.0</td>\n      <td>0.0</td>\n      <td>1.0</td>\n      <td>1.0</td>\n      <td>1.0</td>\n      <td>4.752272</td>\n      <td>44.0</td>\n      <td>42.0</td>\n      <td>0.0</td>\n      <td>1.0</td>\n      <td>...</td>\n      <td>1.0</td>\n      <td>6.397702</td>\n      <td>1.0</td>\n      <td>0.0</td>\n      <td>0.0</td>\n      <td>1.0</td>\n      <td>1.0</td>\n      <td>1.0</td>\n      <td>1</td>\n      <td>3</td>\n    </tr>\n    <tr>\n      <th>12</th>\n      <td>1.0</td>\n      <td>1.0</td>\n      <td>1.0</td>\n      <td>0.0</td>\n      <td>0.0</td>\n      <td>4.612265</td>\n      <td>50.0</td>\n      <td>56.0</td>\n      <td>1.0</td>\n      <td>0.0</td>\n      <td>...</td>\n      <td>0.0</td>\n      <td>7.995115</td>\n      <td>0.5</td>\n      <td>1.0</td>\n      <td>1.0</td>\n      <td>0.0</td>\n      <td>1.0</td>\n      <td>0.0</td>\n      <td>0</td>\n      <td>6</td>\n    </tr>\n    <tr>\n      <th>14</th>\n      <td>6.0</td>\n      <td>1.0</td>\n      <td>0.0</td>\n      <td>1.0</td>\n      <td>0.0</td>\n      <td>4.620420</td>\n      <td>41.0</td>\n      <td>20.0</td>\n      <td>0.0</td>\n      <td>1.0</td>\n      <td>...</td>\n      <td>1.0</td>\n      <td>3.000000</td>\n      <td>0.5</td>\n      <td>1.0</td>\n      <td>0.0</td>\n      <td>1.0</td>\n      <td>0.0</td>\n      <td>1.0</td>\n      <td>0</td>\n      <td>6</td>\n    </tr>\n    <tr>\n      <th>18</th>\n      <td>10.0</td>\n      <td>1.0</td>\n      <td>1.0</td>\n      <td>1.0</td>\n      <td>0.0</td>\n      <td>4.751452</td>\n      <td>40.0</td>\n      <td>57.0</td>\n      <td>1.0</td>\n      <td>0.0</td>\n      <td>...</td>\n      <td>0.0</td>\n      <td>9.382407</td>\n      <td>1.0</td>\n      <td>1.0</td>\n      <td>1.0</td>\n      <td>0.0</td>\n      <td>0.0</td>\n      <td>0.0</td>\n      <td>0</td>\n      <td>7</td>\n    </tr>\n    <tr>\n      <th>...</th>\n      <td>...</td>\n      <td>...</td>\n      <td>...</td>\n      <td>...</td>\n      <td>...</td>\n      <td>...</td>\n      <td>...</td>\n      <td>...</td>\n      <td>...</td>\n      <td>...</td>\n      <td>...</td>\n      <td>...</td>\n      <td>...</td>\n      <td>...</td>\n      <td>...</td>\n      <td>...</td>\n      <td>...</td>\n      <td>...</td>\n      <td>...</td>\n      <td>...</td>\n      <td>...</td>\n    </tr>\n    <tr>\n      <th>22056</th>\n      <td>12.0</td>\n      <td>1.0</td>\n      <td>0.0</td>\n      <td>1.0</td>\n      <td>0.0</td>\n      <td>4.652915</td>\n      <td>49.0</td>\n      <td>40.0</td>\n      <td>0.0</td>\n      <td>0.0</td>\n      <td>...</td>\n      <td>1.0</td>\n      <td>8.035952</td>\n      <td>0.5</td>\n      <td>0.0</td>\n      <td>1.0</td>\n      <td>1.0</td>\n      <td>1.0</td>\n      <td>0.0</td>\n      <td>0</td>\n      <td>6</td>\n    </tr>\n    <tr>\n      <th>22057</th>\n      <td>6.0</td>\n      <td>0.0</td>\n      <td>1.0</td>\n      <td>0.0</td>\n      <td>1.0</td>\n      <td>5.117296</td>\n      <td>48.0</td>\n      <td>27.0</td>\n      <td>0.0</td>\n      <td>1.0</td>\n      <td>...</td>\n      <td>0.0</td>\n      <td>3.453291</td>\n      <td>0.5</td>\n      <td>0.0</td>\n      <td>0.0</td>\n      <td>1.0</td>\n      <td>1.0</td>\n      <td>0.0</td>\n      <td>0</td>\n      <td>7</td>\n    </tr>\n    <tr>\n      <th>22066</th>\n      <td>13.0</td>\n      <td>0.0</td>\n      <td>1.0</td>\n      <td>0.0</td>\n      <td>1.0</td>\n      <td>4.777036</td>\n      <td>27.0</td>\n      <td>58.0</td>\n      <td>0.0</td>\n      <td>0.0</td>\n      <td>...</td>\n      <td>0.0</td>\n      <td>3.000736</td>\n      <td>0.0</td>\n      <td>0.0</td>\n      <td>0.0</td>\n      <td>0.0</td>\n      <td>0.0</td>\n      <td>1.0</td>\n      <td>0</td>\n      <td>6</td>\n    </tr>\n    <tr>\n      <th>22068</th>\n      <td>4.0</td>\n      <td>1.0</td>\n      <td>0.0</td>\n      <td>0.0</td>\n      <td>0.0</td>\n      <td>5.077554</td>\n      <td>44.0</td>\n      <td>34.0</td>\n      <td>1.0</td>\n      <td>0.0</td>\n      <td>...</td>\n      <td>0.0</td>\n      <td>9.566549</td>\n      <td>-1.0</td>\n      <td>1.0</td>\n      <td>1.0</td>\n      <td>1.0</td>\n      <td>1.0</td>\n      <td>1.0</td>\n      <td>1</td>\n      <td>3</td>\n    </tr>\n    <tr>\n      <th>22082</th>\n      <td>11.0</td>\n      <td>1.0</td>\n      <td>0.0</td>\n      <td>0.0</td>\n      <td>0.0</td>\n      <td>4.738067</td>\n      <td>32.0</td>\n      <td>62.0</td>\n      <td>1.0</td>\n      <td>0.0</td>\n      <td>...</td>\n      <td>0.0</td>\n      <td>11.188371</td>\n      <td>0.0</td>\n      <td>1.0</td>\n      <td>0.0</td>\n      <td>1.0</td>\n      <td>1.0</td>\n      <td>1.0</td>\n      <td>1</td>\n      <td>3</td>\n    </tr>\n  </tbody>\n</table>\n<p>6959 rows × 33 columns</p>\n</div>"
     },
     "execution_count": 61,
     "metadata": {},
     "output_type": "execute_result"
    }
   ],
   "source": [
    "heat_data"
   ],
   "metadata": {
    "collapsed": false,
    "ExecuteTime": {
     "end_time": "2023-12-17T22:39:15.645062727Z",
     "start_time": "2023-12-17T22:39:15.618508642Z"
    }
   },
   "id": "613c3030c0d6ea7"
  },
  {
   "cell_type": "code",
   "execution_count": 64,
   "outputs": [],
   "source": [
    "robust_scaler = RobustScaler()\n",
    "\n",
    "X_train, X_test, Y_train, Y_test = train_test_split(\n",
    "    robust_scaler.fit_transform(heat_data.drop(columns=['Genetic Disorder', 'Disorder Subclass'])),\n",
    "    heat_data.loc[:, 'Genetic Disorder'],\n",
    "    test_size=0.2, random_state=43)\n",
    "from imblearn.over_sampling import BorderlineSMOTE\n",
    "\n",
    "sm = BorderlineSMOTE(random_state=42)\n",
    "X_train, Y_train = sm.fit_resample(X_train, Y_train)\n"
   ],
   "metadata": {
    "collapsed": false,
    "ExecuteTime": {
     "end_time": "2023-12-17T22:39:54.060400644Z",
     "start_time": "2023-12-17T22:39:53.878052951Z"
    }
   },
   "id": "ec24bfe0e0324ddc"
  },
  {
   "cell_type": "code",
   "execution_count": 38,
   "outputs": [
    {
     "data": {
      "text/plain": "0        2\n1        0\n2        2\n3        2\n4        2\n        ..\n26731    2\n26732    2\n26733    2\n26734    2\n26735    2\nName: Genetic Disorder, Length: 26736, dtype: int64"
     },
     "execution_count": 38,
     "metadata": {},
     "output_type": "execute_result"
    }
   ],
   "source": [],
   "metadata": {
    "collapsed": false,
    "ExecuteTime": {
     "end_time": "2023-12-17T22:30:38.413031013Z",
     "start_time": "2023-12-17T22:30:38.411547211Z"
    }
   },
   "id": "3668900d960cf90b"
  },
  {
   "cell_type": "code",
   "execution_count": 65,
   "outputs": [
    {
     "data": {
      "text/plain": "(0.5446772900126726, 0.6185344827586207, 0.569406201655692, 0.5548717796079484)"
     },
     "execution_count": 65,
     "metadata": {},
     "output_type": "execute_result"
    }
   ],
   "source": [
    "\n",
    "from sklearn.ensemble import RandomForestClassifier\n",
    "\n",
    "model = RandomForestClassifier(bootstrap=True, max_depth=54, max_features='sqrt',\n",
    "                               min_samples_leaf=6, min_samples_split=4, n_estimators=400)\n",
    "model.fit(X_train, Y_train)\n",
    "y_pred = model.predict(X_test)\n",
    "\n",
    "f1_score(Y_test, y_pred, average='macro'), accuracy_score(Y_test, y_pred), precision_score(Y_test, y_pred,\n",
    "                                                                                           average='macro'), recall_score(Y_test, y_pred, average='macro')"
   ],
   "metadata": {
    "collapsed": false,
    "ExecuteTime": {
     "end_time": "2023-12-17T22:39:59.690067614Z",
     "start_time": "2023-12-17T22:39:56.248440037Z"
    }
   },
   "id": "74adae080dfbfba8"
  },
  {
   "cell_type": "code",
   "execution_count": null,
   "outputs": [],
   "source": [],
   "metadata": {
    "collapsed": false
   },
   "id": "45ed12df575e3d8a"
  }
 ],
 "metadata": {
  "kernelspec": {
   "display_name": "Python 3",
   "language": "python",
   "name": "python3"
  },
  "language_info": {
   "codemirror_mode": {
    "name": "ipython",
    "version": 2
   },
   "file_extension": ".py",
   "mimetype": "text/x-python",
   "name": "python",
   "nbconvert_exporter": "python",
   "pygments_lexer": "ipython2",
   "version": "2.7.6"
  }
 },
 "nbformat": 4,
 "nbformat_minor": 5
}
