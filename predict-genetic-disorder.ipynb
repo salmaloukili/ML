{
 "cells": [
  {
   "cell_type": "code",
   "execution_count": 1,
   "id": "0aa866a7",
   "metadata": {
    "execution": {
     "iopub.execute_input": "2021-11-30T13:29:12.466552Z",
     "iopub.status.busy": "2021-11-30T13:29:12.465083Z",
     "iopub.status.idle": "2021-11-30T13:29:15.220924Z",
     "shell.execute_reply": "2021-11-30T13:29:15.221656Z",
     "shell.execute_reply.started": "2021-11-30T12:29:11.097433Z"
    },
    "papermill": {
     "duration": 2.843913,
     "end_time": "2021-11-30T13:29:15.222027",
     "exception": false,
     "start_time": "2021-11-30T13:29:12.378114",
     "status": "completed"
    },
    "tags": [],
    "ExecuteTime": {
     "end_time": "2023-12-17T21:54:23.646430111Z",
     "start_time": "2023-12-17T21:54:23.310040585Z"
    }
   },
   "outputs": [],
   "source": [
    "# importing the libraries\n",
    "import numpy as np\n",
    "import pandas as pd\n",
    "import matplotlib.pyplot as plt\n",
    "import seaborn as sns\n",
    "from sklearn.model_selection import train_test_split\n",
    "from sklearn.impute import SimpleImputer\n",
    "from sklearn.preprocessing import OrdinalEncoder,OneHotEncoder,LabelEncoder,MinMaxScaler\n",
    "from imblearn.over_sampling import BorderlineSMOTE\n",
    "from sklearn.feature_selection import SelectKBest,chi2\n",
    "from sklearn.metrics import f1_score\n",
    "from sklearn.model_selection import RandomizedSearchCV,GridSearchCV\n",
    "from sklearn.calibration import CalibratedClassifierCV\n",
    "from sklearn.linear_model import LogisticRegression\n",
    "from sklearn.neighbors import KNeighborsClassifier\n",
    "from sklearn.ensemble import RandomForestClassifier,GradientBoostingClassifier\n",
    "from sklearn.tree import DecisionTreeClassifier\n",
    "from xgboost import XGBClassifier\n",
    "from lightgbm import LGBMClassifier"
   ]
  },
  {
   "cell_type": "code",
   "execution_count": 2,
   "id": "2833c66c",
   "metadata": {
    "execution": {
     "iopub.execute_input": "2021-11-30T13:29:15.388552Z",
     "iopub.status.busy": "2021-11-30T13:29:15.387824Z",
     "iopub.status.idle": "2021-11-30T13:29:15.765057Z",
     "shell.execute_reply": "2021-11-30T13:29:15.764282Z",
     "shell.execute_reply.started": "2021-11-30T12:31:34.925719Z"
    },
    "papermill": {
     "duration": 0.460866,
     "end_time": "2021-11-30T13:29:15.765222",
     "exception": false,
     "start_time": "2021-11-30T13:29:15.304356",
     "status": "completed"
    },
    "tags": [],
    "ExecuteTime": {
     "end_time": "2023-12-17T21:54:23.810047421Z",
     "start_time": "2023-12-17T21:54:23.646679419Z"
    }
   },
   "outputs": [],
   "source": [
    "#loading the datset\n",
    "train=pd.read_csv('dataset/train.csv')\n",
    "test=pd.read_csv('dataset/test.csv')\n",
    "data_train=train.copy()\n",
    "data_test=test.copy()"
   ]
  },
  {
   "cell_type": "code",
   "execution_count": 3,
   "outputs": [],
   "source": [
    "#subset where no all rows being null\n",
    "data_fea_train=data_train[data_train.isnull().all(1)!=True]"
   ],
   "metadata": {
    "collapsed": false,
    "ExecuteTime": {
     "end_time": "2023-12-17T21:55:07.915264554Z",
     "start_time": "2023-12-17T21:55:07.860460234Z"
    }
   },
   "id": "8f522b2e"
  },
  {
   "cell_type": "code",
   "execution_count": 4,
   "outputs": [],
   "source": [
    "#subset where no all rows being null\n",
    "data_fea_test=data_test[data_test.isnull().all(1)!=True]"
   ],
   "metadata": {
    "collapsed": false,
    "ExecuteTime": {
     "end_time": "2023-12-17T21:55:10.160803289Z",
     "start_time": "2023-12-17T21:55:10.062864113Z"
    }
   },
   "id": "a522d032"
  },
  {
   "cell_type": "code",
   "execution_count": 5,
   "outputs": [],
   "source": [
    "# Dropping the features\n",
    "data_fea_train=data_fea_train.drop(columns=['Patient Id','Patient First Name','Family Name','Father\\'s name','Institute Name','Location of Institute','Test 1','Test 2','Test 3','Test 4',\n",
    "'Test 5','Parental consent'])\n",
    "data_fea_test=data_fea_test.drop(columns=['Patient Id','Patient First Name','Family Name','Father\\'s name','Institute Name','Location of Institute','Test 1','Test 2','Test 3','Test 4',\n",
    "'Test 5','Parental consent'])"
   ],
   "metadata": {
    "collapsed": false,
    "ExecuteTime": {
     "end_time": "2023-12-17T21:55:18.091374234Z",
     "start_time": "2023-12-17T21:55:18.057037817Z"
    }
   },
   "id": "c166c63b"
  },
  {
   "cell_type": "code",
   "execution_count": 6,
   "outputs": [],
   "source": [
    "# renaming the columns\n",
    "data_fea_train=data_fea_train.rename(columns={\"Genes in mother's side\":'defective_mother',\n",
    "                    'Inherited from father':'defective_father',\n",
    "                    'Maternal gene':'maternal_gene','Paternal gene':'paternal_gene',\n",
    "                    'Respiratory Rate (breaths/min)':'respiratory_rate','Heart Rate (rates/min':'heart_rate',\n",
    "                    'Parental consent':'parental_consent','Follow-up':'follow_up','Birth asphyxia':'birth_asphyxia',\n",
    "                    'Autopsy shows birth defect (if applicable)':'birth_defect_autopsy','Place of birth':'birth_place',\n",
    "                    'Folic acid details (peri-conceptional)':'folic_acid_periconceptional',\n",
    "                    'H/O serious maternal illness':'maternal_illness','H/O radiation exposure (x-ray)':'radiation_exposure',\n",
    "                    'H/O substance abuse':'substance_abuse','Assisted conception IVF/ART':'assisted_conception',\n",
    "                    'History of anomalies in previous pregnancies':'previous_pregnancy_anomalies',\n",
    "                    'Birth defects':'birth_defects','Blood test result':'blood_test_result','Genetic Disorder':'genetic_disorder',\n",
    "                    'Disorder Subclass':'disorder_subclass','Patient Age':'patient_age','Blood cell count (mcL)':'blood_cell_count',\n",
    "                    \"Mother's age\":'mother_age',\"Father's age\":'father_age','No. of previous abortion':'num_previous_abortion',\n",
    "                    'White Blood cell count (thousand per microliter)':'WBC_count'})"
   ],
   "metadata": {
    "collapsed": false,
    "ExecuteTime": {
     "end_time": "2023-12-17T21:55:21.547235281Z",
     "start_time": "2023-12-17T21:55:21.517137499Z"
    }
   },
   "id": "fbde6efa"
  },
  {
   "cell_type": "code",
   "execution_count": 7,
   "outputs": [],
   "source": [
    "data_fea_test=data_fea_test.rename(columns={\"Genes in mother's side\":'defective_mother',\n",
    "                    'Inherited from father':'defective_father',\n",
    "                    'Maternal gene':'maternal_gene','Paternal gene':'paternal_gene',\n",
    "                    'Respiratory Rate (breaths/min)':'respiratory_rate','Heart Rate (rates/min':'heart_rate',\n",
    "                    'Parental consent':'parental_consent','Follow-up':'follow_up','Birth asphyxia':'birth_asphyxia',\n",
    "                    'Autopsy shows birth defect (if applicable)':'birth_defect_autopsy','Place of birth':'birth_place',\n",
    "                    'Folic acid details (peri-conceptional)':'folic_acid_periconceptional',\n",
    "                    'H/O serious maternal illness':'maternal_illness','H/O radiation exposure (x-ray)':'radiation_exposure',\n",
    "                    'H/O substance abuse':'substance_abuse','Assisted conception IVF/ART':'assisted_conception',\n",
    "                    'History of anomalies in previous pregnancies':'previous_pregnancy_anomalies',\n",
    "                    'Birth defects':'birth_defects','Blood test result':'blood_test_result','Genetic Disorder':'genetic_disorder',\n",
    "                    'Disorder Subclass':'disorder_subclass','Patient Age':'patient_age','Blood cell count (mcL)':'blood_cell_count',\n",
    "                    \"Mother's age\":'mother_age',\"Father's age\":'father_age','No. of previous abortion':'num_previous_abortion',\n",
    "                    'White Blood cell count (thousand per microliter)':'WBC_count'})"
   ],
   "metadata": {
    "collapsed": false,
    "ExecuteTime": {
     "end_time": "2023-12-17T21:55:22.472213345Z",
     "start_time": "2023-12-17T21:55:22.466967784Z"
    }
   },
   "id": "952456c1"
  },
  {
   "cell_type": "code",
   "execution_count": 8,
   "outputs": [],
   "source": [
    "# removing rows of missing target variables\n",
    "data_fea_train=data_fea_train[(data_fea_train['genetic_disorder'].isnull()!=True)&(data_fea_train['disorder_subclass'].isnull()!=True)]"
   ],
   "metadata": {
    "collapsed": false,
    "ExecuteTime": {
     "end_time": "2023-12-17T21:55:27.126834605Z",
     "start_time": "2023-12-17T21:55:27.084120392Z"
    }
   },
   "id": "67ad4c26"
  },
  {
   "cell_type": "code",
   "execution_count": 9,
   "outputs": [
    {
     "data": {
      "text/plain": "(18047, 33)"
     },
     "execution_count": 9,
     "metadata": {},
     "output_type": "execute_result"
    }
   ],
   "source": [
    "data_fea_train.shape"
   ],
   "metadata": {
    "collapsed": false,
    "ExecuteTime": {
     "end_time": "2023-12-17T21:55:28.993163668Z",
     "start_time": "2023-12-17T21:55:28.987905632Z"
    }
   },
   "id": "1329e4b3"
  },
  {
   "cell_type": "code",
   "execution_count": 10,
   "outputs": [],
   "source": [
    "#Subsetting\n",
    "X=data_fea_train.iloc[:,:-2]\n",
    "y1=data_fea_train.iloc[:,-2]\n",
    "y2=data_fea_train.iloc[:,-1]"
   ],
   "metadata": {
    "collapsed": false,
    "ExecuteTime": {
     "end_time": "2023-12-17T21:55:31.863798695Z",
     "start_time": "2023-12-17T21:55:31.858303928Z"
    }
   },
   "id": "818e54cb"
  },
  {
   "cell_type": "code",
   "execution_count": 12,
   "outputs": [],
   "source": [
    "# test data\n",
    "X_test=data_fea_test"
   ],
   "metadata": {
    "collapsed": false,
    "ExecuteTime": {
     "end_time": "2023-12-17T21:55:40.735210841Z",
     "start_time": "2023-12-17T21:55:40.704513466Z"
    }
   },
   "id": "f5bc2b72"
  },
  {
   "cell_type": "code",
   "execution_count": 13,
   "outputs": [],
   "source": [
    "#converting dissimilar datatype to one\n",
    "for i in X_test.columns:\n",
    "    if X_test[i].dtype!=X[i].dtype:\n",
    "        X_test[i]=X_test[i].astype(X[i].dtype.name)"
   ],
   "metadata": {
    "collapsed": false,
    "ExecuteTime": {
     "end_time": "2023-12-17T21:55:44.093442873Z",
     "start_time": "2023-12-17T21:55:44.074056609Z"
    }
   },
   "id": "58cc1b79"
  },
  {
   "cell_type": "code",
   "execution_count": 14,
   "outputs": [],
   "source": [
    "# Data Cleaning\n",
    "X_test=X_test.replace('-99',np.nan)\n",
    "# Cleaning_data\n",
    "# replace '-' with other values\n",
    "X['radiation_exposure']=X['radiation_exposure'].replace('-','others')\n",
    "X['substance_abuse']=X['substance_abuse'].replace('-','others')\n",
    "# Cleaning_data\n",
    "X_test['radiation_exposure']=X_test['radiation_exposure'].replace('-','others')\n",
    "X_test['substance_abuse']=X_test['substance_abuse'].replace('-','others')"
   ],
   "metadata": {
    "collapsed": false,
    "ExecuteTime": {
     "end_time": "2023-12-17T21:55:46.125049295Z",
     "start_time": "2023-12-17T21:55:46.096219976Z"
    }
   },
   "id": "df09f370"
  },
  {
   "cell_type": "code",
   "execution_count": 15,
   "outputs": [],
   "source": [
    "# Data Cleaning\n",
    "X_test['WBC_count']=X_test['WBC_count'].mask(X_test['WBC_count']<0,np.nan)\n",
    "X_test['num_previous_abortion']=X_test['num_previous_abortion'].mask(X_test['num_previous_abortion']<0,np.nan)"
   ],
   "metadata": {
    "collapsed": false,
    "ExecuteTime": {
     "end_time": "2023-12-17T21:55:47.172147129Z",
     "start_time": "2023-12-17T21:55:47.165732216Z"
    }
   },
   "id": "e4999c3b"
  },
  {
   "cell_type": "code",
   "execution_count": 16,
   "outputs": [],
   "source": [
    "#Splitting the data\n",
    "X_train1,X_val1,y_train1,y_val1= train_test_split(X,y1,stratify=y1,test_size=0.20)\n",
    "X_train2,X_val2,y_train2,y_val2= train_test_split(X,y2,stratify=y2,test_size=0.20)"
   ],
   "metadata": {
    "collapsed": false,
    "ExecuteTime": {
     "end_time": "2023-12-17T21:55:48.921760854Z",
     "start_time": "2023-12-17T21:55:48.870049980Z"
    }
   },
   "id": "65d16ce5"
  },
  {
   "cell_type": "code",
   "execution_count": 17,
   "outputs": [],
   "source": [
    "# Missing value imputation\n",
    "from sklearn.impute import SimpleImputer\n",
    "imp_mode=SimpleImputer(strategy='most_frequent')\n",
    "imp_mode_num=SimpleImputer(strategy='most_frequent')\n",
    "imp_median=SimpleImputer(strategy='median')"
   ],
   "metadata": {
    "collapsed": false,
    "ExecuteTime": {
     "end_time": "2023-12-17T21:55:52.842862711Z",
     "start_time": "2023-12-17T21:55:52.794964095Z"
    }
   },
   "id": "b563ed03"
  },
  {
   "cell_type": "code",
   "execution_count": 18,
   "outputs": [],
   "source": [
    "pd.options.mode.chained_assignment = None  "
   ],
   "metadata": {
    "collapsed": false,
    "ExecuteTime": {
     "end_time": "2023-12-17T21:55:54.724945051Z",
     "start_time": "2023-12-17T21:55:54.720623673Z"
    }
   },
   "id": "78d232d1"
  },
  {
   "cell_type": "code",
   "execution_count": 19,
   "outputs": [],
   "source": [
    "# missing value imputation\n",
    "for i in X.columns:\n",
    "    if (X[i].dtype.name!='object')&(X[i].nunique()<=3):\n",
    "        imp_mode_num.fit(np.array(X_train1[i]).reshape(-1,1))\n",
    "        X_train1[i]=imp_mode_num.transform(np.array(X_train1[i]).reshape(-1,1))\n",
    "        X_val1[i]=imp_mode_num.transform(np.array(X_val1[i]).reshape(-1,1))\n",
    "        X_test[i]=imp_mode_num.transform(np.array(X_test[i]).reshape(-1,1))\n",
    "    elif (X[i].dtype.name!='object')&(X[i].nunique()>3):\n",
    "        imp_median.fit(np.array(X_train1[i]).reshape(-1,1))\n",
    "        X_train1[i]=imp_median.transform(np.array(X_train1[i]).reshape(-1,1))\n",
    "        X_val1[i]=imp_median.transform(np.array(X_val1[i]).reshape(-1,1))\n",
    "        X_test[i]=imp_median.transform(np.array(X_test[i]).reshape(-1,1))\n",
    "    else:\n",
    "        imp_mode.fit(np.array(X_train1[i]).reshape(-1,1))\n",
    "        X_train1[i]=imp_mode.transform(np.array(X_train1[i]).reshape(-1,1))\n",
    "        X_val1[i]=imp_mode.transform(np.array(X_val1[i]).reshape(-1,1))\n",
    "        X_test[i]=imp_mode.transform(np.array(X_test[i]).reshape(-1,1))"
   ],
   "metadata": {
    "collapsed": false,
    "ExecuteTime": {
     "end_time": "2023-12-17T21:55:56.116564163Z",
     "start_time": "2023-12-17T21:55:55.997197247Z"
    }
   },
   "id": "ad0e8aaf"
  },
  {
   "cell_type": "code",
   "execution_count": 20,
   "id": "346356bd",
   "metadata": {
    "execution": {
     "iopub.execute_input": "2021-11-30T13:29:22.008339Z",
     "iopub.status.busy": "2021-11-30T13:29:22.007527Z",
     "iopub.status.idle": "2021-11-30T13:29:22.012734Z",
     "shell.execute_reply": "2021-11-30T13:29:22.013335Z",
     "shell.execute_reply.started": "2021-11-30T12:32:35.437650Z"
    },
    "papermill": {
     "duration": 0.098503,
     "end_time": "2021-11-30T13:29:22.013582",
     "exception": false,
     "start_time": "2021-11-30T13:29:21.915079",
     "status": "completed"
    },
    "tags": [],
    "ExecuteTime": {
     "end_time": "2023-12-17T21:56:00.802491144Z",
     "start_time": "2023-12-17T21:56:00.775118840Z"
    }
   },
   "outputs": [],
   "source": [
    "from sklearn.preprocessing import OrdinalEncoder,OneHotEncoder,LabelEncoder,MinMaxScaler\n",
    "ord_enc=OrdinalEncoder()\n",
    "ohe_enc=OneHotEncoder()\n",
    "min_max=MinMaxScaler()"
   ]
  },
  {
   "cell_type": "code",
   "execution_count": 21,
   "id": "f1783e4d",
   "metadata": {
    "execution": {
     "iopub.execute_input": "2021-11-30T13:29:22.192005Z",
     "iopub.status.busy": "2021-11-30T13:29:22.191225Z",
     "iopub.status.idle": "2021-11-30T13:29:22.197960Z",
     "shell.execute_reply": "2021-11-30T13:29:22.198605Z",
     "shell.execute_reply.started": "2021-11-30T12:32:36.750654Z"
    },
    "papermill": {
     "duration": 0.098973,
     "end_time": "2021-11-30T13:29:22.198843",
     "exception": false,
     "start_time": "2021-11-30T13:29:22.099870",
     "status": "completed"
    },
    "tags": [],
    "ExecuteTime": {
     "end_time": "2023-12-17T21:56:09.837517354Z",
     "start_time": "2023-12-17T21:56:09.830701818Z"
    }
   },
   "outputs": [],
   "source": [
    "# reset index\n",
    "X_train1.reset_index(inplace=True)\n",
    "X_val1.reset_index(inplace=True)"
   ]
  },
  {
   "cell_type": "code",
   "execution_count": 22,
   "id": "3eaddeaa",
   "metadata": {
    "execution": {
     "iopub.execute_input": "2021-11-30T13:29:22.382804Z",
     "iopub.status.busy": "2021-11-30T13:29:22.382007Z",
     "iopub.status.idle": "2021-11-30T13:29:22.927437Z",
     "shell.execute_reply": "2021-11-30T13:29:22.926748Z",
     "shell.execute_reply.started": "2021-11-30T12:32:37.494342Z"
    },
    "papermill": {
     "duration": 0.637858,
     "end_time": "2021-11-30T13:29:22.927599",
     "exception": false,
     "start_time": "2021-11-30T13:29:22.289741",
     "status": "completed"
    },
    "tags": [],
    "ExecuteTime": {
     "end_time": "2023-12-17T21:56:10.966365505Z",
     "start_time": "2023-12-17T21:56:10.788796892Z"
    }
   },
   "outputs": [
    {
     "name": "stderr",
     "output_type": "stream",
     "text": [
      "/tmp/ipykernel_7446/103071274.py:6: DeprecationWarning: In a future version, `df.iloc[:, i] = newvals` will attempt to set the values inplace instead of always setting a new array. To retain the old behavior, use either `df[df.columns[i]] = newvals` or, if columns are non-unique, `df.isetitem(i, newvals)`\n",
      "  X_train1.loc[:,i]=ord_enc.transform(np.array(X_train1[i]).reshape(-1,1))\n",
      "/tmp/ipykernel_7446/103071274.py:7: DeprecationWarning: In a future version, `df.iloc[:, i] = newvals` will attempt to set the values inplace instead of always setting a new array. To retain the old behavior, use either `df[df.columns[i]] = newvals` or, if columns are non-unique, `df.isetitem(i, newvals)`\n",
      "  X_val1.loc[:,i]=ord_enc.transform(np.array(X_val1[i]).reshape(-1,1))\n",
      "/tmp/ipykernel_7446/103071274.py:8: DeprecationWarning: In a future version, `df.iloc[:, i] = newvals` will attempt to set the values inplace instead of always setting a new array. To retain the old behavior, use either `df[df.columns[i]] = newvals` or, if columns are non-unique, `df.isetitem(i, newvals)`\n",
      "  X_test.loc[:,i]=ord_enc.transform(np.array(X_test[i]).reshape(-1,1))\n",
      "/tmp/ipykernel_7446/103071274.py:6: DeprecationWarning: In a future version, `df.iloc[:, i] = newvals` will attempt to set the values inplace instead of always setting a new array. To retain the old behavior, use either `df[df.columns[i]] = newvals` or, if columns are non-unique, `df.isetitem(i, newvals)`\n",
      "  X_train1.loc[:,i]=ord_enc.transform(np.array(X_train1[i]).reshape(-1,1))\n",
      "/tmp/ipykernel_7446/103071274.py:7: DeprecationWarning: In a future version, `df.iloc[:, i] = newvals` will attempt to set the values inplace instead of always setting a new array. To retain the old behavior, use either `df[df.columns[i]] = newvals` or, if columns are non-unique, `df.isetitem(i, newvals)`\n",
      "  X_val1.loc[:,i]=ord_enc.transform(np.array(X_val1[i]).reshape(-1,1))\n",
      "/tmp/ipykernel_7446/103071274.py:8: DeprecationWarning: In a future version, `df.iloc[:, i] = newvals` will attempt to set the values inplace instead of always setting a new array. To retain the old behavior, use either `df[df.columns[i]] = newvals` or, if columns are non-unique, `df.isetitem(i, newvals)`\n",
      "  X_test.loc[:,i]=ord_enc.transform(np.array(X_test[i]).reshape(-1,1))\n",
      "/tmp/ipykernel_7446/103071274.py:6: DeprecationWarning: In a future version, `df.iloc[:, i] = newvals` will attempt to set the values inplace instead of always setting a new array. To retain the old behavior, use either `df[df.columns[i]] = newvals` or, if columns are non-unique, `df.isetitem(i, newvals)`\n",
      "  X_train1.loc[:,i]=ord_enc.transform(np.array(X_train1[i]).reshape(-1,1))\n",
      "/tmp/ipykernel_7446/103071274.py:7: DeprecationWarning: In a future version, `df.iloc[:, i] = newvals` will attempt to set the values inplace instead of always setting a new array. To retain the old behavior, use either `df[df.columns[i]] = newvals` or, if columns are non-unique, `df.isetitem(i, newvals)`\n",
      "  X_val1.loc[:,i]=ord_enc.transform(np.array(X_val1[i]).reshape(-1,1))\n",
      "/tmp/ipykernel_7446/103071274.py:8: DeprecationWarning: In a future version, `df.iloc[:, i] = newvals` will attempt to set the values inplace instead of always setting a new array. To retain the old behavior, use either `df[df.columns[i]] = newvals` or, if columns are non-unique, `df.isetitem(i, newvals)`\n",
      "  X_test.loc[:,i]=ord_enc.transform(np.array(X_test[i]).reshape(-1,1))\n",
      "/tmp/ipykernel_7446/103071274.py:6: DeprecationWarning: In a future version, `df.iloc[:, i] = newvals` will attempt to set the values inplace instead of always setting a new array. To retain the old behavior, use either `df[df.columns[i]] = newvals` or, if columns are non-unique, `df.isetitem(i, newvals)`\n",
      "  X_train1.loc[:,i]=ord_enc.transform(np.array(X_train1[i]).reshape(-1,1))\n",
      "/tmp/ipykernel_7446/103071274.py:7: DeprecationWarning: In a future version, `df.iloc[:, i] = newvals` will attempt to set the values inplace instead of always setting a new array. To retain the old behavior, use either `df[df.columns[i]] = newvals` or, if columns are non-unique, `df.isetitem(i, newvals)`\n",
      "  X_val1.loc[:,i]=ord_enc.transform(np.array(X_val1[i]).reshape(-1,1))\n",
      "/tmp/ipykernel_7446/103071274.py:8: DeprecationWarning: In a future version, `df.iloc[:, i] = newvals` will attempt to set the values inplace instead of always setting a new array. To retain the old behavior, use either `df[df.columns[i]] = newvals` or, if columns are non-unique, `df.isetitem(i, newvals)`\n",
      "  X_test.loc[:,i]=ord_enc.transform(np.array(X_test[i]).reshape(-1,1))\n",
      "/tmp/ipykernel_7446/103071274.py:6: DeprecationWarning: In a future version, `df.iloc[:, i] = newvals` will attempt to set the values inplace instead of always setting a new array. To retain the old behavior, use either `df[df.columns[i]] = newvals` or, if columns are non-unique, `df.isetitem(i, newvals)`\n",
      "  X_train1.loc[:,i]=ord_enc.transform(np.array(X_train1[i]).reshape(-1,1))\n",
      "/tmp/ipykernel_7446/103071274.py:7: DeprecationWarning: In a future version, `df.iloc[:, i] = newvals` will attempt to set the values inplace instead of always setting a new array. To retain the old behavior, use either `df[df.columns[i]] = newvals` or, if columns are non-unique, `df.isetitem(i, newvals)`\n",
      "  X_val1.loc[:,i]=ord_enc.transform(np.array(X_val1[i]).reshape(-1,1))\n",
      "/tmp/ipykernel_7446/103071274.py:8: DeprecationWarning: In a future version, `df.iloc[:, i] = newvals` will attempt to set the values inplace instead of always setting a new array. To retain the old behavior, use either `df[df.columns[i]] = newvals` or, if columns are non-unique, `df.isetitem(i, newvals)`\n",
      "  X_test.loc[:,i]=ord_enc.transform(np.array(X_test[i]).reshape(-1,1))\n",
      "/tmp/ipykernel_7446/103071274.py:6: DeprecationWarning: In a future version, `df.iloc[:, i] = newvals` will attempt to set the values inplace instead of always setting a new array. To retain the old behavior, use either `df[df.columns[i]] = newvals` or, if columns are non-unique, `df.isetitem(i, newvals)`\n",
      "  X_train1.loc[:,i]=ord_enc.transform(np.array(X_train1[i]).reshape(-1,1))\n",
      "/tmp/ipykernel_7446/103071274.py:7: DeprecationWarning: In a future version, `df.iloc[:, i] = newvals` will attempt to set the values inplace instead of always setting a new array. To retain the old behavior, use either `df[df.columns[i]] = newvals` or, if columns are non-unique, `df.isetitem(i, newvals)`\n",
      "  X_val1.loc[:,i]=ord_enc.transform(np.array(X_val1[i]).reshape(-1,1))\n",
      "/tmp/ipykernel_7446/103071274.py:8: DeprecationWarning: In a future version, `df.iloc[:, i] = newvals` will attempt to set the values inplace instead of always setting a new array. To retain the old behavior, use either `df[df.columns[i]] = newvals` or, if columns are non-unique, `df.isetitem(i, newvals)`\n",
      "  X_test.loc[:,i]=ord_enc.transform(np.array(X_test[i]).reshape(-1,1))\n",
      "/tmp/ipykernel_7446/103071274.py:6: DeprecationWarning: In a future version, `df.iloc[:, i] = newvals` will attempt to set the values inplace instead of always setting a new array. To retain the old behavior, use either `df[df.columns[i]] = newvals` or, if columns are non-unique, `df.isetitem(i, newvals)`\n",
      "  X_train1.loc[:,i]=ord_enc.transform(np.array(X_train1[i]).reshape(-1,1))\n",
      "/tmp/ipykernel_7446/103071274.py:7: DeprecationWarning: In a future version, `df.iloc[:, i] = newvals` will attempt to set the values inplace instead of always setting a new array. To retain the old behavior, use either `df[df.columns[i]] = newvals` or, if columns are non-unique, `df.isetitem(i, newvals)`\n",
      "  X_val1.loc[:,i]=ord_enc.transform(np.array(X_val1[i]).reshape(-1,1))\n",
      "/tmp/ipykernel_7446/103071274.py:8: DeprecationWarning: In a future version, `df.iloc[:, i] = newvals` will attempt to set the values inplace instead of always setting a new array. To retain the old behavior, use either `df[df.columns[i]] = newvals` or, if columns are non-unique, `df.isetitem(i, newvals)`\n",
      "  X_test.loc[:,i]=ord_enc.transform(np.array(X_test[i]).reshape(-1,1))\n",
      "/tmp/ipykernel_7446/103071274.py:6: DeprecationWarning: In a future version, `df.iloc[:, i] = newvals` will attempt to set the values inplace instead of always setting a new array. To retain the old behavior, use either `df[df.columns[i]] = newvals` or, if columns are non-unique, `df.isetitem(i, newvals)`\n",
      "  X_train1.loc[:,i]=ord_enc.transform(np.array(X_train1[i]).reshape(-1,1))\n",
      "/tmp/ipykernel_7446/103071274.py:7: DeprecationWarning: In a future version, `df.iloc[:, i] = newvals` will attempt to set the values inplace instead of always setting a new array. To retain the old behavior, use either `df[df.columns[i]] = newvals` or, if columns are non-unique, `df.isetitem(i, newvals)`\n",
      "  X_val1.loc[:,i]=ord_enc.transform(np.array(X_val1[i]).reshape(-1,1))\n",
      "/tmp/ipykernel_7446/103071274.py:8: DeprecationWarning: In a future version, `df.iloc[:, i] = newvals` will attempt to set the values inplace instead of always setting a new array. To retain the old behavior, use either `df[df.columns[i]] = newvals` or, if columns are non-unique, `df.isetitem(i, newvals)`\n",
      "  X_test.loc[:,i]=ord_enc.transform(np.array(X_test[i]).reshape(-1,1))\n",
      "/tmp/ipykernel_7446/103071274.py:6: DeprecationWarning: In a future version, `df.iloc[:, i] = newvals` will attempt to set the values inplace instead of always setting a new array. To retain the old behavior, use either `df[df.columns[i]] = newvals` or, if columns are non-unique, `df.isetitem(i, newvals)`\n",
      "  X_train1.loc[:,i]=ord_enc.transform(np.array(X_train1[i]).reshape(-1,1))\n",
      "/tmp/ipykernel_7446/103071274.py:7: DeprecationWarning: In a future version, `df.iloc[:, i] = newvals` will attempt to set the values inplace instead of always setting a new array. To retain the old behavior, use either `df[df.columns[i]] = newvals` or, if columns are non-unique, `df.isetitem(i, newvals)`\n",
      "  X_val1.loc[:,i]=ord_enc.transform(np.array(X_val1[i]).reshape(-1,1))\n",
      "/tmp/ipykernel_7446/103071274.py:8: DeprecationWarning: In a future version, `df.iloc[:, i] = newvals` will attempt to set the values inplace instead of always setting a new array. To retain the old behavior, use either `df[df.columns[i]] = newvals` or, if columns are non-unique, `df.isetitem(i, newvals)`\n",
      "  X_test.loc[:,i]=ord_enc.transform(np.array(X_test[i]).reshape(-1,1))\n",
      "/tmp/ipykernel_7446/103071274.py:6: DeprecationWarning: In a future version, `df.iloc[:, i] = newvals` will attempt to set the values inplace instead of always setting a new array. To retain the old behavior, use either `df[df.columns[i]] = newvals` or, if columns are non-unique, `df.isetitem(i, newvals)`\n",
      "  X_train1.loc[:,i]=ord_enc.transform(np.array(X_train1[i]).reshape(-1,1))\n",
      "/tmp/ipykernel_7446/103071274.py:7: DeprecationWarning: In a future version, `df.iloc[:, i] = newvals` will attempt to set the values inplace instead of always setting a new array. To retain the old behavior, use either `df[df.columns[i]] = newvals` or, if columns are non-unique, `df.isetitem(i, newvals)`\n",
      "  X_val1.loc[:,i]=ord_enc.transform(np.array(X_val1[i]).reshape(-1,1))\n",
      "/tmp/ipykernel_7446/103071274.py:8: DeprecationWarning: In a future version, `df.iloc[:, i] = newvals` will attempt to set the values inplace instead of always setting a new array. To retain the old behavior, use either `df[df.columns[i]] = newvals` or, if columns are non-unique, `df.isetitem(i, newvals)`\n",
      "  X_test.loc[:,i]=ord_enc.transform(np.array(X_test[i]).reshape(-1,1))\n",
      "/tmp/ipykernel_7446/103071274.py:6: DeprecationWarning: In a future version, `df.iloc[:, i] = newvals` will attempt to set the values inplace instead of always setting a new array. To retain the old behavior, use either `df[df.columns[i]] = newvals` or, if columns are non-unique, `df.isetitem(i, newvals)`\n",
      "  X_train1.loc[:,i]=ord_enc.transform(np.array(X_train1[i]).reshape(-1,1))\n",
      "/tmp/ipykernel_7446/103071274.py:7: DeprecationWarning: In a future version, `df.iloc[:, i] = newvals` will attempt to set the values inplace instead of always setting a new array. To retain the old behavior, use either `df[df.columns[i]] = newvals` or, if columns are non-unique, `df.isetitem(i, newvals)`\n",
      "  X_val1.loc[:,i]=ord_enc.transform(np.array(X_val1[i]).reshape(-1,1))\n",
      "/tmp/ipykernel_7446/103071274.py:8: DeprecationWarning: In a future version, `df.iloc[:, i] = newvals` will attempt to set the values inplace instead of always setting a new array. To retain the old behavior, use either `df[df.columns[i]] = newvals` or, if columns are non-unique, `df.isetitem(i, newvals)`\n",
      "  X_test.loc[:,i]=ord_enc.transform(np.array(X_test[i]).reshape(-1,1))\n",
      "/tmp/ipykernel_7446/103071274.py:6: DeprecationWarning: In a future version, `df.iloc[:, i] = newvals` will attempt to set the values inplace instead of always setting a new array. To retain the old behavior, use either `df[df.columns[i]] = newvals` or, if columns are non-unique, `df.isetitem(i, newvals)`\n",
      "  X_train1.loc[:,i]=ord_enc.transform(np.array(X_train1[i]).reshape(-1,1))\n",
      "/tmp/ipykernel_7446/103071274.py:7: DeprecationWarning: In a future version, `df.iloc[:, i] = newvals` will attempt to set the values inplace instead of always setting a new array. To retain the old behavior, use either `df[df.columns[i]] = newvals` or, if columns are non-unique, `df.isetitem(i, newvals)`\n",
      "  X_val1.loc[:,i]=ord_enc.transform(np.array(X_val1[i]).reshape(-1,1))\n",
      "/tmp/ipykernel_7446/103071274.py:8: DeprecationWarning: In a future version, `df.iloc[:, i] = newvals` will attempt to set the values inplace instead of always setting a new array. To retain the old behavior, use either `df[df.columns[i]] = newvals` or, if columns are non-unique, `df.isetitem(i, newvals)`\n",
      "  X_test.loc[:,i]=ord_enc.transform(np.array(X_test[i]).reshape(-1,1))\n",
      "/tmp/ipykernel_7446/103071274.py:6: DeprecationWarning: In a future version, `df.iloc[:, i] = newvals` will attempt to set the values inplace instead of always setting a new array. To retain the old behavior, use either `df[df.columns[i]] = newvals` or, if columns are non-unique, `df.isetitem(i, newvals)`\n",
      "  X_train1.loc[:,i]=ord_enc.transform(np.array(X_train1[i]).reshape(-1,1))\n",
      "/tmp/ipykernel_7446/103071274.py:7: DeprecationWarning: In a future version, `df.iloc[:, i] = newvals` will attempt to set the values inplace instead of always setting a new array. To retain the old behavior, use either `df[df.columns[i]] = newvals` or, if columns are non-unique, `df.isetitem(i, newvals)`\n",
      "  X_val1.loc[:,i]=ord_enc.transform(np.array(X_val1[i]).reshape(-1,1))\n",
      "/tmp/ipykernel_7446/103071274.py:8: DeprecationWarning: In a future version, `df.iloc[:, i] = newvals` will attempt to set the values inplace instead of always setting a new array. To retain the old behavior, use either `df[df.columns[i]] = newvals` or, if columns are non-unique, `df.isetitem(i, newvals)`\n",
      "  X_test.loc[:,i]=ord_enc.transform(np.array(X_test[i]).reshape(-1,1))\n",
      "/tmp/ipykernel_7446/103071274.py:6: DeprecationWarning: In a future version, `df.iloc[:, i] = newvals` will attempt to set the values inplace instead of always setting a new array. To retain the old behavior, use either `df[df.columns[i]] = newvals` or, if columns are non-unique, `df.isetitem(i, newvals)`\n",
      "  X_train1.loc[:,i]=ord_enc.transform(np.array(X_train1[i]).reshape(-1,1))\n",
      "/tmp/ipykernel_7446/103071274.py:7: DeprecationWarning: In a future version, `df.iloc[:, i] = newvals` will attempt to set the values inplace instead of always setting a new array. To retain the old behavior, use either `df[df.columns[i]] = newvals` or, if columns are non-unique, `df.isetitem(i, newvals)`\n",
      "  X_val1.loc[:,i]=ord_enc.transform(np.array(X_val1[i]).reshape(-1,1))\n",
      "/tmp/ipykernel_7446/103071274.py:8: DeprecationWarning: In a future version, `df.iloc[:, i] = newvals` will attempt to set the values inplace instead of always setting a new array. To retain the old behavior, use either `df[df.columns[i]] = newvals` or, if columns are non-unique, `df.isetitem(i, newvals)`\n",
      "  X_test.loc[:,i]=ord_enc.transform(np.array(X_test[i]).reshape(-1,1))\n"
     ]
    }
   ],
   "source": [
    "# encoding the features\n",
    "for i in X.columns:\n",
    "    if (X[i].dtype.name=='object'):\n",
    "        if i in X and X[i].nunique()<=2:\n",
    "            ord_enc.fit(np.array(X_train1[i]).reshape(-1,1))\n",
    "            X_train1.loc[:,i]=ord_enc.transform(np.array(X_train1[i]).reshape(-1,1))\n",
    "            X_val1.loc[:,i]=ord_enc.transform(np.array(X_val1[i]).reshape(-1,1))\n",
    "            X_test.loc[:,i]=ord_enc.transform(np.array(X_test[i]).reshape(-1,1))\n",
    "        else:\n",
    "            ohe_enc.fit(np.array(X_train1[i]).reshape(-1,1))\n",
    "            X_encode_tr1=pd.DataFrame(ohe_enc.transform(np.array(X_train1[i]).reshape(-1,1)).toarray(),columns=ohe_enc.get_feature_names_out([i]))\n",
    "            X_encode_va1=pd.DataFrame(ohe_enc.transform(np.array(X_val1[i]).reshape(-1,1)).toarray(),columns=ohe_enc.get_feature_names_out([i]))\n",
    "            X_encode1=pd.DataFrame(ohe_enc.transform(np.array(X_test[i]).reshape(-1,1)).toarray(),columns=ohe_enc.get_feature_names_out([i]))\n",
    "            X_train1=pd.concat([X_train1,X_encode_tr1],axis=1)\n",
    "            X_val1=pd.concat([X_val1,X_encode_va1],axis=1)\n",
    "            X_test=pd.concat([X_test,X_encode1],axis=1)\n",
    "            X_train1.drop(columns=[i],inplace=True)\n",
    "            X_val1.drop(columns=[i],inplace=True)\n",
    "            X_test.drop(columns=[i],inplace=True)"
   ]
  },
  {
   "cell_type": "code",
   "execution_count": 24,
   "id": "e88bdc43",
   "metadata": {
    "execution": {
     "iopub.execute_input": "2021-11-30T13:29:23.296483Z",
     "iopub.status.busy": "2021-11-30T13:29:23.295506Z",
     "iopub.status.idle": "2021-11-30T13:29:23.299186Z",
     "shell.execute_reply": "2021-11-30T13:29:23.299948Z",
     "shell.execute_reply.started": "2021-11-30T12:32:38.883341Z"
    },
    "papermill": {
     "duration": 0.10175,
     "end_time": "2021-11-30T13:29:23.300151",
     "exception": false,
     "start_time": "2021-11-30T13:29:23.198401",
     "status": "completed"
    },
    "tags": [],
    "ExecuteTime": {
     "end_time": "2023-12-17T21:56:18.729287150Z",
     "start_time": "2023-12-17T21:56:18.705652804Z"
    }
   },
   "outputs": [],
   "source": [
    "X_train1.drop(columns='index',inplace=True)\n",
    "X_val1.drop(columns='index',inplace=True)"
   ]
  },
  {
   "cell_type": "code",
   "execution_count": 25,
   "id": "cec5a625",
   "metadata": {
    "execution": {
     "iopub.execute_input": "2021-11-30T13:29:23.479045Z",
     "iopub.status.busy": "2021-11-30T13:29:23.477864Z",
     "iopub.status.idle": "2021-11-30T13:29:23.492216Z",
     "shell.execute_reply": "2021-11-30T13:29:23.492804Z",
     "shell.execute_reply.started": "2021-11-30T12:32:39.562601Z"
    },
    "papermill": {
     "duration": 0.105461,
     "end_time": "2021-11-30T13:29:23.493019",
     "exception": false,
     "start_time": "2021-11-30T13:29:23.387558",
     "status": "completed"
    },
    "tags": [],
    "ExecuteTime": {
     "end_time": "2023-12-17T21:56:19.981259333Z",
     "start_time": "2023-12-17T21:56:19.944623473Z"
    }
   },
   "outputs": [],
   "source": [
    "from sklearn.preprocessing import MinMaxScaler\n",
    "min_max=MinMaxScaler()\n",
    "X2=min_max.fit_transform(X_train1)"
   ]
  },
  {
   "cell_type": "code",
   "execution_count": 26,
   "id": "3630c58d",
   "metadata": {
    "execution": {
     "iopub.execute_input": "2021-11-30T13:29:23.669565Z",
     "iopub.status.busy": "2021-11-30T13:29:23.668486Z",
     "iopub.status.idle": "2021-11-30T13:29:23.673178Z",
     "shell.execute_reply": "2021-11-30T13:29:23.673720Z",
     "shell.execute_reply.started": "2021-11-30T12:32:40.292366Z"
    },
    "papermill": {
     "duration": 0.091792,
     "end_time": "2021-11-30T13:29:23.673958",
     "exception": false,
     "start_time": "2021-11-30T13:29:23.582166",
     "status": "completed"
    },
    "tags": [],
    "ExecuteTime": {
     "end_time": "2023-12-17T21:56:24.982291325Z",
     "start_time": "2023-12-17T21:56:24.939765731Z"
    }
   },
   "outputs": [],
   "source": [
    "# normalised minmax\n",
    "X2=pd.DataFrame(X2,columns=X_train1.columns)"
   ]
  },
  {
   "cell_type": "code",
   "execution_count": 27,
   "id": "2115cecd",
   "metadata": {
    "execution": {
     "iopub.execute_input": "2021-11-30T13:29:23.886919Z",
     "iopub.status.busy": "2021-11-30T13:29:23.885502Z",
     "iopub.status.idle": "2021-11-30T13:29:23.895034Z",
     "shell.execute_reply": "2021-11-30T13:29:23.894217Z",
     "shell.execute_reply.started": "2021-11-30T12:32:41.048285Z"
    },
    "papermill": {
     "duration": 0.127749,
     "end_time": "2021-11-30T13:29:23.895198",
     "exception": false,
     "start_time": "2021-11-30T13:29:23.767449",
     "status": "completed"
    },
    "tags": [],
    "ExecuteTime": {
     "end_time": "2023-12-17T21:56:26.026668798Z",
     "start_time": "2023-12-17T21:56:26.010096642Z"
    }
   },
   "outputs": [],
   "source": [
    "#normalised val1\n",
    "X2_val=min_max.transform(X_val1)\n",
    "X2_val=pd.DataFrame(X2_val,columns=X_val1.columns)"
   ]
  },
  {
   "cell_type": "code",
   "execution_count": 28,
   "id": "10d298e9",
   "metadata": {
    "execution": {
     "iopub.execute_input": "2021-11-30T13:29:24.075858Z",
     "iopub.status.busy": "2021-11-30T13:29:24.074727Z",
     "iopub.status.idle": "2021-11-30T13:29:24.083235Z",
     "shell.execute_reply": "2021-11-30T13:29:24.083883Z",
     "shell.execute_reply.started": "2021-11-30T12:32:41.855508Z"
    },
    "papermill": {
     "duration": 0.099274,
     "end_time": "2021-11-30T13:29:24.084083",
     "exception": false,
     "start_time": "2021-11-30T13:29:23.984809",
     "status": "completed"
    },
    "tags": [],
    "ExecuteTime": {
     "end_time": "2023-12-17T21:56:26.942116826Z",
     "start_time": "2023-12-17T21:56:26.924372558Z"
    }
   },
   "outputs": [],
   "source": [
    "#normalised test\n",
    "X2_test=min_max.transform(X_test)\n",
    "X2_test=pd.DataFrame(X2_test,columns=X_test.columns)"
   ]
  },
  {
   "cell_type": "code",
   "execution_count": 29,
   "id": "929b46c1",
   "metadata": {
    "execution": {
     "iopub.execute_input": "2021-11-30T13:29:24.262971Z",
     "iopub.status.busy": "2021-11-30T13:29:24.256418Z",
     "iopub.status.idle": "2021-11-30T13:29:24.266528Z",
     "shell.execute_reply": "2021-11-30T13:29:24.267147Z",
     "shell.execute_reply.started": "2021-11-30T12:32:42.709173Z"
    },
    "papermill": {
     "duration": 0.098962,
     "end_time": "2021-11-30T13:29:24.267344",
     "exception": false,
     "start_time": "2021-11-30T13:29:24.168382",
     "status": "completed"
    },
    "tags": [],
    "ExecuteTime": {
     "end_time": "2023-12-17T21:56:29.458684050Z",
     "start_time": "2023-12-17T21:56:29.442564033Z"
    }
   },
   "outputs": [],
   "source": [
    "# enoding the target variables1\n",
    "lab_enc1=LabelEncoder()\n",
    "y1_en=lab_enc1.fit_transform(y_train1)\n",
    "y1_en_val=lab_enc1.transform(y_val1)"
   ]
  },
  {
   "cell_type": "code",
   "execution_count": 31,
   "id": "dfbcec20",
   "metadata": {
    "execution": {
     "iopub.execute_input": "2021-11-30T13:29:24.624493Z",
     "iopub.status.busy": "2021-11-30T13:29:24.623387Z",
     "iopub.status.idle": "2021-11-30T13:29:24.634093Z",
     "shell.execute_reply": "2021-11-30T13:29:24.633346Z",
     "shell.execute_reply.started": "2021-11-30T12:32:44.250519Z"
    },
    "papermill": {
     "duration": 0.09994,
     "end_time": "2021-11-30T13:29:24.634252",
     "exception": false,
     "start_time": "2021-11-30T13:29:24.534312",
     "status": "completed"
    },
    "tags": [],
    "ExecuteTime": {
     "end_time": "2023-12-17T21:56:34.290037907Z",
     "start_time": "2023-12-17T21:56:34.275097004Z"
    }
   },
   "outputs": [],
   "source": [
    "# enoding the target variables2\n",
    "lab_enc2=LabelEncoder()\n",
    "y2_en=lab_enc2.fit_transform(y_train2)\n",
    "y2_en_val=lab_enc2.transform(y_val2)"
   ]
  },
  {
   "cell_type": "markdown",
   "id": "8fee2c78",
   "metadata": {
    "papermill": {
     "duration": 0.08477,
     "end_time": "2021-11-30T13:29:24.986453",
     "exception": false,
     "start_time": "2021-11-30T13:29:24.901683",
     "status": "completed"
    },
    "tags": []
   },
   "source": [
    "### genetic_disorder"
   ]
  },
  {
   "cell_type": "code",
   "execution_count": 33,
   "id": "ebff1bab",
   "metadata": {
    "execution": {
     "iopub.execute_input": "2021-11-30T13:29:25.161944Z",
     "iopub.status.busy": "2021-11-30T13:29:25.160813Z",
     "iopub.status.idle": "2021-11-30T13:29:37.011165Z",
     "shell.execute_reply": "2021-11-30T13:29:37.012057Z",
     "shell.execute_reply.started": "2021-11-30T12:33:15.193251Z"
    },
    "papermill": {
     "duration": 11.939352,
     "end_time": "2021-11-30T13:29:37.012340",
     "exception": false,
     "start_time": "2021-11-30T13:29:25.072988",
     "status": "completed"
    },
    "tags": [],
    "ExecuteTime": {
     "end_time": "2023-12-17T21:56:37.973006430Z",
     "start_time": "2023-12-17T21:56:37.647595968Z"
    }
   },
   "outputs": [
    {
     "name": "stdout",
     "output_type": "stream",
     "text": [
      "shape of X before SMOTE: (14437, 48) \n",
      "shape of X after SMOTE: (22176, 48)\n",
      "balanced class (%):\n"
     ]
    },
    {
     "data": {
      "text/plain": "0    33.333333\n1    33.333333\n2    33.333333\ndtype: float64"
     },
     "execution_count": 33,
     "metadata": {},
     "output_type": "execute_result"
    }
   ],
   "source": [
    "from imblearn.over_sampling import BorderlineSMOTE\n",
    "sm = BorderlineSMOTE(random_state=42)\n",
    "X_sm, y_sm = sm.fit_resample(X2, pd.DataFrame(y1_en))\n",
    "print(f'''shape of X before SMOTE: {X2.shape} \n",
    "shape of X after SMOTE: {X_sm.shape}''')\n",
    "print('balanced class (%):')\n",
    "y_sm.value_counts(normalize=True) * 100"
   ]
  },
  {
   "cell_type": "code",
   "execution_count": 34,
   "id": "1c1c03e7",
   "metadata": {
    "execution": {
     "iopub.execute_input": "2021-11-30T13:29:37.412514Z",
     "iopub.status.busy": "2021-11-30T13:29:37.411753Z",
     "iopub.status.idle": "2021-11-30T13:29:37.415710Z",
     "shell.execute_reply": "2021-11-30T13:29:37.415108Z",
     "shell.execute_reply.started": "2021-11-30T12:33:31.389990Z"
    },
    "papermill": {
     "duration": 0.101547,
     "end_time": "2021-11-30T13:29:37.415948",
     "exception": false,
     "start_time": "2021-11-30T13:29:37.314401",
     "status": "completed"
    },
    "tags": [],
    "ExecuteTime": {
     "end_time": "2023-12-17T21:56:47.158501617Z",
     "start_time": "2023-12-17T21:56:47.138886313Z"
    }
   },
   "outputs": [],
   "source": [
    "y1_enco=np.array(y_sm).ravel()"
   ]
  },
  {
   "cell_type": "code",
   "execution_count": 35,
   "id": "89446b5c",
   "metadata": {
    "execution": {
     "iopub.execute_input": "2021-11-30T13:29:37.598972Z",
     "iopub.status.busy": "2021-11-30T13:29:37.598164Z",
     "iopub.status.idle": "2021-11-30T13:29:37.601854Z",
     "shell.execute_reply": "2021-11-30T13:29:37.602455Z",
     "shell.execute_reply.started": "2021-11-30T12:33:32.338453Z"
    },
    "papermill": {
     "duration": 0.097003,
     "end_time": "2021-11-30T13:29:37.602656",
     "exception": false,
     "start_time": "2021-11-30T13:29:37.505653",
     "status": "completed"
    },
    "tags": [],
    "ExecuteTime": {
     "end_time": "2023-12-17T21:56:48.821136783Z",
     "start_time": "2023-12-17T21:56:48.814322362Z"
    }
   },
   "outputs": [],
   "source": [
    "from sklearn.feature_selection import SelectKBest,chi2"
   ]
  },
  {
   "cell_type": "code",
   "execution_count": 61,
   "id": "eb5885a7",
   "metadata": {
    "execution": {
     "iopub.execute_input": "2021-11-30T13:29:37.784075Z",
     "iopub.status.busy": "2021-11-30T13:29:37.783243Z",
     "iopub.status.idle": "2021-11-30T13:29:37.821514Z",
     "shell.execute_reply": "2021-11-30T13:29:37.822601Z",
     "shell.execute_reply.started": "2021-11-30T12:33:34.128943Z"
    },
    "papermill": {
     "duration": 0.131274,
     "end_time": "2021-11-30T13:29:37.822952",
     "exception": false,
     "start_time": "2021-11-30T13:29:37.691678",
     "status": "completed"
    },
    "tags": [],
    "ExecuteTime": {
     "end_time": "2023-12-17T22:05:55.850479567Z",
     "start_time": "2023-12-17T22:05:55.809182753Z"
    }
   },
   "outputs": [],
   "source": [
    "sel1=SelectKBest(chi2, k=15).fit(X_sm,y1_enco)"
   ]
  },
  {
   "cell_type": "code",
   "execution_count": 62,
   "id": "2498da7a",
   "metadata": {
    "execution": {
     "iopub.execute_input": "2021-11-30T13:29:38.065289Z",
     "iopub.status.busy": "2021-11-30T13:29:38.063266Z",
     "iopub.status.idle": "2021-11-30T13:29:38.068372Z",
     "shell.execute_reply": "2021-11-30T13:29:38.069146Z",
     "shell.execute_reply.started": "2021-11-30T12:33:37.713171Z"
    },
    "papermill": {
     "duration": 0.103799,
     "end_time": "2021-11-30T13:29:38.069345",
     "exception": false,
     "start_time": "2021-11-30T13:29:37.965546",
     "status": "completed"
    },
    "tags": [],
    "ExecuteTime": {
     "end_time": "2023-12-17T22:05:56.761607875Z",
     "start_time": "2023-12-17T22:05:56.758372228Z"
    }
   },
   "outputs": [
    {
     "name": "stdout",
     "output_type": "stream",
     "text": [
      "(22176, 15)\n"
     ]
    }
   ],
   "source": [
    "cols=sel1.get_support(indices=True)\n",
    "print(X_sm.iloc[:,cols].shape)\n",
    "result_kbest_20=X_sm.iloc[:,cols]"
   ]
  },
  {
   "cell_type": "code",
   "execution_count": 63,
   "id": "cbfb3ba7",
   "metadata": {
    "execution": {
     "iopub.execute_input": "2021-11-30T13:29:38.250264Z",
     "iopub.status.busy": "2021-11-30T13:29:38.249504Z",
     "iopub.status.idle": "2021-11-30T13:29:38.255875Z",
     "shell.execute_reply": "2021-11-30T13:29:38.256456Z",
     "shell.execute_reply.started": "2021-11-30T12:33:40.986080Z"
    },
    "papermill": {
     "duration": 0.09923,
     "end_time": "2021-11-30T13:29:38.256660",
     "exception": false,
     "start_time": "2021-11-30T13:29:38.157430",
     "status": "completed"
    },
    "tags": [],
    "ExecuteTime": {
     "end_time": "2023-12-17T22:05:57.496327215Z",
     "start_time": "2023-12-17T22:05:57.486666632Z"
    }
   },
   "outputs": [
    {
     "name": "stdout",
     "output_type": "stream",
     "text": [
      "Index(['defective_mother', 'defective_father', 'maternal_gene',\n",
      "       'paternal_gene', 'folic_acid_periconceptional',\n",
      "       'previous_pregnancy_anomalies', 'Symptom 1', 'Symptom 2', 'Symptom 3',\n",
      "       'Symptom 4', 'Symptom 5', 'birth_defect_autopsy_None',\n",
      "       'blood_test_result_abnormal', 'blood_test_result_normal',\n",
      "       'blood_test_result_slightly abnormal'],\n",
      "      dtype='object')\n"
     ]
    }
   ],
   "source": [
    "sele_fea= X2.columns[(sel1.get_support())]\n",
    "print(sele_fea)"
   ]
  },
  {
   "cell_type": "code",
   "execution_count": 64,
   "id": "9f636fb7",
   "metadata": {
    "execution": {
     "iopub.execute_input": "2021-11-30T13:29:38.442830Z",
     "iopub.status.busy": "2021-11-30T13:29:38.441928Z",
     "iopub.status.idle": "2021-11-30T13:29:38.445942Z",
     "shell.execute_reply": "2021-11-30T13:29:38.446520Z",
     "shell.execute_reply.started": "2021-11-30T12:33:45.796209Z"
    },
    "papermill": {
     "duration": 0.100965,
     "end_time": "2021-11-30T13:29:38.446719",
     "exception": false,
     "start_time": "2021-11-30T13:29:38.345754",
     "status": "completed"
    },
    "tags": [],
    "ExecuteTime": {
     "end_time": "2023-12-17T22:05:58.364647406Z",
     "start_time": "2023-12-17T22:05:58.361778021Z"
    }
   },
   "outputs": [
    {
     "name": "stdout",
     "output_type": "stream",
     "text": [
      "(3610, 15)\n"
     ]
    }
   ],
   "source": [
    "print(X2_val.iloc[:,cols].shape)\n",
    "result_kbest_val=X2_val.iloc[:,cols]"
   ]
  },
  {
   "cell_type": "code",
   "execution_count": 65,
   "id": "48a5f186",
   "metadata": {
    "execution": {
     "iopub.execute_input": "2021-11-30T13:29:38.634242Z",
     "iopub.status.busy": "2021-11-30T13:29:38.633345Z",
     "iopub.status.idle": "2021-11-30T13:29:38.637263Z",
     "shell.execute_reply": "2021-11-30T13:29:38.638010Z",
     "shell.execute_reply.started": "2021-11-30T12:33:48.601437Z"
    },
    "papermill": {
     "duration": 0.100074,
     "end_time": "2021-11-30T13:29:38.638208",
     "exception": false,
     "start_time": "2021-11-30T13:29:38.538134",
     "status": "completed"
    },
    "tags": [],
    "ExecuteTime": {
     "end_time": "2023-12-17T22:05:58.962443867Z",
     "start_time": "2023-12-17T22:05:58.959924692Z"
    }
   },
   "outputs": [
    {
     "name": "stdout",
     "output_type": "stream",
     "text": [
      "(9465, 15)\n"
     ]
    }
   ],
   "source": [
    "print(X2_test.iloc[:,cols].shape)\n",
    "result_kbest_test20=X2_test.iloc[:,cols]"
   ]
  },
  {
   "cell_type": "code",
   "execution_count": 66,
   "id": "b46675c4",
   "metadata": {
    "execution": {
     "iopub.execute_input": "2021-11-30T13:29:38.819853Z",
     "iopub.status.busy": "2021-11-30T13:29:38.818799Z",
     "iopub.status.idle": "2021-11-30T13:29:38.822112Z",
     "shell.execute_reply": "2021-11-30T13:29:38.821448Z",
     "shell.execute_reply.started": "2021-11-30T12:33:49.640356Z"
    },
    "papermill": {
     "duration": 0.095985,
     "end_time": "2021-11-30T13:29:38.822268",
     "exception": false,
     "start_time": "2021-11-30T13:29:38.726283",
     "status": "completed"
    },
    "tags": [],
    "ExecuteTime": {
     "end_time": "2023-12-17T22:06:00.335681516Z",
     "start_time": "2023-12-17T22:06:00.329877221Z"
    }
   },
   "outputs": [],
   "source": [
    "from sklearn.metrics import f1_score"
   ]
  },
  {
   "cell_type": "code",
   "execution_count": 67,
   "id": "41284c45",
   "metadata": {
    "execution": {
     "iopub.execute_input": "2021-11-30T13:35:04.592982Z",
     "iopub.status.busy": "2021-11-30T13:35:04.592246Z",
     "iopub.status.idle": "2021-11-30T13:35:05.266752Z",
     "shell.execute_reply": "2021-11-30T13:35:05.267454Z",
     "shell.execute_reply.started": "2021-11-30T12:39:55.496809Z"
    },
    "papermill": {
     "duration": 0.771065,
     "end_time": "2021-11-30T13:35:05.267645",
     "exception": false,
     "start_time": "2021-11-30T13:35:04.496580",
     "status": "completed"
    },
    "tags": [],
    "ExecuteTime": {
     "end_time": "2023-12-17T22:06:01.207752907Z",
     "start_time": "2023-12-17T22:06:00.909115204Z"
    }
   },
   "outputs": [
    {
     "name": "stdout",
     "output_type": "stream",
     "text": [
      "The train f1_macro is: 0.6832191567014755\n",
      "The cross validation f1_macro is: 0.5588130468927824\n"
     ]
    }
   ],
   "source": [
    "DT = DecisionTreeClassifier(max_depth=20,min_samples_leaf=50,random_state=42)\n",
    "DT.fit(result_kbest_20,y1_enco)\n",
    "cal_clf = CalibratedClassifierCV(DT, method=\"sigmoid\")\n",
    "cal_clf.fit(result_kbest_20,y1_enco)\n",
    "predict_y =cal_clf .predict(result_kbest_20)\n",
    "print ('The train f1_macro is:',f1_score(y1_enco, predict_y,average='macro'))\n",
    "predict_y = cal_clf.predict(result_kbest_val)\n",
    "print('The cross validation f1_macro is:',f1_score(y1_en_val, predict_y,average='macro'))"
   ]
  },
  {
   "cell_type": "code",
   "execution_count": 43,
   "id": "64119b89",
   "metadata": {
    "execution": {
     "iopub.execute_input": "2021-11-30T13:35:05.479960Z",
     "iopub.status.busy": "2021-11-30T13:35:05.479149Z",
     "iopub.status.idle": "2021-11-30T13:47:54.635573Z",
     "shell.execute_reply": "2021-11-30T13:47:54.636227Z",
     "shell.execute_reply.started": "2021-11-30T12:40:00.988211Z"
    },
    "papermill": {
     "duration": 769.267607,
     "end_time": "2021-11-30T13:47:54.636465",
     "exception": false,
     "start_time": "2021-11-30T13:35:05.368858",
     "status": "completed"
    },
    "tags": [],
    "ExecuteTime": {
     "end_time": "2023-12-17T21:59:15.778059553Z",
     "start_time": "2023-12-17T21:57:22.086658188Z"
    }
   },
   "outputs": [
    {
     "name": "stdout",
     "output_type": "stream",
     "text": [
      "Fitting 5 folds for each of 10 candidates, totalling 50 fits\n"
     ]
    },
    {
     "name": "stderr",
     "output_type": "stream",
     "text": [
      "/home/nicogusuarez/Documents/.venvs/ML/lib/python3.10/site-packages/sklearn/ensemble/_forest.py:424: FutureWarning: `max_features='auto'` has been deprecated in 1.1 and will be removed in 1.3. To keep the past behaviour, explicitly set `max_features='sqrt'` or remove this parameter as it is also the default value for RandomForestClassifiers and ExtraTreesClassifiers.\n",
      "  warn(\n",
      "/home/nicogusuarez/Documents/.venvs/ML/lib/python3.10/site-packages/sklearn/ensemble/_forest.py:424: FutureWarning: `max_features='auto'` has been deprecated in 1.1 and will be removed in 1.3. To keep the past behaviour, explicitly set `max_features='sqrt'` or remove this parameter as it is also the default value for RandomForestClassifiers and ExtraTreesClassifiers.\n",
      "  warn(\n",
      "/home/nicogusuarez/Documents/.venvs/ML/lib/python3.10/site-packages/sklearn/ensemble/_forest.py:424: FutureWarning: `max_features='auto'` has been deprecated in 1.1 and will be removed in 1.3. To keep the past behaviour, explicitly set `max_features='sqrt'` or remove this parameter as it is also the default value for RandomForestClassifiers and ExtraTreesClassifiers.\n",
      "  warn(\n",
      "/home/nicogusuarez/Documents/.venvs/ML/lib/python3.10/site-packages/sklearn/ensemble/_forest.py:424: FutureWarning: `max_features='auto'` has been deprecated in 1.1 and will be removed in 1.3. To keep the past behaviour, explicitly set `max_features='sqrt'` or remove this parameter as it is also the default value for RandomForestClassifiers and ExtraTreesClassifiers.\n",
      "  warn(\n",
      "/home/nicogusuarez/Documents/.venvs/ML/lib/python3.10/site-packages/sklearn/ensemble/_forest.py:424: FutureWarning: `max_features='auto'` has been deprecated in 1.1 and will be removed in 1.3. To keep the past behaviour, explicitly set `max_features='sqrt'` or remove this parameter as it is also the default value for RandomForestClassifiers and ExtraTreesClassifiers.\n",
      "  warn(\n",
      "/home/nicogusuarez/Documents/.venvs/ML/lib/python3.10/site-packages/sklearn/ensemble/_forest.py:424: FutureWarning: `max_features='auto'` has been deprecated in 1.1 and will be removed in 1.3. To keep the past behaviour, explicitly set `max_features='sqrt'` or remove this parameter as it is also the default value for RandomForestClassifiers and ExtraTreesClassifiers.\n",
      "  warn(\n",
      "/home/nicogusuarez/Documents/.venvs/ML/lib/python3.10/site-packages/sklearn/ensemble/_forest.py:424: FutureWarning: `max_features='auto'` has been deprecated in 1.1 and will be removed in 1.3. To keep the past behaviour, explicitly set `max_features='sqrt'` or remove this parameter as it is also the default value for RandomForestClassifiers and ExtraTreesClassifiers.\n",
      "  warn(\n",
      "/home/nicogusuarez/Documents/.venvs/ML/lib/python3.10/site-packages/sklearn/ensemble/_forest.py:424: FutureWarning: `max_features='auto'` has been deprecated in 1.1 and will be removed in 1.3. To keep the past behaviour, explicitly set `max_features='sqrt'` or remove this parameter as it is also the default value for RandomForestClassifiers and ExtraTreesClassifiers.\n",
      "  warn(\n"
     ]
    },
    {
     "name": "stdout",
     "output_type": "stream",
     "text": [
      "[CV 3/5; 3/10] START bootstrap=True, max_depth=60, max_features=sqrt, min_samples_leaf=4, min_samples_split=10, n_estimators=1400\n",
      "[CV 3/5; 3/10] END bootstrap=True, max_depth=60, max_features=sqrt, min_samples_leaf=4, min_samples_split=10, n_estimators=1400;, score=0.713 total time=  33.8s\n",
      "[CV 4/5; 4/10] START bootstrap=False, max_depth=30, max_features=sqrt, min_samples_leaf=4, min_samples_split=10, n_estimators=1800\n",
      "[CV 4/5; 4/10] END bootstrap=False, max_depth=30, max_features=sqrt, min_samples_leaf=4, min_samples_split=10, n_estimators=1800;, score=0.745 total time= 1.0min\n"
     ]
    },
    {
     "name": "stderr",
     "output_type": "stream",
     "text": [
      "/home/nicogusuarez/Documents/.venvs/ML/lib/python3.10/site-packages/joblib/externals/loky/process_executor.py:752: UserWarning: A worker stopped while some jobs were given to the executor. This can be caused by a too short worker timeout or by a memory leak.\n",
      "  warnings.warn(\n",
      "/home/nicogusuarez/Documents/.venvs/ML/lib/python3.10/site-packages/sklearn/ensemble/_forest.py:424: FutureWarning: `max_features='auto'` has been deprecated in 1.1 and will be removed in 1.3. To keep the past behaviour, explicitly set `max_features='sqrt'` or remove this parameter as it is also the default value for RandomForestClassifiers and ExtraTreesClassifiers.\n",
      "  warn(\n",
      "/home/nicogusuarez/Documents/.venvs/ML/lib/python3.10/site-packages/sklearn/ensemble/_forest.py:424: FutureWarning: `max_features='auto'` has been deprecated in 1.1 and will be removed in 1.3. To keep the past behaviour, explicitly set `max_features='sqrt'` or remove this parameter as it is also the default value for RandomForestClassifiers and ExtraTreesClassifiers.\n",
      "  warn(\n",
      "/home/nicogusuarez/Documents/.venvs/ML/lib/python3.10/site-packages/sklearn/ensemble/_forest.py:424: FutureWarning: `max_features='auto'` has been deprecated in 1.1 and will be removed in 1.3. To keep the past behaviour, explicitly set `max_features='sqrt'` or remove this parameter as it is also the default value for RandomForestClassifiers and ExtraTreesClassifiers.\n",
      "  warn(\n",
      "/home/nicogusuarez/Documents/.venvs/ML/lib/python3.10/site-packages/sklearn/ensemble/_forest.py:424: FutureWarning: `max_features='auto'` has been deprecated in 1.1 and will be removed in 1.3. To keep the past behaviour, explicitly set `max_features='sqrt'` or remove this parameter as it is also the default value for RandomForestClassifiers and ExtraTreesClassifiers.\n",
      "  warn(\n",
      "/home/nicogusuarez/Documents/.venvs/ML/lib/python3.10/site-packages/sklearn/ensemble/_forest.py:424: FutureWarning: `max_features='auto'` has been deprecated in 1.1 and will be removed in 1.3. To keep the past behaviour, explicitly set `max_features='sqrt'` or remove this parameter as it is also the default value for RandomForestClassifiers and ExtraTreesClassifiers.\n",
      "  warn(\n",
      "/home/nicogusuarez/Documents/.venvs/ML/lib/python3.10/site-packages/sklearn/ensemble/_forest.py:424: FutureWarning: `max_features='auto'` has been deprecated in 1.1 and will be removed in 1.3. To keep the past behaviour, explicitly set `max_features='sqrt'` or remove this parameter as it is also the default value for RandomForestClassifiers and ExtraTreesClassifiers.\n",
      "  warn(\n",
      "/home/nicogusuarez/Documents/.venvs/ML/lib/python3.10/site-packages/sklearn/ensemble/_forest.py:424: FutureWarning: `max_features='auto'` has been deprecated in 1.1 and will be removed in 1.3. To keep the past behaviour, explicitly set `max_features='sqrt'` or remove this parameter as it is also the default value for RandomForestClassifiers and ExtraTreesClassifiers.\n",
      "  warn(\n"
     ]
    },
    {
     "ename": "KeyboardInterrupt",
     "evalue": "",
     "output_type": "error",
     "traceback": [
      "\u001B[0;31m---------------------------------------------------------------------------\u001B[0m",
      "\u001B[0;31mKeyboardInterrupt\u001B[0m                         Traceback (most recent call last)",
      "Cell \u001B[0;32mIn[43], line 9\u001B[0m\n\u001B[1;32m      2\u001B[0m params1\u001B[38;5;241m=\u001B[39m{\u001B[38;5;124m'\u001B[39m\u001B[38;5;124mbootstrap\u001B[39m\u001B[38;5;124m'\u001B[39m: [\u001B[38;5;28;01mTrue\u001B[39;00m, \u001B[38;5;28;01mFalse\u001B[39;00m],\n\u001B[1;32m      3\u001B[0m  \u001B[38;5;124m'\u001B[39m\u001B[38;5;124mmax_depth\u001B[39m\u001B[38;5;124m'\u001B[39m: [\u001B[38;5;241m10\u001B[39m, \u001B[38;5;241m20\u001B[39m, \u001B[38;5;241m30\u001B[39m, \u001B[38;5;241m40\u001B[39m, \u001B[38;5;241m50\u001B[39m, \u001B[38;5;241m60\u001B[39m],\n\u001B[1;32m      4\u001B[0m  \u001B[38;5;124m'\u001B[39m\u001B[38;5;124mmax_features\u001B[39m\u001B[38;5;124m'\u001B[39m: [\u001B[38;5;124m'\u001B[39m\u001B[38;5;124mauto\u001B[39m\u001B[38;5;124m'\u001B[39m, \u001B[38;5;124m'\u001B[39m\u001B[38;5;124msqrt\u001B[39m\u001B[38;5;124m'\u001B[39m],\n\u001B[1;32m      5\u001B[0m  \u001B[38;5;124m'\u001B[39m\u001B[38;5;124mmin_samples_leaf\u001B[39m\u001B[38;5;124m'\u001B[39m: [\u001B[38;5;241m1\u001B[39m, \u001B[38;5;241m2\u001B[39m, \u001B[38;5;241m4\u001B[39m],\n\u001B[1;32m      6\u001B[0m  \u001B[38;5;124m'\u001B[39m\u001B[38;5;124mmin_samples_split\u001B[39m\u001B[38;5;124m'\u001B[39m: [\u001B[38;5;241m2\u001B[39m, \u001B[38;5;241m5\u001B[39m, \u001B[38;5;241m10\u001B[39m],\n\u001B[1;32m      7\u001B[0m  \u001B[38;5;124m'\u001B[39m\u001B[38;5;124mn_estimators\u001B[39m\u001B[38;5;124m'\u001B[39m: [\u001B[38;5;241m600\u001B[39m, \u001B[38;5;241m800\u001B[39m, \u001B[38;5;241m1000\u001B[39m, \u001B[38;5;241m1200\u001B[39m, \u001B[38;5;241m1400\u001B[39m, \u001B[38;5;241m1600\u001B[39m, \u001B[38;5;241m1800\u001B[39m, \u001B[38;5;241m2000\u001B[39m]}\n\u001B[1;32m      8\u001B[0m random_rfc\u001B[38;5;241m=\u001B[39mRandomizedSearchCV(rfc,param_distributions\u001B[38;5;241m=\u001B[39mparams1,verbose\u001B[38;5;241m=\u001B[39m\u001B[38;5;241m10\u001B[39m,n_jobs\u001B[38;5;241m=\u001B[39m\u001B[38;5;241m-\u001B[39m\u001B[38;5;241m1\u001B[39m,random_state\u001B[38;5;241m=\u001B[39m\u001B[38;5;241m42\u001B[39m)\n\u001B[0;32m----> 9\u001B[0m \u001B[43mrandom_rfc\u001B[49m\u001B[38;5;241;43m.\u001B[39;49m\u001B[43mfit\u001B[49m\u001B[43m(\u001B[49m\u001B[43mresult_kbest_20\u001B[49m\u001B[43m,\u001B[49m\u001B[43my1_enco\u001B[49m\u001B[43m)\u001B[49m\n",
      "File \u001B[0;32m~/Documents/.venvs/ML/lib/python3.10/site-packages/sklearn/model_selection/_search.py:874\u001B[0m, in \u001B[0;36mBaseSearchCV.fit\u001B[0;34m(self, X, y, groups, **fit_params)\u001B[0m\n\u001B[1;32m    868\u001B[0m     results \u001B[38;5;241m=\u001B[39m \u001B[38;5;28mself\u001B[39m\u001B[38;5;241m.\u001B[39m_format_results(\n\u001B[1;32m    869\u001B[0m         all_candidate_params, n_splits, all_out, all_more_results\n\u001B[1;32m    870\u001B[0m     )\n\u001B[1;32m    872\u001B[0m     \u001B[38;5;28;01mreturn\u001B[39;00m results\n\u001B[0;32m--> 874\u001B[0m \u001B[38;5;28;43mself\u001B[39;49m\u001B[38;5;241;43m.\u001B[39;49m\u001B[43m_run_search\u001B[49m\u001B[43m(\u001B[49m\u001B[43mevaluate_candidates\u001B[49m\u001B[43m)\u001B[49m\n\u001B[1;32m    876\u001B[0m \u001B[38;5;66;03m# multimetric is determined here because in the case of a callable\u001B[39;00m\n\u001B[1;32m    877\u001B[0m \u001B[38;5;66;03m# self.scoring the return type is only known after calling\u001B[39;00m\n\u001B[1;32m    878\u001B[0m first_test_score \u001B[38;5;241m=\u001B[39m all_out[\u001B[38;5;241m0\u001B[39m][\u001B[38;5;124m\"\u001B[39m\u001B[38;5;124mtest_scores\u001B[39m\u001B[38;5;124m\"\u001B[39m]\n",
      "File \u001B[0;32m~/Documents/.venvs/ML/lib/python3.10/site-packages/sklearn/model_selection/_search.py:1768\u001B[0m, in \u001B[0;36mRandomizedSearchCV._run_search\u001B[0;34m(self, evaluate_candidates)\u001B[0m\n\u001B[1;32m   1766\u001B[0m \u001B[38;5;28;01mdef\u001B[39;00m \u001B[38;5;21m_run_search\u001B[39m(\u001B[38;5;28mself\u001B[39m, evaluate_candidates):\n\u001B[1;32m   1767\u001B[0m \u001B[38;5;250m    \u001B[39m\u001B[38;5;124;03m\"\"\"Search n_iter candidates from param_distributions\"\"\"\u001B[39;00m\n\u001B[0;32m-> 1768\u001B[0m     \u001B[43mevaluate_candidates\u001B[49m\u001B[43m(\u001B[49m\n\u001B[1;32m   1769\u001B[0m \u001B[43m        \u001B[49m\u001B[43mParameterSampler\u001B[49m\u001B[43m(\u001B[49m\n\u001B[1;32m   1770\u001B[0m \u001B[43m            \u001B[49m\u001B[38;5;28;43mself\u001B[39;49m\u001B[38;5;241;43m.\u001B[39;49m\u001B[43mparam_distributions\u001B[49m\u001B[43m,\u001B[49m\u001B[43m \u001B[49m\u001B[38;5;28;43mself\u001B[39;49m\u001B[38;5;241;43m.\u001B[39;49m\u001B[43mn_iter\u001B[49m\u001B[43m,\u001B[49m\u001B[43m \u001B[49m\u001B[43mrandom_state\u001B[49m\u001B[38;5;241;43m=\u001B[39;49m\u001B[38;5;28;43mself\u001B[39;49m\u001B[38;5;241;43m.\u001B[39;49m\u001B[43mrandom_state\u001B[49m\n\u001B[1;32m   1771\u001B[0m \u001B[43m        \u001B[49m\u001B[43m)\u001B[49m\n\u001B[1;32m   1772\u001B[0m \u001B[43m    \u001B[49m\u001B[43m)\u001B[49m\n",
      "File \u001B[0;32m~/Documents/.venvs/ML/lib/python3.10/site-packages/sklearn/model_selection/_search.py:821\u001B[0m, in \u001B[0;36mBaseSearchCV.fit.<locals>.evaluate_candidates\u001B[0;34m(candidate_params, cv, more_results)\u001B[0m\n\u001B[1;32m    813\u001B[0m \u001B[38;5;28;01mif\u001B[39;00m \u001B[38;5;28mself\u001B[39m\u001B[38;5;241m.\u001B[39mverbose \u001B[38;5;241m>\u001B[39m \u001B[38;5;241m0\u001B[39m:\n\u001B[1;32m    814\u001B[0m     \u001B[38;5;28mprint\u001B[39m(\n\u001B[1;32m    815\u001B[0m         \u001B[38;5;124m\"\u001B[39m\u001B[38;5;124mFitting \u001B[39m\u001B[38;5;132;01m{0}\u001B[39;00m\u001B[38;5;124m folds for each of \u001B[39m\u001B[38;5;132;01m{1}\u001B[39;00m\u001B[38;5;124m candidates,\u001B[39m\u001B[38;5;124m\"\u001B[39m\n\u001B[1;32m    816\u001B[0m         \u001B[38;5;124m\"\u001B[39m\u001B[38;5;124m totalling \u001B[39m\u001B[38;5;132;01m{2}\u001B[39;00m\u001B[38;5;124m fits\u001B[39m\u001B[38;5;124m\"\u001B[39m\u001B[38;5;241m.\u001B[39mformat(\n\u001B[1;32m    817\u001B[0m             n_splits, n_candidates, n_candidates \u001B[38;5;241m*\u001B[39m n_splits\n\u001B[1;32m    818\u001B[0m         )\n\u001B[1;32m    819\u001B[0m     )\n\u001B[0;32m--> 821\u001B[0m out \u001B[38;5;241m=\u001B[39m \u001B[43mparallel\u001B[49m\u001B[43m(\u001B[49m\n\u001B[1;32m    822\u001B[0m \u001B[43m    \u001B[49m\u001B[43mdelayed\u001B[49m\u001B[43m(\u001B[49m\u001B[43m_fit_and_score\u001B[49m\u001B[43m)\u001B[49m\u001B[43m(\u001B[49m\n\u001B[1;32m    823\u001B[0m \u001B[43m        \u001B[49m\u001B[43mclone\u001B[49m\u001B[43m(\u001B[49m\u001B[43mbase_estimator\u001B[49m\u001B[43m)\u001B[49m\u001B[43m,\u001B[49m\n\u001B[1;32m    824\u001B[0m \u001B[43m        \u001B[49m\u001B[43mX\u001B[49m\u001B[43m,\u001B[49m\n\u001B[1;32m    825\u001B[0m \u001B[43m        \u001B[49m\u001B[43my\u001B[49m\u001B[43m,\u001B[49m\n\u001B[1;32m    826\u001B[0m \u001B[43m        \u001B[49m\u001B[43mtrain\u001B[49m\u001B[38;5;241;43m=\u001B[39;49m\u001B[43mtrain\u001B[49m\u001B[43m,\u001B[49m\n\u001B[1;32m    827\u001B[0m \u001B[43m        \u001B[49m\u001B[43mtest\u001B[49m\u001B[38;5;241;43m=\u001B[39;49m\u001B[43mtest\u001B[49m\u001B[43m,\u001B[49m\n\u001B[1;32m    828\u001B[0m \u001B[43m        \u001B[49m\u001B[43mparameters\u001B[49m\u001B[38;5;241;43m=\u001B[39;49m\u001B[43mparameters\u001B[49m\u001B[43m,\u001B[49m\n\u001B[1;32m    829\u001B[0m \u001B[43m        \u001B[49m\u001B[43msplit_progress\u001B[49m\u001B[38;5;241;43m=\u001B[39;49m\u001B[43m(\u001B[49m\u001B[43msplit_idx\u001B[49m\u001B[43m,\u001B[49m\u001B[43m \u001B[49m\u001B[43mn_splits\u001B[49m\u001B[43m)\u001B[49m\u001B[43m,\u001B[49m\n\u001B[1;32m    830\u001B[0m \u001B[43m        \u001B[49m\u001B[43mcandidate_progress\u001B[49m\u001B[38;5;241;43m=\u001B[39;49m\u001B[43m(\u001B[49m\u001B[43mcand_idx\u001B[49m\u001B[43m,\u001B[49m\u001B[43m \u001B[49m\u001B[43mn_candidates\u001B[49m\u001B[43m)\u001B[49m\u001B[43m,\u001B[49m\n\u001B[1;32m    831\u001B[0m \u001B[43m        \u001B[49m\u001B[38;5;241;43m*\u001B[39;49m\u001B[38;5;241;43m*\u001B[39;49m\u001B[43mfit_and_score_kwargs\u001B[49m\u001B[43m,\u001B[49m\n\u001B[1;32m    832\u001B[0m \u001B[43m    \u001B[49m\u001B[43m)\u001B[49m\n\u001B[1;32m    833\u001B[0m \u001B[43m    \u001B[49m\u001B[38;5;28;43;01mfor\u001B[39;49;00m\u001B[43m \u001B[49m\u001B[43m(\u001B[49m\u001B[43mcand_idx\u001B[49m\u001B[43m,\u001B[49m\u001B[43m \u001B[49m\u001B[43mparameters\u001B[49m\u001B[43m)\u001B[49m\u001B[43m,\u001B[49m\u001B[43m \u001B[49m\u001B[43m(\u001B[49m\u001B[43msplit_idx\u001B[49m\u001B[43m,\u001B[49m\u001B[43m \u001B[49m\u001B[43m(\u001B[49m\u001B[43mtrain\u001B[49m\u001B[43m,\u001B[49m\u001B[43m \u001B[49m\u001B[43mtest\u001B[49m\u001B[43m)\u001B[49m\u001B[43m)\u001B[49m\u001B[43m \u001B[49m\u001B[38;5;129;43;01min\u001B[39;49;00m\u001B[43m \u001B[49m\u001B[43mproduct\u001B[49m\u001B[43m(\u001B[49m\n\u001B[1;32m    834\u001B[0m \u001B[43m        \u001B[49m\u001B[38;5;28;43menumerate\u001B[39;49m\u001B[43m(\u001B[49m\u001B[43mcandidate_params\u001B[49m\u001B[43m)\u001B[49m\u001B[43m,\u001B[49m\u001B[43m \u001B[49m\u001B[38;5;28;43menumerate\u001B[39;49m\u001B[43m(\u001B[49m\u001B[43mcv\u001B[49m\u001B[38;5;241;43m.\u001B[39;49m\u001B[43msplit\u001B[49m\u001B[43m(\u001B[49m\u001B[43mX\u001B[49m\u001B[43m,\u001B[49m\u001B[43m \u001B[49m\u001B[43my\u001B[49m\u001B[43m,\u001B[49m\u001B[43m \u001B[49m\u001B[43mgroups\u001B[49m\u001B[43m)\u001B[49m\u001B[43m)\u001B[49m\n\u001B[1;32m    835\u001B[0m \u001B[43m    \u001B[49m\u001B[43m)\u001B[49m\n\u001B[1;32m    836\u001B[0m \u001B[43m\u001B[49m\u001B[43m)\u001B[49m\n\u001B[1;32m    838\u001B[0m \u001B[38;5;28;01mif\u001B[39;00m \u001B[38;5;28mlen\u001B[39m(out) \u001B[38;5;241m<\u001B[39m \u001B[38;5;241m1\u001B[39m:\n\u001B[1;32m    839\u001B[0m     \u001B[38;5;28;01mraise\u001B[39;00m \u001B[38;5;167;01mValueError\u001B[39;00m(\n\u001B[1;32m    840\u001B[0m         \u001B[38;5;124m\"\u001B[39m\u001B[38;5;124mNo fits were performed. \u001B[39m\u001B[38;5;124m\"\u001B[39m\n\u001B[1;32m    841\u001B[0m         \u001B[38;5;124m\"\u001B[39m\u001B[38;5;124mWas the CV iterator empty? \u001B[39m\u001B[38;5;124m\"\u001B[39m\n\u001B[1;32m    842\u001B[0m         \u001B[38;5;124m\"\u001B[39m\u001B[38;5;124mWere there no candidates?\u001B[39m\u001B[38;5;124m\"\u001B[39m\n\u001B[1;32m    843\u001B[0m     )\n",
      "File \u001B[0;32m~/Documents/.venvs/ML/lib/python3.10/site-packages/sklearn/utils/parallel.py:63\u001B[0m, in \u001B[0;36mParallel.__call__\u001B[0;34m(self, iterable)\u001B[0m\n\u001B[1;32m     58\u001B[0m config \u001B[38;5;241m=\u001B[39m get_config()\n\u001B[1;32m     59\u001B[0m iterable_with_config \u001B[38;5;241m=\u001B[39m (\n\u001B[1;32m     60\u001B[0m     (_with_config(delayed_func, config), args, kwargs)\n\u001B[1;32m     61\u001B[0m     \u001B[38;5;28;01mfor\u001B[39;00m delayed_func, args, kwargs \u001B[38;5;129;01min\u001B[39;00m iterable\n\u001B[1;32m     62\u001B[0m )\n\u001B[0;32m---> 63\u001B[0m \u001B[38;5;28;01mreturn\u001B[39;00m \u001B[38;5;28;43msuper\u001B[39;49m\u001B[43m(\u001B[49m\u001B[43m)\u001B[49m\u001B[38;5;241;43m.\u001B[39;49m\u001B[38;5;21;43m__call__\u001B[39;49m\u001B[43m(\u001B[49m\u001B[43miterable_with_config\u001B[49m\u001B[43m)\u001B[49m\n",
      "File \u001B[0;32m~/Documents/.venvs/ML/lib/python3.10/site-packages/joblib/parallel.py:1952\u001B[0m, in \u001B[0;36mParallel.__call__\u001B[0;34m(self, iterable)\u001B[0m\n\u001B[1;32m   1946\u001B[0m \u001B[38;5;66;03m# The first item from the output is blank, but it makes the interpreter\u001B[39;00m\n\u001B[1;32m   1947\u001B[0m \u001B[38;5;66;03m# progress until it enters the Try/Except block of the generator and\u001B[39;00m\n\u001B[1;32m   1948\u001B[0m \u001B[38;5;66;03m# reach the first `yield` statement. This starts the aynchronous\u001B[39;00m\n\u001B[1;32m   1949\u001B[0m \u001B[38;5;66;03m# dispatch of the tasks to the workers.\u001B[39;00m\n\u001B[1;32m   1950\u001B[0m \u001B[38;5;28mnext\u001B[39m(output)\n\u001B[0;32m-> 1952\u001B[0m \u001B[38;5;28;01mreturn\u001B[39;00m output \u001B[38;5;28;01mif\u001B[39;00m \u001B[38;5;28mself\u001B[39m\u001B[38;5;241m.\u001B[39mreturn_generator \u001B[38;5;28;01melse\u001B[39;00m \u001B[38;5;28;43mlist\u001B[39;49m\u001B[43m(\u001B[49m\u001B[43moutput\u001B[49m\u001B[43m)\u001B[49m\n",
      "File \u001B[0;32m~/Documents/.venvs/ML/lib/python3.10/site-packages/joblib/parallel.py:1595\u001B[0m, in \u001B[0;36mParallel._get_outputs\u001B[0;34m(self, iterator, pre_dispatch)\u001B[0m\n\u001B[1;32m   1592\u001B[0m     \u001B[38;5;28;01myield\u001B[39;00m\n\u001B[1;32m   1594\u001B[0m     \u001B[38;5;28;01mwith\u001B[39;00m \u001B[38;5;28mself\u001B[39m\u001B[38;5;241m.\u001B[39m_backend\u001B[38;5;241m.\u001B[39mretrieval_context():\n\u001B[0;32m-> 1595\u001B[0m         \u001B[38;5;28;01myield from\u001B[39;00m \u001B[38;5;28mself\u001B[39m\u001B[38;5;241m.\u001B[39m_retrieve()\n\u001B[1;32m   1597\u001B[0m \u001B[38;5;28;01mexcept\u001B[39;00m \u001B[38;5;167;01mGeneratorExit\u001B[39;00m:\n\u001B[1;32m   1598\u001B[0m     \u001B[38;5;66;03m# The generator has been garbage collected before being fully\u001B[39;00m\n\u001B[1;32m   1599\u001B[0m     \u001B[38;5;66;03m# consumed. This aborts the remaining tasks if possible and warn\u001B[39;00m\n\u001B[1;32m   1600\u001B[0m     \u001B[38;5;66;03m# the user if necessary.\u001B[39;00m\n\u001B[1;32m   1601\u001B[0m     \u001B[38;5;28mself\u001B[39m\u001B[38;5;241m.\u001B[39m_exception \u001B[38;5;241m=\u001B[39m \u001B[38;5;28;01mTrue\u001B[39;00m\n",
      "File \u001B[0;32m~/Documents/.venvs/ML/lib/python3.10/site-packages/joblib/parallel.py:1707\u001B[0m, in \u001B[0;36mParallel._retrieve\u001B[0;34m(self)\u001B[0m\n\u001B[1;32m   1702\u001B[0m \u001B[38;5;66;03m# If the next job is not ready for retrieval yet, we just wait for\u001B[39;00m\n\u001B[1;32m   1703\u001B[0m \u001B[38;5;66;03m# async callbacks to progress.\u001B[39;00m\n\u001B[1;32m   1704\u001B[0m \u001B[38;5;28;01mif\u001B[39;00m ((\u001B[38;5;28mlen\u001B[39m(\u001B[38;5;28mself\u001B[39m\u001B[38;5;241m.\u001B[39m_jobs) \u001B[38;5;241m==\u001B[39m \u001B[38;5;241m0\u001B[39m) \u001B[38;5;129;01mor\u001B[39;00m\n\u001B[1;32m   1705\u001B[0m     (\u001B[38;5;28mself\u001B[39m\u001B[38;5;241m.\u001B[39m_jobs[\u001B[38;5;241m0\u001B[39m]\u001B[38;5;241m.\u001B[39mget_status(\n\u001B[1;32m   1706\u001B[0m         timeout\u001B[38;5;241m=\u001B[39m\u001B[38;5;28mself\u001B[39m\u001B[38;5;241m.\u001B[39mtimeout) \u001B[38;5;241m==\u001B[39m TASK_PENDING)):\n\u001B[0;32m-> 1707\u001B[0m     \u001B[43mtime\u001B[49m\u001B[38;5;241;43m.\u001B[39;49m\u001B[43msleep\u001B[49m\u001B[43m(\u001B[49m\u001B[38;5;241;43m0.01\u001B[39;49m\u001B[43m)\u001B[49m\n\u001B[1;32m   1708\u001B[0m     \u001B[38;5;28;01mcontinue\u001B[39;00m\n\u001B[1;32m   1710\u001B[0m \u001B[38;5;66;03m# We need to be careful: the job list can be filling up as\u001B[39;00m\n\u001B[1;32m   1711\u001B[0m \u001B[38;5;66;03m# we empty it and Python list are not thread-safe by\u001B[39;00m\n\u001B[1;32m   1712\u001B[0m \u001B[38;5;66;03m# default hence the use of the lock\u001B[39;00m\n",
      "\u001B[0;31mKeyboardInterrupt\u001B[0m: "
     ]
    }
   ],
   "source": [
    "rfc=RandomForestClassifier(random_state=42)\n",
    "params1={'bootstrap': [True, False],\n",
    " 'max_depth': [10, 20, 30, 40, 50, 60],\n",
    " 'max_features': ['auto', 'sqrt'],\n",
    " 'min_samples_leaf': [1, 2, 4],\n",
    " 'min_samples_split': [2, 5, 10],\n",
    " 'n_estimators': [600, 800, 1000, 1200, 1400, 1600, 1800, 2000]}\n",
    "random_rfc=RandomizedSearchCV(rfc,param_distributions=params1,verbose=10,n_jobs=-1,random_state=42)\n",
    "random_rfc.fit(result_kbest_20,y1_enco)"
   ]
  },
  {
   "cell_type": "code",
   "execution_count": null,
   "id": "fdc4efa6",
   "metadata": {
    "execution": {
     "iopub.execute_input": "2021-11-30T13:47:54.881196Z",
     "iopub.status.busy": "2021-11-30T13:47:54.880472Z",
     "iopub.status.idle": "2021-11-30T13:47:54.886734Z",
     "shell.execute_reply": "2021-11-30T13:47:54.887862Z",
     "shell.execute_reply.started": "2021-11-30T12:54:01.766550Z"
    },
    "papermill": {
     "duration": 0.149504,
     "end_time": "2021-11-30T13:47:54.888091",
     "exception": false,
     "start_time": "2021-11-30T13:47:54.738587",
     "status": "completed"
    },
    "tags": [],
    "is_executing": true
   },
   "outputs": [],
   "source": [
    "print(random_rfc.best_estimator_)"
   ]
  },
  {
   "cell_type": "code",
   "execution_count": null,
   "id": "dbf95d00",
   "metadata": {
    "execution": {
     "iopub.execute_input": "2021-11-30T13:47:55.094748Z",
     "iopub.status.busy": "2021-11-30T13:47:55.094069Z",
     "iopub.status.idle": "2021-11-30T13:47:55.099054Z",
     "shell.execute_reply": "2021-11-30T13:47:55.099730Z",
     "shell.execute_reply.started": "2021-11-30T12:54:01.776855Z"
    },
    "papermill": {
     "duration": 0.109392,
     "end_time": "2021-11-30T13:47:55.099945",
     "exception": false,
     "start_time": "2021-11-30T13:47:54.990553",
     "status": "completed"
    },
    "tags": [],
    "is_executing": true
   },
   "outputs": [],
   "source": [
    "print(random_rfc.best_score_)"
   ]
  },
  {
   "cell_type": "code",
   "execution_count": 60,
   "id": "aff0cbb6",
   "metadata": {
    "execution": {
     "iopub.execute_input": "2021-11-30T13:47:55.307601Z",
     "iopub.status.busy": "2021-11-30T13:47:55.306858Z",
     "iopub.status.idle": "2021-11-30T13:53:38.521888Z",
     "shell.execute_reply": "2021-11-30T13:53:38.521122Z",
     "shell.execute_reply.started": "2021-11-30T12:54:31.888783Z"
    },
    "papermill": {
     "duration": 343.319482,
     "end_time": "2021-11-30T13:53:38.522074",
     "exception": false,
     "start_time": "2021-11-30T13:47:55.202592",
     "status": "completed"
    },
    "tags": [],
    "ExecuteTime": {
     "end_time": "2023-12-17T22:05:29.260362058Z",
     "start_time": "2023-12-17T22:05:21.667604796Z"
    }
   },
   "outputs": [
    {
     "name": "stdout",
     "output_type": "stream",
     "text": [
      "The train f1_macro is: 0.7458470950466963\n",
      "The cross validation f1_macro is: 0.5472886257931504\n"
     ]
    }
   ],
   "source": [
    "rfc = RandomForestClassifier(n_estimators=100,max_depth=20,max_features='sqrt',bootstrap=False, min_samples_leaf=2, min_samples_split=10,random_state=42)\n",
    "rfc.fit(result_kbest_20,y1_enco)\n",
    "cal_clf = CalibratedClassifierCV(rfc, method=\"sigmoid\")\n",
    "cal_clf.fit(result_kbest_20,y1_enco)\n",
    "predict_y =cal_clf .predict(result_kbest_20)\n",
    "print ('The train f1_macro is:',f1_score(y1_enco, predict_y,average='macro'))\n",
    "predict_y = cal_clf.predict(result_kbest_val)\n",
    "print('The cross validation f1_macro is:',f1_score(y1_en_val, predict_y,average='macro'))"
   ]
  },
  {
   "cell_type": "markdown",
   "id": "7dfb793a",
   "metadata": {
    "papermill": {
     "duration": 0.104028,
     "end_time": "2021-11-30T13:53:38.733123",
     "exception": false,
     "start_time": "2021-11-30T13:53:38.629095",
     "status": "completed"
    },
    "tags": []
   },
   "source": [
    "#### Disorder_subclass"
   ]
  },
  {
   "cell_type": "code",
   "execution_count": null,
   "id": "89c6d12e",
   "metadata": {
    "execution": {
     "iopub.execute_input": "2021-11-30T13:53:38.946812Z",
     "iopub.status.busy": "2021-11-30T13:53:38.946129Z",
     "iopub.status.idle": "2021-11-30T13:53:38.948936Z",
     "shell.execute_reply": "2021-11-30T13:53:38.949461Z"
    },
    "papermill": {
     "duration": 0.112696,
     "end_time": "2021-11-30T13:53:38.949634",
     "exception": false,
     "start_time": "2021-11-30T13:53:38.836938",
     "status": "completed"
    },
    "tags": [],
    "ExecuteTime": {
     "start_time": "2023-12-17T21:49:31.794403584Z"
    }
   },
   "outputs": [],
   "source": [
    "from imblearn.over_sampling import BorderlineSMOTE"
   ]
  },
  {
   "cell_type": "code",
   "execution_count": null,
   "id": "343b4e61",
   "metadata": {
    "execution": {
     "iopub.execute_input": "2021-11-30T13:53:39.165503Z",
     "iopub.status.busy": "2021-11-30T13:53:39.164336Z",
     "iopub.status.idle": "2021-11-30T13:53:55.930590Z",
     "shell.execute_reply": "2021-11-30T13:53:55.929925Z",
     "shell.execute_reply.started": "2021-11-30T13:01:11.269615Z"
    },
    "papermill": {
     "duration": 16.8779,
     "end_time": "2021-11-30T13:53:55.930755",
     "exception": false,
     "start_time": "2021-11-30T13:53:39.052855",
     "status": "completed"
    },
    "tags": [],
    "ExecuteTime": {
     "start_time": "2023-12-17T21:49:31.794541956Z"
    }
   },
   "outputs": [],
   "source": [
    "smd=BorderlineSMOTE(random_state=42)\n",
    "X_smd, y_smd = smd.fit_resample(X2, pd.DataFrame(y2_en))\n",
    "print(f'''shape of X before SMOTE: {X2.shape} \n",
    "shape of X after SMOTE: {X_smd.shape}''')\n",
    "print('balanced class (%):')\n",
    "y_smd.value_counts(normalize=True) * 100"
   ]
  },
  {
   "cell_type": "code",
   "execution_count": null,
   "id": "a98c49c1",
   "metadata": {
    "execution": {
     "iopub.execute_input": "2021-11-30T13:53:56.172734Z",
     "iopub.status.busy": "2021-11-30T13:53:56.157378Z",
     "iopub.status.idle": "2021-11-30T13:53:56.188561Z",
     "shell.execute_reply": "2021-11-30T13:53:56.187852Z",
     "shell.execute_reply.started": "2021-11-30T13:01:30.393358Z"
    },
    "papermill": {
     "duration": 0.146462,
     "end_time": "2021-11-30T13:53:56.188719",
     "exception": false,
     "start_time": "2021-11-30T13:53:56.042257",
     "status": "completed"
    },
    "tags": [],
    "ExecuteTime": {
     "start_time": "2023-12-17T21:49:31.794615915Z"
    }
   },
   "outputs": [],
   "source": [
    "X_smd.head(2)"
   ]
  },
  {
   "cell_type": "code",
   "execution_count": null,
   "id": "5f2a6f4a",
   "metadata": {
    "execution": {
     "iopub.execute_input": "2021-11-30T13:53:56.409536Z",
     "iopub.status.busy": "2021-11-30T13:53:56.408820Z",
     "iopub.status.idle": "2021-11-30T13:53:56.411540Z",
     "shell.execute_reply": "2021-11-30T13:53:56.410939Z",
     "shell.execute_reply.started": "2021-11-30T13:01:30.423615Z"
    },
    "papermill": {
     "duration": 0.114826,
     "end_time": "2021-11-30T13:53:56.411714",
     "exception": false,
     "start_time": "2021-11-30T13:53:56.296888",
     "status": "completed"
    },
    "tags": [],
    "ExecuteTime": {
     "start_time": "2023-12-17T21:49:31.794685517Z"
    }
   },
   "outputs": [],
   "source": [
    "y2_enco=np.array(y_smd).ravel()"
   ]
  },
  {
   "cell_type": "code",
   "execution_count": null,
   "id": "7aa8ea32",
   "metadata": {
    "execution": {
     "iopub.execute_input": "2021-11-30T13:53:56.630322Z",
     "iopub.status.busy": "2021-11-30T13:53:56.629585Z",
     "iopub.status.idle": "2021-11-30T13:53:56.633221Z",
     "shell.execute_reply": "2021-11-30T13:53:56.633948Z",
     "shell.execute_reply.started": "2021-11-30T13:01:30.431307Z"
    },
    "papermill": {
     "duration": 0.115419,
     "end_time": "2021-11-30T13:53:56.634144",
     "exception": false,
     "start_time": "2021-11-30T13:53:56.518725",
     "status": "completed"
    },
    "tags": [],
    "ExecuteTime": {
     "start_time": "2023-12-17T21:49:31.794748345Z"
    }
   },
   "outputs": [],
   "source": [
    "from sklearn.feature_selection import SelectKBest,chi2"
   ]
  },
  {
   "cell_type": "code",
   "execution_count": null,
   "id": "c9917a52",
   "metadata": {
    "execution": {
     "iopub.execute_input": "2021-11-30T13:53:56.856877Z",
     "iopub.status.busy": "2021-11-30T13:53:56.856139Z",
     "iopub.status.idle": "2021-11-30T13:53:56.890121Z",
     "shell.execute_reply": "2021-11-30T13:53:56.891273Z",
     "shell.execute_reply.started": "2021-11-30T13:01:30.445329Z"
    },
    "papermill": {
     "duration": 0.148082,
     "end_time": "2021-11-30T13:53:56.891619",
     "exception": false,
     "start_time": "2021-11-30T13:53:56.743537",
     "status": "completed"
    },
    "tags": [],
    "ExecuteTime": {
     "start_time": "2023-12-17T21:49:31.794812877Z"
    }
   },
   "outputs": [],
   "source": [
    "# feature selection \n",
    "sel2=SelectKBest(chi2, k=25).fit(X_smd,y2_enco)"
   ]
  },
  {
   "cell_type": "code",
   "execution_count": null,
   "id": "a8041dfa",
   "metadata": {
    "execution": {
     "iopub.execute_input": "2021-11-30T13:53:57.178414Z",
     "iopub.status.busy": "2021-11-30T13:53:57.177579Z",
     "iopub.status.idle": "2021-11-30T13:53:57.181054Z",
     "shell.execute_reply": "2021-11-30T13:53:57.181642Z",
     "shell.execute_reply.started": "2021-11-30T13:01:30.498522Z"
    },
    "papermill": {
     "duration": 0.124401,
     "end_time": "2021-11-30T13:53:57.181857",
     "exception": false,
     "start_time": "2021-11-30T13:53:57.057456",
     "status": "completed"
    },
    "tags": [],
    "ExecuteTime": {
     "start_time": "2023-12-17T21:49:31.794892878Z"
    }
   },
   "outputs": [],
   "source": [
    "cols=sel2.get_support(indices=True)\n",
    "print(X_smd.iloc[:,cols].shape)\n",
    "result_kbest_20d=X_smd.iloc[:,cols]"
   ]
  },
  {
   "cell_type": "code",
   "execution_count": null,
   "id": "dc282bae",
   "metadata": {
    "execution": {
     "iopub.execute_input": "2021-11-30T13:53:57.402645Z",
     "iopub.status.busy": "2021-11-30T13:53:57.401901Z",
     "iopub.status.idle": "2021-11-30T13:53:57.406922Z",
     "shell.execute_reply": "2021-11-30T13:53:57.407604Z",
     "shell.execute_reply.started": "2021-11-30T13:01:30.527304Z"
    },
    "papermill": {
     "duration": 0.117525,
     "end_time": "2021-11-30T13:53:57.407805",
     "exception": false,
     "start_time": "2021-11-30T13:53:57.290280",
     "status": "completed"
    },
    "tags": [],
    "ExecuteTime": {
     "start_time": "2023-12-17T21:49:31.794955887Z"
    }
   },
   "outputs": [],
   "source": [
    "sele_fead= X2.columns[(sel2.get_support())]\n",
    "print(sele_fead)"
   ]
  },
  {
   "cell_type": "code",
   "execution_count": null,
   "id": "cce34a1b",
   "metadata": {
    "execution": {
     "iopub.execute_input": "2021-11-30T13:53:57.625164Z",
     "iopub.status.busy": "2021-11-30T13:53:57.624293Z",
     "iopub.status.idle": "2021-11-30T13:53:57.630135Z",
     "shell.execute_reply": "2021-11-30T13:53:57.630713Z",
     "shell.execute_reply.started": "2021-11-30T13:01:37.027988Z"
    },
    "papermill": {
     "duration": 0.119065,
     "end_time": "2021-11-30T13:53:57.630936",
     "exception": false,
     "start_time": "2021-11-30T13:53:57.511871",
     "status": "completed"
    },
    "tags": [],
    "ExecuteTime": {
     "start_time": "2023-12-17T21:49:31.795047430Z"
    }
   },
   "outputs": [],
   "source": [
    "print(X2_val.iloc[:,cols].shape)\n",
    "result_kbest_vald=X2_val.iloc[:,cols]"
   ]
  },
  {
   "cell_type": "code",
   "execution_count": null,
   "id": "d475a5ea",
   "metadata": {
    "execution": {
     "iopub.execute_input": "2021-11-30T13:53:57.892833Z",
     "iopub.status.busy": "2021-11-30T13:53:57.891694Z",
     "iopub.status.idle": "2021-11-30T13:53:57.899714Z",
     "shell.execute_reply": "2021-11-30T13:53:57.899130Z",
     "shell.execute_reply.started": "2021-11-30T13:01:38.139374Z"
    },
    "papermill": {
     "duration": 0.162901,
     "end_time": "2021-11-30T13:53:57.899894",
     "exception": false,
     "start_time": "2021-11-30T13:53:57.736993",
     "status": "completed"
    },
    "tags": [],
    "ExecuteTime": {
     "start_time": "2023-12-17T21:49:31.812197432Z"
    }
   },
   "outputs": [],
   "source": [
    "print(X2_test.iloc[:,cols].shape)\n",
    "result_kbest_test20d=X2_test.iloc[:,cols]"
   ]
  },
  {
   "cell_type": "code",
   "execution_count": null,
   "id": "fc059b34",
   "metadata": {
    "execution": {
     "iopub.execute_input": "2021-11-30T13:53:58.134353Z",
     "iopub.status.busy": "2021-11-30T13:53:58.133569Z",
     "iopub.status.idle": "2021-11-30T13:57:24.837333Z",
     "shell.execute_reply": "2021-11-30T13:57:24.836674Z",
     "shell.execute_reply.started": "2021-11-30T13:01:41.193607Z"
    },
    "papermill": {
     "duration": 206.826889,
     "end_time": "2021-11-30T13:57:24.837510",
     "exception": false,
     "start_time": "2021-11-30T13:53:58.010621",
     "status": "completed"
    },
    "tags": [],
    "ExecuteTime": {
     "start_time": "2023-12-17T21:49:31.812345562Z"
    }
   },
   "outputs": [],
   "source": [
    "nn=[x for x in range(1, 15, 2)]\n",
    "cv_f1_macro=[]\n",
    "for i in nn:\n",
    "    knn=KNeighborsClassifier(n_neighbors=i,n_jobs=-1)\n",
    "    knn.fit(result_kbest_20d,y2_enco)\n",
    "    cal_clf = CalibratedClassifierCV(knn, method=\"sigmoid\")\n",
    "    cal_clf.fit(result_kbest_20d,y2_enco)\n",
    "    predict_y=cal_clf.predict(result_kbest_vald)\n",
    "    cv_f1_macro.append(f1_score(y2_en_val, predict_y,average='macro'))\n",
    "for i in range(len(cv_f1_macro)):\n",
    "    print ('f1_macro for k = ',nn[i],'is',cv_f1_macro[i])\n",
    "best_nn = np.argmax(cv_f1_macro)\n",
    "knn=KNeighborsClassifier(n_neighbors=nn[best_nn])\n",
    "knn.fit(result_kbest_20d,y2_enco)\n",
    "cal_clf = CalibratedClassifierCV(knn, method=\"sigmoid\")\n",
    "cal_clf.fit(result_kbest_20d,y2_enco)\n",
    "\n",
    "predict_y =cal_clf .predict(result_kbest_20d)\n",
    "print ('For values of best nn = ', nn[best_nn], \"The train f1_macro is:\",f1_score(y2_enco, predict_y,average='macro'))\n",
    "predict_y = cal_clf.predict(result_kbest_vald)\n",
    "print('For values of best nn = ', nn[best_nn], \"The cross validation f1_macro is:\",f1_score(y2_en_val, predict_y,average='macro'))"
   ]
  },
  {
   "cell_type": "code",
   "execution_count": null,
   "id": "1e1e1a8d",
   "metadata": {
    "execution": {
     "iopub.execute_input": "2021-11-30T13:57:25.068224Z",
     "iopub.status.busy": "2021-11-30T13:57:25.067409Z",
     "iopub.status.idle": "2021-11-30T14:05:37.494887Z",
     "shell.execute_reply": "2021-11-30T14:05:37.496006Z",
     "shell.execute_reply.started": "2021-11-30T13:06:33.818692Z"
    },
    "papermill": {
     "duration": 492.549004,
     "end_time": "2021-11-30T14:05:37.496379",
     "exception": false,
     "start_time": "2021-11-30T13:57:24.947375",
     "status": "completed"
    },
    "tags": [],
    "ExecuteTime": {
     "start_time": "2023-12-17T21:49:31.812417087Z"
    }
   },
   "outputs": [],
   "source": [
    "C1= [10 ** x for x in range(-5, 4)]\n",
    "cv_f1_macro=[]\n",
    "for i in C1:\n",
    "    logisticR=LogisticRegression(penalty='l2',C=i,class_weight='balanced',max_iter=1000)\n",
    "    logisticR.fit(result_kbest_20d,y2_enco)\n",
    "    cal_clf = CalibratedClassifierCV(logisticR, method=\"sigmoid\")\n",
    "    cal_clf.fit(result_kbest_20d,y2_enco)\n",
    "    predict_y=cal_clf.predict(result_kbest_vald)\n",
    "    cv_f1_macro.append(f1_score(y2_en_val, predict_y,average='macro'))\n",
    "for i in range(len(cv_f1_macro)):\n",
    "    print ('f1_macro for C = ',C1[i],'is',cv_f1_macro[i])\n",
    "best_C1 = np.argmax(cv_f1_macro)\n",
    "logisticR=LogisticRegression(penalty='l2',C=C1[best_C1],class_weight='balanced',max_iter=1000)\n",
    "logisticR.fit(result_kbest_20d,y2_enco)\n",
    "cal_clf = CalibratedClassifierCV(logisticR, method=\"sigmoid\")\n",
    "cal_clf.fit(result_kbest_20d,y2_enco)\n",
    "\n",
    "predict_y =cal_clf .predict(result_kbest_20d)\n",
    "print ('For values of best C = ',C1[best_C1], \"The train f1_macro is:\",f1_score(y2_enco, predict_y,average='macro'))\n",
    "predict_y = cal_clf.predict(result_kbest_vald)\n",
    "print('For values of best C = ',C1[best_C1], \"The cross validation f1_macro is:\",f1_score(y2_en_val, predict_y,average='macro'))"
   ]
  },
  {
   "cell_type": "code",
   "execution_count": null,
   "id": "79e2ca5f",
   "metadata": {
    "execution": {
     "iopub.execute_input": "2021-11-30T14:05:37.781766Z",
     "iopub.status.busy": "2021-11-30T14:05:37.781060Z",
     "iopub.status.idle": "2021-11-30T14:05:45.099337Z",
     "shell.execute_reply": "2021-11-30T14:05:45.099898Z",
     "shell.execute_reply.started": "2021-11-30T13:14:22.695321Z"
    },
    "papermill": {
     "duration": 7.43853,
     "end_time": "2021-11-30T14:05:45.100089",
     "exception": false,
     "start_time": "2021-11-30T14:05:37.661559",
     "status": "completed"
    },
    "tags": [],
    "ExecuteTime": {
     "start_time": "2023-12-17T21:49:31.812476229Z"
    }
   },
   "outputs": [],
   "source": [
    "DT = DecisionTreeClassifier(random_state=42)\n",
    "params = {\n",
    "    'max_depth': [2, 3, 5, 10, 20],\n",
    "    'min_samples_leaf': [10, 20, 50, 100],\n",
    "    'criterion': [\"gini\", \"entropy\"]\n",
    "}\n",
    "random_dt=RandomizedSearchCV(DT,param_distributions=params,n_jobs=-1,random_state=42)\n",
    "random_dt.fit(result_kbest_20d,y2_enco)"
   ]
  },
  {
   "cell_type": "code",
   "execution_count": null,
   "id": "db36305a",
   "metadata": {
    "execution": {
     "iopub.execute_input": "2021-11-30T14:05:45.322535Z",
     "iopub.status.busy": "2021-11-30T14:05:45.321815Z",
     "iopub.status.idle": "2021-11-30T14:05:45.327348Z",
     "shell.execute_reply": "2021-11-30T14:05:45.327969Z",
     "shell.execute_reply.started": "2021-11-30T13:14:30.058317Z"
    },
    "papermill": {
     "duration": 0.119133,
     "end_time": "2021-11-30T14:05:45.328165",
     "exception": false,
     "start_time": "2021-11-30T14:05:45.209032",
     "status": "completed"
    },
    "tags": [],
    "ExecuteTime": {
     "start_time": "2023-12-17T21:49:31.812542203Z"
    }
   },
   "outputs": [],
   "source": [
    "print(random_dt.best_estimator_)"
   ]
  },
  {
   "cell_type": "code",
   "execution_count": null,
   "id": "ba70baac",
   "metadata": {
    "execution": {
     "iopub.execute_input": "2021-11-30T14:05:45.559322Z",
     "iopub.status.busy": "2021-11-30T14:05:45.558613Z",
     "iopub.status.idle": "2021-11-30T14:05:45.563369Z",
     "shell.execute_reply": "2021-11-30T14:05:45.564088Z",
     "shell.execute_reply.started": "2021-11-30T13:14:30.066761Z"
    },
    "papermill": {
     "duration": 0.125175,
     "end_time": "2021-11-30T14:05:45.564285",
     "exception": false,
     "start_time": "2021-11-30T14:05:45.439110",
     "status": "completed"
    },
    "tags": [],
    "ExecuteTime": {
     "start_time": "2023-12-17T21:49:31.812604781Z"
    }
   },
   "outputs": [],
   "source": [
    "print(random_dt.best_score_)"
   ]
  },
  {
   "cell_type": "code",
   "execution_count": null,
   "id": "7693d56a",
   "metadata": {
    "execution": {
     "iopub.execute_input": "2021-11-30T14:05:45.792921Z",
     "iopub.status.busy": "2021-11-30T14:05:45.791819Z",
     "iopub.status.idle": "2021-11-30T14:05:47.475218Z",
     "shell.execute_reply": "2021-11-30T14:05:47.474618Z",
     "shell.execute_reply.started": "2021-11-30T13:14:40.962226Z"
    },
    "papermill": {
     "duration": 1.799367,
     "end_time": "2021-11-30T14:05:47.475389",
     "exception": false,
     "start_time": "2021-11-30T14:05:45.676022",
     "status": "completed"
    },
    "tags": [],
    "ExecuteTime": {
     "start_time": "2023-12-17T21:49:31.812663001Z"
    }
   },
   "outputs": [],
   "source": [
    "DT = DecisionTreeClassifier(max_depth=20,min_samples_leaf=10,random_state=42)\n",
    "DT.fit(result_kbest_20d,y2_enco)\n",
    "cal_clf = CalibratedClassifierCV(DT, method=\"sigmoid\")\n",
    "cal_clf.fit(result_kbest_20d,y2_enco)\n",
    "predict_y =cal_clf .predict(result_kbest_20d)\n",
    "print ('The train f1_macro is:',f1_score(y2_enco, predict_y,average='macro'))\n",
    "predict_y = cal_clf.predict(result_kbest_vald)\n",
    "print('The cross validation f1_macro is:',f1_score(y2_en_val, predict_y,average='macro'))"
   ]
  },
  {
   "cell_type": "code",
   "execution_count": null,
   "id": "306ef5d7",
   "metadata": {
    "execution": {
     "iopub.execute_input": "2021-11-30T14:05:47.710432Z",
     "iopub.status.busy": "2021-11-30T14:05:47.709210Z",
     "iopub.status.idle": "2021-11-30T14:17:57.408103Z",
     "shell.execute_reply": "2021-11-30T14:17:57.408691Z"
    },
    "papermill": {
     "duration": 729.819733,
     "end_time": "2021-11-30T14:17:57.408911",
     "exception": false,
     "start_time": "2021-11-30T14:05:47.589178",
     "status": "completed"
    },
    "tags": [],
    "ExecuteTime": {
     "start_time": "2023-12-17T21:49:31.812723716Z"
    }
   },
   "outputs": [],
   "source": [
    "rfc1=r_cfl=RandomForestClassifier(random_state=42)\n",
    "params1={'bootstrap': [True, False],\n",
    " 'max_depth': [10, 20, 30, 40, 50, 60],\n",
    " 'max_features': ['auto', 'sqrt'],\n",
    " 'min_samples_leaf': [1, 2, 4],\n",
    " 'min_samples_split': [2, 5, 10,15],\n",
    " 'n_estimators': [200, 400, 500, 600, 800, 1000, 1200, 1400, 1600, 1800, 2000]}\n",
    "random_rfc1=RandomizedSearchCV(rfc1,param_distributions=params1,n_jobs=-1,random_state=42)\n",
    "random_rfc1.fit(result_kbest_20d,y2_enco)"
   ]
  },
  {
   "cell_type": "code",
   "execution_count": null,
   "id": "c6957543",
   "metadata": {
    "execution": {
     "iopub.execute_input": "2021-11-30T14:17:57.638413Z",
     "iopub.status.busy": "2021-11-30T14:17:57.637713Z",
     "iopub.status.idle": "2021-11-30T14:17:57.640701Z",
     "shell.execute_reply": "2021-11-30T14:17:57.641578Z"
    },
    "papermill": {
     "duration": 0.119889,
     "end_time": "2021-11-30T14:17:57.641852",
     "exception": false,
     "start_time": "2021-11-30T14:17:57.521963",
     "status": "completed"
    },
    "tags": [],
    "ExecuteTime": {
     "start_time": "2023-12-17T21:49:31.812782547Z"
    }
   },
   "outputs": [],
   "source": [
    "print(random_rfc1.best_estimator_)"
   ]
  },
  {
   "cell_type": "code",
   "execution_count": null,
   "id": "5577e191",
   "metadata": {
    "execution": {
     "iopub.execute_input": "2021-11-30T14:17:57.873145Z",
     "iopub.status.busy": "2021-11-30T14:17:57.871127Z",
     "iopub.status.idle": "2021-11-30T14:17:57.876455Z",
     "shell.execute_reply": "2021-11-30T14:17:57.877328Z"
    },
    "papermill": {
     "duration": 0.121279,
     "end_time": "2021-11-30T14:17:57.877592",
     "exception": false,
     "start_time": "2021-11-30T14:17:57.756313",
     "status": "completed"
    },
    "tags": [],
    "ExecuteTime": {
     "start_time": "2023-12-17T21:49:31.813066293Z"
    }
   },
   "outputs": [],
   "source": [
    "print(random_rfc1.best_score_)"
   ]
  },
  {
   "cell_type": "code",
   "execution_count": null,
   "id": "64509ff7",
   "metadata": {
    "execution": {
     "iopub.execute_input": "2021-11-30T14:17:58.109574Z",
     "iopub.status.busy": "2021-11-30T14:17:58.108465Z",
     "iopub.status.idle": "2021-11-30T14:21:02.191221Z",
     "shell.execute_reply": "2021-11-30T14:21:02.190443Z",
     "shell.execute_reply.started": "2021-11-30T13:19:23.699511Z"
    },
    "papermill": {
     "duration": 184.199891,
     "end_time": "2021-11-30T14:21:02.191395",
     "exception": false,
     "start_time": "2021-11-30T14:17:57.991504",
     "status": "completed"
    },
    "tags": [],
    "ExecuteTime": {
     "start_time": "2023-12-17T21:49:31.836178793Z"
    }
   },
   "outputs": [],
   "source": [
    "rfc1= RandomForestClassifier(n_estimators=500,max_depth=30,min_samples_leaf=2,min_samples_split=5,bootstrap=False,random_state=42)\n",
    "rfc1.fit(result_kbest_20d,y2_enco)\n",
    "cal_clf = CalibratedClassifierCV(rfc1, method=\"sigmoid\")\n",
    "cal_clf.fit(result_kbest_20d,y2_enco)\n",
    "predict_y =cal_clf .predict(result_kbest_20d)\n",
    "print ('The train f1_macro is:',f1_score(y2_enco, predict_y,average='macro'))\n",
    "predict_y = cal_clf.predict(result_kbest_vald)\n",
    "print('The cross validation f1_macro is:',f1_score(y2_en_val, predict_y,average='macro'))"
   ]
  },
  {
   "cell_type": "code",
   "execution_count": null,
   "id": "7ac7ddd8",
   "metadata": {
    "execution": {
     "iopub.execute_input": "2021-11-30T14:21:02.422289Z",
     "iopub.status.busy": "2021-11-30T14:21:02.421522Z",
     "iopub.status.idle": "2021-11-30T14:21:02.423680Z",
     "shell.execute_reply": "2021-11-30T14:21:02.424392Z",
     "shell.execute_reply.started": "2021-11-30T13:22:57.492135Z"
    },
    "papermill": {
     "duration": 0.121134,
     "end_time": "2021-11-30T14:21:02.424587",
     "exception": false,
     "start_time": "2021-11-30T14:21:02.303453",
     "status": "completed"
    },
    "tags": [],
    "ExecuteTime": {
     "start_time": "2023-12-17T21:49:31.836313327Z"
    }
   },
   "outputs": [],
   "source": [
    "from prettytable import PrettyTable"
   ]
  },
  {
   "cell_type": "code",
   "execution_count": null,
   "id": "9c584c9e",
   "metadata": {
    "execution": {
     "iopub.execute_input": "2021-11-30T14:21:02.658010Z",
     "iopub.status.busy": "2021-11-30T14:21:02.654734Z",
     "iopub.status.idle": "2021-11-30T14:21:02.660952Z",
     "shell.execute_reply": "2021-11-30T14:21:02.660313Z",
     "shell.execute_reply.started": "2021-11-30T13:23:37.967003Z"
    },
    "papermill": {
     "duration": 0.122265,
     "end_time": "2021-11-30T14:21:02.661217",
     "exception": false,
     "start_time": "2021-11-30T14:21:02.538952",
     "status": "completed"
    },
    "tags": [],
    "ExecuteTime": {
     "start_time": "2023-12-17T21:49:31.836381857Z"
    }
   },
   "outputs": [],
   "source": [
    "Pred_gene = PrettyTable([\"Model\", \"Average_F1_Score\"])\n",
    "Pred_gene.add_row(['KNN','28.50'])\n",
    "Pred_gene.add_row(['Logistic_Regression','25.80'])\n",
    "Pred_gene.add_row(['Decision_Tree','32.69'])\n",
    "Pred_gene.add_row(['RFC','31.49'])"
   ]
  },
  {
   "cell_type": "code",
   "execution_count": null,
   "id": "011a5e2e",
   "metadata": {
    "execution": {
     "iopub.execute_input": "2021-11-30T14:21:02.893006Z",
     "iopub.status.busy": "2021-11-30T14:21:02.892260Z",
     "iopub.status.idle": "2021-11-30T14:21:02.898090Z",
     "shell.execute_reply": "2021-11-30T14:21:02.898800Z",
     "shell.execute_reply.started": "2021-11-30T13:23:40.409930Z"
    },
    "papermill": {
     "duration": 0.122975,
     "end_time": "2021-11-30T14:21:02.898998",
     "exception": false,
     "start_time": "2021-11-30T14:21:02.776023",
     "status": "completed"
    },
    "tags": [],
    "ExecuteTime": {
     "start_time": "2023-12-17T21:49:31.836441910Z"
    }
   },
   "outputs": [],
   "source": [
    "print(Pred_gene)"
   ]
  },
  {
   "cell_type": "markdown",
   "id": "0fc5bad1",
   "metadata": {
    "papermill": {
     "duration": 0.11635,
     "end_time": "2021-11-30T14:21:03.130203",
     "exception": false,
     "start_time": "2021-11-30T14:21:03.013853",
     "status": "completed"
    },
    "tags": []
   },
   "source": [
    "#### Final Model"
   ]
  },
  {
   "cell_type": "code",
   "execution_count": null,
   "id": "f88f9802",
   "metadata": {
    "execution": {
     "iopub.execute_input": "2021-11-30T14:21:03.361585Z",
     "iopub.status.busy": "2021-11-30T14:21:03.360810Z",
     "iopub.status.idle": "2021-11-30T14:21:04.038950Z",
     "shell.execute_reply": "2021-11-30T14:21:04.038336Z",
     "shell.execute_reply.started": "2021-11-30T13:23:44.241439Z"
    },
    "papermill": {
     "duration": 0.794868,
     "end_time": "2021-11-30T14:21:04.039117",
     "exception": false,
     "start_time": "2021-11-30T14:21:03.244249",
     "status": "completed"
    },
    "tags": [],
    "ExecuteTime": {
     "start_time": "2023-12-17T21:49:31.836504358Z"
    }
   },
   "outputs": [],
   "source": [
    "DT = DecisionTreeClassifier(max_depth=20,min_samples_leaf=50,random_state=42)\n",
    "DT.fit(result_kbest_20,y1_enco)\n",
    "cal_clf = CalibratedClassifierCV(DT, method=\"sigmoid\")\n",
    "cal_clf.fit(result_kbest_20,y1_enco)\n",
    "predict_y =cal_clf .predict(result_kbest_20)\n",
    "print ('The train f1_macro is:',f1_score(y1_enco, predict_y,average='macro'))\n",
    "predict_y = cal_clf.predict(result_kbest_test20)"
   ]
  },
  {
   "cell_type": "code",
   "execution_count": null,
   "id": "66d5bb57",
   "metadata": {
    "execution": {
     "iopub.execute_input": "2021-11-30T14:21:04.272332Z",
     "iopub.status.busy": "2021-11-30T14:21:04.271596Z",
     "iopub.status.idle": "2021-11-30T14:21:04.274066Z",
     "shell.execute_reply": "2021-11-30T14:21:04.274670Z",
     "shell.execute_reply.started": "2021-11-30T13:23:51.328578Z"
    },
    "papermill": {
     "duration": 0.122509,
     "end_time": "2021-11-30T14:21:04.274874",
     "exception": false,
     "start_time": "2021-11-30T14:21:04.152365",
     "status": "completed"
    },
    "tags": [],
    "ExecuteTime": {
     "start_time": "2023-12-17T21:49:31.836568279Z"
    }
   },
   "outputs": [],
   "source": [
    "Genetic_disorder=lab_enc1.inverse_transform(predict_y)"
   ]
  },
  {
   "cell_type": "code",
   "execution_count": null,
   "id": "2c4731e2",
   "metadata": {
    "execution": {
     "iopub.execute_input": "2021-11-30T14:21:04.504191Z",
     "iopub.status.busy": "2021-11-30T14:21:04.503479Z",
     "iopub.status.idle": "2021-11-30T14:21:06.228590Z",
     "shell.execute_reply": "2021-11-30T14:21:06.229256Z",
     "shell.execute_reply.started": "2021-11-30T13:25:23.760921Z"
    },
    "papermill": {
     "duration": 1.842741,
     "end_time": "2021-11-30T14:21:06.229485",
     "exception": false,
     "start_time": "2021-11-30T14:21:04.386744",
     "status": "completed"
    },
    "tags": [],
    "ExecuteTime": {
     "start_time": "2023-12-17T21:49:31.836627210Z"
    }
   },
   "outputs": [],
   "source": [
    "DT = DecisionTreeClassifier(max_depth=20,min_samples_leaf=10,random_state=42)\n",
    "DT.fit(result_kbest_20d,y2_enco)\n",
    "cal_clf = CalibratedClassifierCV(DT, method=\"sigmoid\")\n",
    "cal_clf.fit(result_kbest_20d,y2_enco)\n",
    "predict_y =cal_clf .predict(result_kbest_20d)\n",
    "print ('The train f1_macro is:',f1_score(y2_enco, predict_y,average='macro'))\n",
    "predict_yd = cal_clf.predict(result_kbest_test20)"
   ]
  },
  {
   "cell_type": "code",
   "execution_count": null,
   "id": "4d66f845",
   "metadata": {
    "execution": {
     "iopub.execute_input": "2021-11-30T14:21:06.478259Z",
     "iopub.status.busy": "2021-11-30T14:21:06.477509Z",
     "iopub.status.idle": "2021-11-30T14:21:06.483001Z",
     "shell.execute_reply": "2021-11-30T14:21:06.483637Z",
     "shell.execute_reply.started": "2021-11-30T13:25:28.828171Z"
    },
    "papermill": {
     "duration": 0.131963,
     "end_time": "2021-11-30T14:21:06.483864",
     "exception": false,
     "start_time": "2021-11-30T14:21:06.351901",
     "status": "completed"
    },
    "tags": [],
    "ExecuteTime": {
     "start_time": "2023-12-17T21:49:31.836688476Z"
    }
   },
   "outputs": [],
   "source": [
    "Disorder_Subclass=lab_enc2.inverse_transform(predict_yd)"
   ]
  },
  {
   "cell_type": "code",
   "execution_count": null,
   "id": "a138b908",
   "metadata": {
    "execution": {
     "iopub.execute_input": "2021-11-30T14:21:06.726857Z",
     "iopub.status.busy": "2021-11-30T14:21:06.726098Z",
     "iopub.status.idle": "2021-11-30T14:21:06.763506Z",
     "shell.execute_reply": "2021-11-30T14:21:06.764150Z",
     "shell.execute_reply.started": "2021-11-30T13:27:01.956149Z"
    },
    "papermill": {
     "duration": 0.15979,
     "end_time": "2021-11-30T14:21:06.764399",
     "exception": false,
     "start_time": "2021-11-30T14:21:06.604609",
     "status": "completed"
    },
    "tags": [],
    "ExecuteTime": {
     "start_time": "2023-12-17T21:49:31.836804014Z"
    }
   },
   "outputs": [],
   "source": [
    "data_fea_test1=data_test[data_test.isnull().all(1)!=True]"
   ]
  },
  {
   "cell_type": "code",
   "execution_count": null,
   "id": "f6c73ecf",
   "metadata": {
    "execution": {
     "iopub.execute_input": "2021-11-30T14:21:07.016000Z",
     "iopub.status.busy": "2021-11-30T14:21:07.015234Z",
     "iopub.status.idle": "2021-11-30T14:21:07.062194Z",
     "shell.execute_reply": "2021-11-30T14:21:07.062840Z",
     "shell.execute_reply.started": "2021-11-30T13:28:28.817869Z"
    },
    "papermill": {
     "duration": 0.17469,
     "end_time": "2021-11-30T14:21:07.063047",
     "exception": false,
     "start_time": "2021-11-30T14:21:06.888357",
     "status": "completed"
    },
    "tags": [],
    "ExecuteTime": {
     "start_time": "2023-12-17T21:49:31.882971195Z"
    }
   },
   "outputs": [],
   "source": [
    "ids=data_fea_test1['Patient Id']\n",
    "output=pd.DataFrame({'Patient Id': ids,'Genetic_Disorder':Genetic_disorder,'Disorder_Subclass':Disorder_Subclass})\n",
    "output.to_csv('submission.csv',index=False)"
   ]
  },
  {
   "cell_type": "code",
   "execution_count": null,
   "id": "c3063d97",
   "metadata": {
    "papermill": {
     "duration": 0.118385,
     "end_time": "2021-11-30T14:21:07.301496",
     "exception": false,
     "start_time": "2021-11-30T14:21:07.183111",
     "status": "completed"
    },
    "tags": [],
    "ExecuteTime": {
     "start_time": "2023-12-17T21:49:31.883069411Z"
    }
   },
   "outputs": [],
   "source": []
  }
 ],
 "metadata": {
  "kernelspec": {
   "display_name": "Python 3",
   "language": "python",
   "name": "python3"
  },
  "language_info": {
   "codemirror_mode": {
    "name": "ipython",
    "version": 3
   },
   "file_extension": ".py",
   "mimetype": "text/x-python",
   "name": "python",
   "nbconvert_exporter": "python",
   "pygments_lexer": "ipython3",
   "version": "3.7.10"
  },
  "papermill": {
   "default_parameters": {},
   "duration": 3126.447888,
   "end_time": "2021-11-30T14:21:08.737580",
   "environment_variables": {},
   "exception": null,
   "input_path": "__notebook__.ipynb",
   "output_path": "__notebook__.ipynb",
   "parameters": {},
   "start_time": "2021-11-30T13:29:02.289692",
   "version": "2.3.3"
  }
 },
 "nbformat": 4,
 "nbformat_minor": 5
}
